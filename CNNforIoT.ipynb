{
  "cells": [
    {
      "cell_type": "markdown",
      "metadata": {
        "id": "view-in-github",
        "colab_type": "text"
      },
      "source": [
        "<a href=\"https://colab.research.google.com/github/AnovaYoung/IoT_PhysicalTherapy/blob/main/CNNforIoT.ipynb\" target=\"_parent\"><img src=\"https://colab.research.google.com/assets/colab-badge.svg\" alt=\"Open In Colab\"/></a>"
      ]
    },
    {
      "cell_type": "code",
      "execution_count": null,
      "metadata": {
        "id": "D3dMkBxAzi6x",
        "outputId": "38100e22-a53d-45ab-eed2-dbad31588f05"
      },
      "outputs": [
        {
          "name": "stdout",
          "output_type": "stream",
          "text": [
            "Files extracted to /Users/anovayoungers/Downloads/physical_therapy_dataset\n"
          ]
        }
      ],
      "source": [
        "from zipfile import ZipFile\n",
        "import os\n",
        "\n",
        "zip_file_path = '/Users/anovayoungers/Downloads/physical+therapy+exercises+dataset.zip'\n",
        "\n",
        "extraction_directory = '/Users/anovayoungers/Downloads/physical_therapy_dataset'\n",
        "\n",
        "with ZipFile(zip_file_path, 'r') as zip_ref:\n",
        "    zip_ref.extractall(extraction_directory)\n",
        "\n",
        "print(f'Files extracted to {extraction_directory}')\n"
      ]
    },
    {
      "cell_type": "code",
      "execution_count": null,
      "metadata": {
        "id": "m0RBjeKczi6z"
      },
      "outputs": [],
      "source": [
        "for root, dirs, files in os.walk(extraction_directory, topdown=True):\n",
        "    for name in files:\n",
        "        print(os.path.join(root, name))\n",
        "    for name in dirs:\n",
        "        print(os.path.join(root, name))\n"
      ]
    },
    {
      "cell_type": "code",
      "execution_count": null,
      "metadata": {
        "id": "8wU6x2S4zi60"
      },
      "outputs": [],
      "source": [
        "import pandas as pd\n",
        "\n",
        "def load_data(file_path):\n",
        "    \"\"\"Load data from a specified file path into a pandas DataFrame.\"\"\"\n",
        "    try:\n",
        "        data = pd.read_csv(file_path, sep=\"\\t\", header=None)\n",
        "        return data\n",
        "    except Exception as e:\n",
        "        print(f\"Error loading {file_path}: {e}\")\n",
        "        return None\n"
      ]
    },
    {
      "cell_type": "code",
      "execution_count": null,
      "metadata": {
        "id": "855kX7Oxzi60",
        "outputId": "5196d61f-92b7-4d27-fa8c-47caab8d9f2a"
      },
      "outputs": [
        {
          "name": "stdout",
          "output_type": "stream",
          "text": [
            "                                                   0\n",
            "0  time index;acc_x;acc_y;acc_z;gyr_x;gyr_y;gyr_z...\n",
            "1  1;-9.685645;-1.645149;0.505022;-0.020696;0.009...\n",
            "2  2;-9.648184;-1.645353;0.513125;-0.008165;-0.00...\n",
            "3  3;-9.70057;-1.615223;0.512321;-0.004447;0.0110...\n",
            "4  4;-9.685627;-1.630183;0.497591;-0.02611;0.0091...\n"
          ]
        }
      ],
      "source": [
        "file_path = '/Users/anovayoungers/Downloads/physical_therapy_dataset/s1/e1/u1/test.txt'\n",
        "data = load_data(file_path)\n",
        "print(data.head())"
      ]
    },
    {
      "cell_type": "code",
      "execution_count": null,
      "metadata": {
        "id": "GjER3rEGzi60",
        "outputId": "456bee02-857b-493c-c0c5-3f2576b6c591"
      },
      "outputs": [
        {
          "name": "stdout",
          "output_type": "stream",
          "text": [
            "   time index     acc_x     acc_y     acc_z     gyr_x     gyr_y     gyr_z  \\\n",
            "0           1  1.141452  9.587617  1.343498 -0.070101  0.005029 -0.011399   \n",
            "1           2  1.164059  9.602035  1.463472 -0.034009  0.010527 -0.011461   \n",
            "2           3  1.164136  9.639337  1.478518  0.002012 -0.015333 -0.011723   \n",
            "3           4  1.194045  9.661973  1.374475  0.020135 -0.000033 -0.011679   \n",
            "4           5  1.178997  9.647259  1.329349  0.025554  0.001804 -0.010769   \n",
            "\n",
            "      mag_x     mag_y     mag_z subject exercise sensor_unit  \n",
            "0 -0.445307 -0.798925 -0.107220      s5       e5          u1  \n",
            "1 -0.446360 -0.797980 -0.108362      s5       e5          u1  \n",
            "2 -0.445484 -0.798622 -0.111318      s5       e5          u1  \n",
            "3 -0.444755 -0.797540 -0.110497      s5       e5          u1  \n",
            "4 -0.444055 -0.797550 -0.108431      s5       e5          u1  \n",
            "   time index     acc_x     acc_y     acc_z     gyr_x     gyr_y     gyr_z  \\\n",
            "0           1  0.652541  9.682474 -1.445645 -0.009881  0.000176 -0.007806   \n",
            "1           2  0.607605  9.690158 -1.446384 -0.038668 -0.000065 -0.014955   \n",
            "2           3  0.675119  9.719565 -1.400331 -0.045991  0.009034 -0.005860   \n",
            "3           4  0.675125  9.719539 -1.392859 -0.020613 -0.003642 -0.016860   \n",
            "4           5  0.667579  9.674671 -1.370691 -0.022674  0.002134  0.003087   \n",
            "\n",
            "      mag_x     mag_y     mag_z subject exercise sensor_unit  \n",
            "0 -0.398344 -0.830576  0.107833      s5       e5          u1  \n",
            "1 -0.398873 -0.832188  0.105940      s5       e5          u1  \n",
            "2 -0.398443 -0.830836  0.106473      s5       e5          u1  \n",
            "3 -0.398376 -0.832162  0.103504      s5       e5          u1  \n",
            "4 -0.399067 -0.831104  0.105368      s5       e5          u1  \n",
            "   execution type  start    end subject exercise\n",
            "0               1  168.0  267.0      s5       e5\n",
            "1               2  519.0  588.0      s5       e5\n",
            "2               3  805.0  890.0      s5       e5\n",
            "3               1  175.0  315.0      s5       e2\n",
            "4               2  595.0  671.0      s5       e2\n"
          ]
        }
      ],
      "source": [
        "import os\n",
        "import pandas as pd\n",
        "\n",
        "def load_data_from_directory(directory_path):\n",
        "    sensor_data = []\n",
        "    session_metadata = []\n",
        "    times_metadata = []\n",
        "\n",
        "    for root, dirs, files in os.walk(directory_path, topdown=True):\n",
        "        parts = root.split(os.sep)\n",
        "        subject = next((part for part in parts if part.startswith('s')), None)\n",
        "        exercise = next((part for part in parts if part.startswith('e')), None)\n",
        "        sensor_unit = next((part for part in parts if part.startswith('u')), None)\n",
        "\n",
        "        for name in files:\n",
        "            file_path = os.path.join(root, name)\n",
        "            if name == 'test.txt':  # Load sensor data\n",
        "                data = pd.read_csv(file_path, sep=\";\", header=0)\n",
        "                data['subject'] = subject\n",
        "                data['exercise'] = exercise\n",
        "                data['sensor_unit'] = sensor_unit\n",
        "                sensor_data.append(data)\n",
        "            elif name == 'template_session.txt': # Load session data\n",
        "                session_data = pd.read_csv(file_path, sep=\";\", header=0)\n",
        "                session_data['subject'] = subject\n",
        "                session_data['exercise'] = exercise\n",
        "                session_data['sensor_unit'] = sensor_unit\n",
        "                session_metadata.append(session_data)\n",
        "            elif name == 'template_times.txt':  # Load times data\n",
        "                times_data = pd.read_csv(file_path, sep=\";\", header=0)\n",
        "                times_data['subject'] = subject\n",
        "                times_data['exercise'] = exercise\n",
        "\n",
        "                times_metadata.append(times_data)\n",
        "\n",
        "    # Combine all data into DataFrames\n",
        "    sensor_df = pd.concat(sensor_data, ignore_index=True)\n",
        "    session_df = pd.concat(session_metadata, ignore_index=True)\n",
        "    times_df = pd.concat(times_metadata, ignore_index=True)\n",
        "\n",
        "    return sensor_df, session_df, times_df\n",
        "\n",
        "extraction_directory = '/Users/anovayoungers/Downloads/physical_therapy_dataset'\n",
        "sensor_df, session_df, times_df = load_data_from_directory(extraction_directory)\n",
        "\n",
        "print(sensor_df.head())\n",
        "print(session_df.head())\n",
        "print(times_df.head())\n",
        "\n"
      ]
    },
    {
      "cell_type": "markdown",
      "metadata": {
        "id": "Lz8hep7Lzi60"
      },
      "source": [
        "Standardize the sensor data (features) to have a mean of 0 and a standard deviation of 1."
      ]
    },
    {
      "cell_type": "code",
      "execution_count": null,
      "metadata": {
        "id": "Oo08LgYRzi61",
        "outputId": "c4645a75-d5e4-4b19-f8e5-7bd9d04428b0"
      },
      "outputs": [
        {
          "name": "stdout",
          "output_type": "stream",
          "text": [
            "   time index     acc_x     acc_y     acc_z     gyr_x     gyr_y     gyr_z  \\\n",
            "0           1  1.141452  9.587617  1.343498 -0.070101  0.005029 -0.011399   \n",
            "1           2  1.164059  9.602035  1.463472 -0.034009  0.010527 -0.011461   \n",
            "2           3  1.164136  9.639337  1.478518  0.002012 -0.015333 -0.011723   \n",
            "3           4  1.194045  9.661973  1.374475  0.020135 -0.000033 -0.011679   \n",
            "4           5  1.178997  9.647259  1.329349  0.025554  0.001804 -0.010769   \n",
            "\n",
            "      mag_x     mag_y     mag_z subject exercise sensor_unit  \n",
            "0 -0.445307 -0.798925 -0.107220      s5       e5          u1  \n",
            "1 -0.446360 -0.797980 -0.108362      s5       e5          u1  \n",
            "2 -0.445484 -0.798622 -0.111318      s5       e5          u1  \n",
            "3 -0.444755 -0.797540 -0.110497      s5       e5          u1  \n",
            "4 -0.444055 -0.797550 -0.108431      s5       e5          u1  \n"
          ]
        }
      ],
      "source": [
        "print(sensor_df.head())"
      ]
    },
    {
      "cell_type": "code",
      "execution_count": null,
      "metadata": {
        "id": "B9O34dlazi62",
        "outputId": "e915aa9a-cd10-4585-b6e1-d987ee8ef89f"
      },
      "outputs": [
        {
          "name": "stdout",
          "output_type": "stream",
          "text": [
            "   time index     acc_x     acc_y     acc_z     gyr_x     gyr_y     gyr_z  \\\n",
            "0           1  0.652541  9.682474 -1.445645 -0.009881  0.000176 -0.007806   \n",
            "1           2  0.607605  9.690158 -1.446384 -0.038668 -0.000065 -0.014955   \n",
            "2           3  0.675119  9.719565 -1.400331 -0.045991  0.009034 -0.005860   \n",
            "3           4  0.675125  9.719539 -1.392859 -0.020613 -0.003642 -0.016860   \n",
            "4           5  0.667579  9.674671 -1.370691 -0.022674  0.002134  0.003087   \n",
            "\n",
            "      mag_x     mag_y     mag_z subject exercise sensor_unit  \n",
            "0 -0.398344 -0.830576  0.107833      s5       e5          u1  \n",
            "1 -0.398873 -0.832188  0.105940      s5       e5          u1  \n",
            "2 -0.398443 -0.830836  0.106473      s5       e5          u1  \n",
            "3 -0.398376 -0.832162  0.103504      s5       e5          u1  \n",
            "4 -0.399067 -0.831104  0.105368      s5       e5          u1  \n"
          ]
        }
      ],
      "source": [
        "print(session_df.head())"
      ]
    },
    {
      "cell_type": "code",
      "execution_count": null,
      "metadata": {
        "id": "Qw99M7T1zi62",
        "outputId": "2540b29a-fb6a-4ce5-b1b0-62d798d0c15f"
      },
      "outputs": [
        {
          "name": "stdout",
          "output_type": "stream",
          "text": [
            "  subject_ exercise_ sensor_unit_  time index_mean  time index_std  \\\n",
            "0       s1        e1           u1           2975.0     1717.472707   \n",
            "1       s1        e1           u2           2975.0     1717.472707   \n",
            "2       s1        e1           u3           2975.0     1717.472707   \n",
            "3       s1        e1           u4           2975.0     1717.472707   \n",
            "4       s1        e1           u5           2975.0     1717.472707   \n",
            "\n",
            "   time index_min  time index_max  acc_x_mean  acc_x_std  acc_x_min  ...  \\\n",
            "0               1            5949   -9.663837   0.021150  -9.765497  ...   \n",
            "1               1            5949   -5.558458   3.888564 -10.374365  ...   \n",
            "2               1            5949   -2.946522   0.462521  -3.718682  ...   \n",
            "3               1            5949    8.923568   0.091607   8.582313  ...   \n",
            "4               1            5949   -4.107289   0.057026  -4.253123  ...   \n",
            "\n",
            "   mag_x_min  mag_x_max  mag_y_mean  mag_y_std  mag_y_min  mag_y_max  \\\n",
            "0   0.582867   0.593496    0.455263   0.002829   0.444748   0.462438   \n",
            "1  -0.420615   0.652417   -0.641974   0.096154  -0.771160  -0.451231   \n",
            "2  -0.284853  -0.151752   -0.782044   0.017029  -0.806238  -0.750599   \n",
            "3  -0.555550  -0.484590   -0.005759   0.008999  -0.071297   0.021140   \n",
            "4  -0.017897   0.005474    0.724568   0.002046   0.719066   0.730089   \n",
            "\n",
            "   mag_z_mean  mag_z_std  mag_z_min  mag_z_max  \n",
            "0   -0.074380   0.013751  -0.098125  -0.050287  \n",
            "1   -0.098371   0.050897  -0.164026   0.003370  \n",
            "2   -0.136818   0.048348  -0.197025  -0.048058  \n",
            "3   -0.591612   0.011093  -0.619806  -0.557784  \n",
            "4    0.234907   0.005517   0.219790   0.248072  \n",
            "\n",
            "[5 rows x 43 columns]\n"
          ]
        }
      ],
      "source": [
        "import pandas as pd\n",
        "from sklearn.preprocessing import LabelEncoder\n",
        "\n",
        "grouped = sensor_df.groupby(['subject', 'exercise', 'sensor_unit'])\n",
        "\n",
        "aggregated_features = grouped.agg(['mean', 'std', 'min', 'max']).reset_index()\n",
        "\n",
        "# Flatten MultiIndex columns\n",
        "aggregated_features.columns = ['_'.join(col).strip() for col in aggregated_features.columns.values]\n",
        "\n",
        "print(aggregated_features.head())\n"
      ]
    },
    {
      "cell_type": "markdown",
      "metadata": {
        "id": "yJ32wu5nzi62"
      },
      "source": [
        "I need to encode the categorical 'Exercise' column numerically"
      ]
    },
    {
      "cell_type": "code",
      "execution_count": null,
      "metadata": {
        "id": "6wRqwpaDzi62",
        "outputId": "96783234-8cc7-4bf5-d50e-cce60cfe15d1"
      },
      "outputs": [
        {
          "name": "stdout",
          "output_type": "stream",
          "text": [
            "  exercise_  exercise_encoded\n",
            "0        e1                 0\n",
            "1        e1                 0\n",
            "2        e1                 0\n",
            "3        e1                 0\n",
            "4        e1                 0\n",
            "Label Mapping: {'e1': 0, 'e2': 1, 'e3': 2, 'e4': 3, 'e5': 4, 'e6': 5, 'e7': 6, 'e8': 7}\n"
          ]
        }
      ],
      "source": [
        "label_encoder = LabelEncoder()\n",
        "\n",
        "aggregated_features['exercise_encoded'] = label_encoder.fit_transform(aggregated_features['exercise_'])\n",
        "\n",
        "print(aggregated_features[['exercise_', 'exercise_encoded']].head())\n",
        "\n",
        "label_mapping = dict(zip(label_encoder.classes_, label_encoder.transform(label_encoder.classes_)))\n",
        "print(\"Label Mapping:\", label_mapping)\n"
      ]
    },
    {
      "cell_type": "markdown",
      "metadata": {
        "id": "ouq3Sq4Uzi62"
      },
      "source": [
        "Create feature vector 'X' and label-vector 'y'"
      ]
    },
    {
      "cell_type": "code",
      "execution_count": null,
      "metadata": {
        "id": "lgNrjqO_zi62",
        "outputId": "010d5707-3d05-48ca-a279-5126a378f330"
      },
      "outputs": [
        {
          "name": "stdout",
          "output_type": "stream",
          "text": [
            "X shape: (200, 40)\n",
            "y shape: (200,)\n"
          ]
        }
      ],
      "source": [
        "X = aggregated_features.drop(['subject_', 'exercise_', 'sensor_unit_', 'exercise_encoded'], axis=1)\n",
        "\n",
        "y = aggregated_features['exercise_encoded']\n",
        "\n",
        "print(\"X shape:\", X.shape)\n",
        "print(\"y shape:\", y.shape)\n"
      ]
    },
    {
      "cell_type": "markdown",
      "metadata": {
        "id": "JpkGJhkqzi63"
      },
      "source": [
        "Normalize the feature data"
      ]
    },
    {
      "cell_type": "code",
      "execution_count": null,
      "metadata": {
        "id": "GIP6uQfQzi63"
      },
      "outputs": [],
      "source": [
        "from sklearn.preprocessing import StandardScaler\n",
        "scaler = StandardScaler()\n",
        "X_scaled = scaler.fit_transform(X)"
      ]
    },
    {
      "cell_type": "code",
      "execution_count": null,
      "metadata": {
        "id": "DjMzCjAnzi63",
        "outputId": "8a48e261-8d66-4630-e852-6515ae1d7eff"
      },
      "outputs": [
        {
          "name": "stdout",
          "output_type": "stream",
          "text": [
            "X_reshaped shape: (200, 40, 1)\n"
          ]
        }
      ],
      "source": [
        "X_reshaped = X_scaled.reshape((X_scaled.shape[0], X_scaled.shape[1], 1))\n",
        "print(\"X_reshaped shape:\", X_reshaped.shape)"
      ]
    },
    {
      "cell_type": "code",
      "execution_count": null,
      "metadata": {
        "id": "dmb2U9eezi63",
        "outputId": "72432056-9dcc-428d-8244-f69ff3a7eedb"
      },
      "outputs": [
        {
          "name": "stdout",
          "output_type": "stream",
          "text": [
            "X_train shape: (160, 40, 1)\n",
            "X_test shape: (40, 40, 1)\n",
            "y_train shape: (160,)\n",
            "y_test shape: (40,)\n"
          ]
        }
      ],
      "source": [
        "from sklearn.model_selection import train_test_split\n",
        "\n",
        "X_train, X_test, y_train, y_test = train_test_split(X_reshaped, y, test_size=0.2, random_state=42)\n",
        "\n",
        "print(\"X_train shape:\", X_train.shape)\n",
        "print(\"X_test shape:\", X_test.shape)\n",
        "print(\"y_train shape:\", y_train.shape)\n",
        "print(\"y_test shape:\", y_test.shape)\n"
      ]
    },
    {
      "cell_type": "code",
      "execution_count": null,
      "metadata": {
        "id": "Wc12CpAczi63",
        "outputId": "c403994b-88f8-4db7-c321-8d3af9095fda"
      },
      "outputs": [
        {
          "name": "stdout",
          "output_type": "stream",
          "text": [
            "Model: \"sequential_3\"\n",
            "_________________________________________________________________\n",
            " Layer (type)                Output Shape              Param #   \n",
            "=================================================================\n",
            " conv1d_5 (Conv1D)           (None, 38, 64)            256       \n",
            "                                                                 \n",
            " max_pooling1d_5 (MaxPoolin  (None, 19, 64)            0         \n",
            " g1D)                                                            \n",
            "                                                                 \n",
            " dropout_3 (Dropout)         (None, 19, 64)            0         \n",
            "                                                                 \n",
            " flatten_3 (Flatten)         (None, 1216)              0         \n",
            "                                                                 \n",
            " dense_6 (Dense)             (None, 100)               121700    \n",
            "                                                                 \n",
            " dense_7 (Dense)             (None, 8)                 808       \n",
            "                                                                 \n",
            "=================================================================\n",
            "Total params: 122764 (479.55 KB)\n",
            "Trainable params: 122764 (479.55 KB)\n",
            "Non-trainable params: 0 (0.00 Byte)\n",
            "_________________________________________________________________\n"
          ]
        }
      ],
      "source": [
        "from tensorflow.keras.models import Sequential\n",
        "from tensorflow.keras.layers import Conv1D, MaxPooling1D, Flatten, Dense, Dropout\n",
        "from tensorflow.keras.utils import to_categorical\n",
        "\n",
        "\n",
        "y_train_categorical = to_categorical(y_train, num_classes=8)\n",
        "y_test_categorical = to_categorical(y_test, num_classes=8)\n",
        "\n",
        "model = Sequential([\n",
        "    Conv1D(filters=64, kernel_size=3, activation='relu', input_shape=(40, 1)),\n",
        "    MaxPooling1D(pool_size=2),\n",
        "    Dropout(0.5),\n",
        "    Flatten(),\n",
        "    Dense(100, activation='relu'),\n",
        "    Dense(8, activation='softmax')\n",
        "])\n",
        "model.summary()"
      ]
    },
    {
      "cell_type": "code",
      "execution_count": null,
      "metadata": {
        "id": "xFECyvlszi63",
        "outputId": "126c4e7a-93e4-4cce-9b2f-f066a0da3192"
      },
      "outputs": [
        {
          "name": "stdout",
          "output_type": "stream",
          "text": [
            "Epoch 1/50\n",
            "5/5 [==============================] - 0s 24ms/step - loss: 0.4824 - accuracy: 0.8375 - val_loss: 1.1343 - val_accuracy: 0.5250\n",
            "Epoch 2/50\n",
            "5/5 [==============================] - 0s 5ms/step - loss: 0.4605 - accuracy: 0.8438 - val_loss: 1.0600 - val_accuracy: 0.5500\n",
            "Epoch 3/50\n",
            "5/5 [==============================] - 0s 5ms/step - loss: 0.4181 - accuracy: 0.8875 - val_loss: 0.9778 - val_accuracy: 0.5750\n",
            "Epoch 4/50\n",
            "5/5 [==============================] - 0s 5ms/step - loss: 0.4339 - accuracy: 0.8750 - val_loss: 0.9948 - val_accuracy: 0.6000\n",
            "Epoch 5/50\n",
            "5/5 [==============================] - 0s 5ms/step - loss: 0.4235 - accuracy: 0.8500 - val_loss: 1.0420 - val_accuracy: 0.5750\n",
            "Epoch 6/50\n",
            "5/5 [==============================] - 0s 5ms/step - loss: 0.3991 - accuracy: 0.8562 - val_loss: 1.0241 - val_accuracy: 0.5750\n",
            "Epoch 7/50\n",
            "5/5 [==============================] - 0s 5ms/step - loss: 0.3470 - accuracy: 0.8875 - val_loss: 0.9919 - val_accuracy: 0.5750\n",
            "Epoch 8/50\n",
            "5/5 [==============================] - 0s 5ms/step - loss: 0.3358 - accuracy: 0.8938 - val_loss: 0.9766 - val_accuracy: 0.5500\n",
            "Epoch 9/50\n",
            "5/5 [==============================] - 0s 6ms/step - loss: 0.3479 - accuracy: 0.8938 - val_loss: 0.9125 - val_accuracy: 0.6000\n",
            "Epoch 10/50\n",
            "5/5 [==============================] - 0s 6ms/step - loss: 0.3159 - accuracy: 0.9125 - val_loss: 0.9233 - val_accuracy: 0.5250\n",
            "Epoch 11/50\n",
            "5/5 [==============================] - 0s 6ms/step - loss: 0.3250 - accuracy: 0.9062 - val_loss: 1.0125 - val_accuracy: 0.5750\n",
            "Epoch 12/50\n",
            "5/5 [==============================] - 0s 5ms/step - loss: 0.3081 - accuracy: 0.9250 - val_loss: 0.9312 - val_accuracy: 0.5500\n",
            "Epoch 13/50\n",
            "5/5 [==============================] - 0s 6ms/step - loss: 0.2975 - accuracy: 0.9438 - val_loss: 0.9229 - val_accuracy: 0.5750\n",
            "Epoch 14/50\n",
            "5/5 [==============================] - 0s 6ms/step - loss: 0.2897 - accuracy: 0.9250 - val_loss: 0.8684 - val_accuracy: 0.6250\n",
            "Epoch 15/50\n",
            "5/5 [==============================] - 0s 5ms/step - loss: 0.2661 - accuracy: 0.9250 - val_loss: 0.9153 - val_accuracy: 0.5750\n",
            "Epoch 16/50\n",
            "5/5 [==============================] - 0s 5ms/step - loss: 0.3078 - accuracy: 0.9062 - val_loss: 1.0048 - val_accuracy: 0.5500\n",
            "Epoch 17/50\n",
            "5/5 [==============================] - 0s 5ms/step - loss: 0.2560 - accuracy: 0.9438 - val_loss: 0.9723 - val_accuracy: 0.5500\n",
            "Epoch 18/50\n",
            "5/5 [==============================] - 0s 6ms/step - loss: 0.2489 - accuracy: 0.9187 - val_loss: 0.9611 - val_accuracy: 0.5750\n",
            "Epoch 19/50\n",
            "5/5 [==============================] - 0s 6ms/step - loss: 0.2689 - accuracy: 0.9250 - val_loss: 0.9187 - val_accuracy: 0.6000\n",
            "Epoch 20/50\n",
            "5/5 [==============================] - 0s 6ms/step - loss: 0.2653 - accuracy: 0.9250 - val_loss: 0.9017 - val_accuracy: 0.6000\n",
            "Epoch 21/50\n",
            "5/5 [==============================] - 0s 6ms/step - loss: 0.2661 - accuracy: 0.9312 - val_loss: 0.9047 - val_accuracy: 0.5750\n",
            "Epoch 22/50\n",
            "5/5 [==============================] - 0s 6ms/step - loss: 0.2391 - accuracy: 0.9438 - val_loss: 1.1013 - val_accuracy: 0.5750\n",
            "Epoch 23/50\n",
            "5/5 [==============================] - 0s 6ms/step - loss: 0.2166 - accuracy: 0.9312 - val_loss: 1.0872 - val_accuracy: 0.5750\n",
            "Epoch 24/50\n",
            "5/5 [==============================] - 0s 7ms/step - loss: 0.1973 - accuracy: 0.9625 - val_loss: 0.8348 - val_accuracy: 0.6250\n",
            "Epoch 25/50\n",
            "5/5 [==============================] - 0s 6ms/step - loss: 0.2255 - accuracy: 0.9375 - val_loss: 0.8478 - val_accuracy: 0.5750\n",
            "Epoch 26/50\n",
            "5/5 [==============================] - 0s 6ms/step - loss: 0.1750 - accuracy: 0.9812 - val_loss: 0.9070 - val_accuracy: 0.6500\n",
            "Epoch 27/50\n",
            "5/5 [==============================] - 0s 11ms/step - loss: 0.2176 - accuracy: 0.9438 - val_loss: 0.9149 - val_accuracy: 0.6250\n",
            "Epoch 28/50\n",
            "5/5 [==============================] - 0s 7ms/step - loss: 0.2086 - accuracy: 0.9500 - val_loss: 0.9029 - val_accuracy: 0.6500\n",
            "Epoch 29/50\n",
            "5/5 [==============================] - 0s 6ms/step - loss: 0.1963 - accuracy: 0.9563 - val_loss: 1.0535 - val_accuracy: 0.5750\n",
            "Epoch 30/50\n",
            "5/5 [==============================] - 0s 6ms/step - loss: 0.2223 - accuracy: 0.9563 - val_loss: 1.2557 - val_accuracy: 0.5750\n",
            "Epoch 31/50\n",
            "5/5 [==============================] - 0s 6ms/step - loss: 0.1833 - accuracy: 0.9563 - val_loss: 1.2684 - val_accuracy: 0.6000\n",
            "Epoch 32/50\n",
            "5/5 [==============================] - 0s 6ms/step - loss: 0.1672 - accuracy: 0.9688 - val_loss: 1.0630 - val_accuracy: 0.5500\n",
            "Epoch 33/50\n",
            "5/5 [==============================] - 0s 6ms/step - loss: 0.1861 - accuracy: 0.9500 - val_loss: 0.9203 - val_accuracy: 0.6500\n",
            "Epoch 34/50\n",
            "1/5 [=====>........................] - ETA: 0s - loss: 0.1252 - accuracy: 1.0000Restoring model weights from the end of the best epoch: 24.\n",
            "5/5 [==============================] - 0s 6ms/step - loss: 0.1437 - accuracy: 0.9750 - val_loss: 0.9813 - val_accuracy: 0.6250\n",
            "Epoch 34: early stopping\n"
          ]
        }
      ],
      "source": [
        "from tensorflow.keras.callbacks import EarlyStopping\n",
        "\n",
        "model.compile(optimizer='adam', loss='categorical_crossentropy', metrics=['accuracy'])\n",
        "\n",
        "early_stopping = EarlyStopping(monitor='val_loss', patience=10, verbose=1, mode='min', restore_best_weights=True)\n",
        "\n",
        "history = model.fit(X_train, y_train_categorical, epochs=50, validation_data=(X_test, y_test_categorical),\n",
        "                    callbacks=[early_stopping], verbose=1)\n"
      ]
    },
    {
      "cell_type": "code",
      "execution_count": null,
      "metadata": {
        "id": "zp4WUHbDzi63",
        "outputId": "c217f499-3c5b-451b-d2b1-9263c64c3cdf"
      },
      "outputs": [
        {
          "name": "stdout",
          "output_type": "stream",
          "text": [
            "Model: \"sequential_25\"\n",
            "_________________________________________________________________\n",
            " Layer (type)                Output Shape              Param #   \n",
            "=================================================================\n",
            " conv1d_27 (Conv1D)          (None, 38, 64)            256       \n",
            "                                                                 \n",
            " max_pooling1d_27 (MaxPooli  (None, 19, 64)            0         \n",
            " ng1D)                                                           \n",
            "                                                                 \n",
            " dropout_25 (Dropout)        (None, 19, 64)            0         \n",
            "                                                                 \n",
            " flatten_25 (Flatten)        (None, 1216)              0         \n",
            "                                                                 \n",
            " dense_50 (Dense)            (None, 100)               121700    \n",
            "                                                                 \n",
            " dense_51 (Dense)            (None, 8)                 808       \n",
            "                                                                 \n",
            "=================================================================\n",
            "Total params: 122764 (479.55 KB)\n",
            "Trainable params: 122764 (479.55 KB)\n",
            "Non-trainable params: 0 (0.00 Byte)\n",
            "_________________________________________________________________\n"
          ]
        }
      ],
      "source": [
        "from tensorflow.keras import regularizers\n",
        "\n",
        "# CNN model with L2 regularization in the Dense layers\n",
        "model = Sequential([\n",
        "    Conv1D(filters=64, kernel_size=3, activation='relu', input_shape=(40, 1)),\n",
        "    MaxPooling1D(pool_size=2),\n",
        "    Dropout(0.5),\n",
        "    Flatten(),\n",
        "    Dense(100, activation='relu', kernel_regularizer=regularizers.l2(0.001)),  # Add L2 regularization\n",
        "    Dense(8, activation='softmax')\n",
        "])\n",
        "\n",
        "model.compile(optimizer='adam', loss='categorical_crossentropy', metrics=['accuracy'])\n",
        "\n",
        "model.summary()\n"
      ]
    },
    {
      "cell_type": "code",
      "execution_count": null,
      "metadata": {
        "id": "DAx9I95wzi64",
        "outputId": "20c0d95e-0c8b-40ed-c6c2-ae2304994004"
      },
      "outputs": [
        {
          "name": "stdout",
          "output_type": "stream",
          "text": [
            "Epoch 1/50\n",
            "5/5 [==============================] - 0s 24ms/step - loss: 0.5496 - accuracy: 0.8750 - val_loss: 0.9609 - val_accuracy: 0.6500\n",
            "Epoch 2/50\n",
            "5/5 [==============================] - 0s 5ms/step - loss: 0.4663 - accuracy: 0.9250 - val_loss: 0.9860 - val_accuracy: 0.6750\n",
            "Epoch 3/50\n",
            "5/5 [==============================] - 0s 5ms/step - loss: 0.5225 - accuracy: 0.9062 - val_loss: 1.0258 - val_accuracy: 0.6500\n",
            "Epoch 4/50\n",
            "5/5 [==============================] - 0s 5ms/step - loss: 0.4992 - accuracy: 0.8875 - val_loss: 1.0760 - val_accuracy: 0.6000\n",
            "Epoch 5/50\n",
            "5/5 [==============================] - 0s 5ms/step - loss: 0.4675 - accuracy: 0.9250 - val_loss: 1.1425 - val_accuracy: 0.6250\n",
            "Epoch 6/50\n",
            "5/5 [==============================] - 0s 5ms/step - loss: 0.4627 - accuracy: 0.9125 - val_loss: 1.0734 - val_accuracy: 0.6250\n",
            "Epoch 7/50\n",
            "5/5 [==============================] - 0s 5ms/step - loss: 0.4859 - accuracy: 0.8687 - val_loss: 0.9754 - val_accuracy: 0.6250\n",
            "Epoch 8/50\n",
            "5/5 [==============================] - 0s 5ms/step - loss: 0.4344 - accuracy: 0.9563 - val_loss: 0.9801 - val_accuracy: 0.6250\n",
            "Epoch 9/50\n",
            "5/5 [==============================] - 0s 5ms/step - loss: 0.3961 - accuracy: 0.9625 - val_loss: 1.0140 - val_accuracy: 0.6250\n",
            "Epoch 10/50\n",
            "5/5 [==============================] - 0s 5ms/step - loss: 0.4500 - accuracy: 0.9500 - val_loss: 1.0890 - val_accuracy: 0.6750\n",
            "Epoch 11/50\n",
            "5/5 [==============================] - 0s 6ms/step - loss: 0.4224 - accuracy: 0.9375 - val_loss: 1.1257 - val_accuracy: 0.6750\n",
            "Epoch 12/50\n",
            "5/5 [==============================] - 0s 8ms/step - loss: 0.3850 - accuracy: 0.9625 - val_loss: 1.1453 - val_accuracy: 0.6000\n",
            "Epoch 13/50\n",
            "5/5 [==============================] - 0s 5ms/step - loss: 0.3986 - accuracy: 0.9375 - val_loss: 1.1020 - val_accuracy: 0.6000\n",
            "Epoch 14/50\n",
            "5/5 [==============================] - 0s 5ms/step - loss: 0.4366 - accuracy: 0.9125 - val_loss: 1.0213 - val_accuracy: 0.6250\n",
            "Epoch 15/50\n",
            "5/5 [==============================] - 0s 5ms/step - loss: 0.4454 - accuracy: 0.9125 - val_loss: 0.9766 - val_accuracy: 0.6000\n",
            "Epoch 16/50\n",
            "5/5 [==============================] - 0s 5ms/step - loss: 0.3942 - accuracy: 0.9500 - val_loss: 0.9800 - val_accuracy: 0.7000\n",
            "Epoch 17/50\n",
            "5/5 [==============================] - 0s 5ms/step - loss: 0.4025 - accuracy: 0.9438 - val_loss: 1.0276 - val_accuracy: 0.6500\n",
            "Epoch 18/50\n",
            "5/5 [==============================] - 0s 5ms/step - loss: 0.4390 - accuracy: 0.8938 - val_loss: 1.1643 - val_accuracy: 0.6000\n",
            "Epoch 19/50\n",
            "5/5 [==============================] - 0s 5ms/step - loss: 0.4143 - accuracy: 0.9312 - val_loss: 1.0683 - val_accuracy: 0.6750\n",
            "Epoch 20/50\n",
            "5/5 [==============================] - 0s 5ms/step - loss: 0.4057 - accuracy: 0.9250 - val_loss: 1.0609 - val_accuracy: 0.6000\n",
            "Epoch 21/50\n",
            "5/5 [==============================] - 0s 5ms/step - loss: 0.3754 - accuracy: 0.9563 - val_loss: 1.2447 - val_accuracy: 0.6250\n",
            "Epoch 22/50\n",
            "5/5 [==============================] - 0s 5ms/step - loss: 0.3932 - accuracy: 0.9563 - val_loss: 1.2599 - val_accuracy: 0.6000\n",
            "Epoch 23/50\n",
            "5/5 [==============================] - 0s 5ms/step - loss: 0.3792 - accuracy: 0.9625 - val_loss: 1.2475 - val_accuracy: 0.6000\n",
            "Epoch 24/50\n",
            "5/5 [==============================] - 0s 5ms/step - loss: 0.3785 - accuracy: 0.9500 - val_loss: 1.2073 - val_accuracy: 0.5750\n",
            "Epoch 25/50\n",
            "5/5 [==============================] - 0s 5ms/step - loss: 0.3706 - accuracy: 0.9500 - val_loss: 1.3036 - val_accuracy: 0.6250\n",
            "Epoch 26/50\n",
            "5/5 [==============================] - 0s 5ms/step - loss: 0.3548 - accuracy: 0.9625 - val_loss: 1.2701 - val_accuracy: 0.6500\n",
            "Epoch 27/50\n",
            "5/5 [==============================] - 0s 5ms/step - loss: 0.3240 - accuracy: 0.9563 - val_loss: 1.1536 - val_accuracy: 0.6000\n",
            "Epoch 28/50\n",
            "5/5 [==============================] - 0s 5ms/step - loss: 0.3242 - accuracy: 0.9563 - val_loss: 1.1307 - val_accuracy: 0.6000\n",
            "Epoch 29/50\n",
            "5/5 [==============================] - 0s 5ms/step - loss: 0.3317 - accuracy: 0.9625 - val_loss: 1.1131 - val_accuracy: 0.5750\n",
            "Epoch 30/50\n",
            "5/5 [==============================] - 0s 5ms/step - loss: 0.3397 - accuracy: 0.9688 - val_loss: 1.1813 - val_accuracy: 0.6000\n",
            "Epoch 31/50\n",
            "5/5 [==============================] - 0s 5ms/step - loss: 0.3877 - accuracy: 0.9375 - val_loss: 1.2332 - val_accuracy: 0.6750\n",
            "Epoch 32/50\n",
            "5/5 [==============================] - 0s 5ms/step - loss: 0.3567 - accuracy: 0.9625 - val_loss: 1.3464 - val_accuracy: 0.6500\n",
            "Epoch 33/50\n",
            "5/5 [==============================] - 0s 5ms/step - loss: 0.3242 - accuracy: 0.9625 - val_loss: 1.3617 - val_accuracy: 0.6750\n",
            "Epoch 34/50\n",
            "5/5 [==============================] - 0s 5ms/step - loss: 0.3523 - accuracy: 0.9625 - val_loss: 1.2058 - val_accuracy: 0.6250\n",
            "Epoch 35/50\n",
            "5/5 [==============================] - 0s 5ms/step - loss: 0.3599 - accuracy: 0.9500 - val_loss: 1.1556 - val_accuracy: 0.6250\n",
            "Epoch 36/50\n",
            "5/5 [==============================] - 0s 6ms/step - loss: 0.3170 - accuracy: 0.9563 - val_loss: 1.0916 - val_accuracy: 0.7250\n",
            "Epoch 37/50\n",
            "5/5 [==============================] - 0s 5ms/step - loss: 0.3494 - accuracy: 0.9438 - val_loss: 1.1266 - val_accuracy: 0.6500\n",
            "Epoch 38/50\n",
            "5/5 [==============================] - 0s 5ms/step - loss: 0.2883 - accuracy: 0.9812 - val_loss: 1.1641 - val_accuracy: 0.6250\n",
            "Epoch 39/50\n",
            "5/5 [==============================] - 0s 5ms/step - loss: 0.3320 - accuracy: 0.9688 - val_loss: 1.0802 - val_accuracy: 0.6000\n",
            "Epoch 40/50\n",
            "5/5 [==============================] - 0s 5ms/step - loss: 0.2995 - accuracy: 0.9688 - val_loss: 1.1143 - val_accuracy: 0.6750\n",
            "Epoch 41/50\n",
            "5/5 [==============================] - 0s 5ms/step - loss: 0.3002 - accuracy: 0.9750 - val_loss: 1.1694 - val_accuracy: 0.6750\n",
            "Epoch 42/50\n",
            "5/5 [==============================] - 0s 5ms/step - loss: 0.3621 - accuracy: 0.9563 - val_loss: 1.1337 - val_accuracy: 0.6000\n",
            "Epoch 43/50\n",
            "5/5 [==============================] - 0s 5ms/step - loss: 0.3590 - accuracy: 0.9688 - val_loss: 1.1290 - val_accuracy: 0.6500\n",
            "Epoch 44/50\n",
            "5/5 [==============================] - 0s 6ms/step - loss: 0.3161 - accuracy: 0.9688 - val_loss: 1.4168 - val_accuracy: 0.6000\n",
            "Epoch 45/50\n",
            "5/5 [==============================] - 0s 8ms/step - loss: 0.3228 - accuracy: 0.9625 - val_loss: 1.4007 - val_accuracy: 0.6000\n",
            "Epoch 46/50\n",
            "5/5 [==============================] - 0s 5ms/step - loss: 0.2935 - accuracy: 0.9875 - val_loss: 1.2785 - val_accuracy: 0.6000\n",
            "Epoch 47/50\n",
            "5/5 [==============================] - 0s 5ms/step - loss: 0.3068 - accuracy: 0.9688 - val_loss: 1.2627 - val_accuracy: 0.6250\n",
            "Epoch 48/50\n",
            "5/5 [==============================] - 0s 5ms/step - loss: 0.2978 - accuracy: 0.9625 - val_loss: 1.2577 - val_accuracy: 0.6250\n",
            "Epoch 49/50\n",
            "5/5 [==============================] - 0s 5ms/step - loss: 0.3251 - accuracy: 0.9625 - val_loss: 0.9872 - val_accuracy: 0.7750\n",
            "Epoch 50/50\n",
            "5/5 [==============================] - 0s 5ms/step - loss: 0.3410 - accuracy: 0.9625 - val_loss: 0.9528 - val_accuracy: 0.6500\n"
          ]
        }
      ],
      "source": [
        "from tensorflow.keras.callbacks import EarlyStopping\n",
        "\n",
        "model.compile(optimizer='adam', loss='categorical_crossentropy', metrics=['accuracy'])\n",
        "\n",
        "\n",
        "history = model.fit(X_train, y_train_categorical, epochs=50, validation_data=(X_test, y_test_categorical), verbose=1)\n"
      ]
    },
    {
      "cell_type": "code",
      "execution_count": null,
      "metadata": {
        "id": "38kiHKUmzi64",
        "outputId": "5070a509-e4cd-4b43-e2e6-cc8a9b58a154"
      },
      "outputs": [
        {
          "name": "stdout",
          "output_type": "stream",
          "text": [
            "       loss  accuracy  val_loss  val_accuracy  epoch\n",
            "0  0.549611   0.87500  0.960921         0.650      1\n",
            "1  0.466345   0.92500  0.985989         0.675      2\n",
            "2  0.522523   0.90625  1.025814         0.650      3\n",
            "3  0.499228   0.88750  1.076046         0.600      4\n",
            "4  0.467484   0.92500  1.142516         0.625      5\n"
          ]
        }
      ],
      "source": [
        "history_df = pd.DataFrame(history.history)\n",
        "\n",
        "history_df['epoch'] = history_df.index + 1\n",
        "\n",
        "print(history_df.head())\n",
        "\n",
        "history_df.to_csv('/Users/anovayoungers/Downloads/model_performance.csv', index=False)"
      ]
    }
  ],
  "metadata": {
    "kernelspec": {
      "display_name": "base",
      "language": "python",
      "name": "python3"
    },
    "language_info": {
      "codemirror_mode": {
        "name": "ipython",
        "version": 3
      },
      "file_extension": ".py",
      "mimetype": "text/x-python",
      "name": "python",
      "nbconvert_exporter": "python",
      "pygments_lexer": "ipython3",
      "version": "3.11.4"
    },
    "colab": {
      "provenance": [],
      "include_colab_link": true
    }
  },
  "nbformat": 4,
  "nbformat_minor": 0
}