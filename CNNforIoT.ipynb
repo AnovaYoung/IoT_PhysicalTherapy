{
  "cells": [
    {
      "cell_type": "markdown",
      "metadata": {
        "id": "view-in-github",
        "colab_type": "text"
      },
      "source": [
        "<a href=\"https://colab.research.google.com/github/AnovaYoung/IoT_PhysicalTherapy/blob/main/CNNforIoT.ipynb\" target=\"_parent\"><img src=\"https://colab.research.google.com/assets/colab-badge.svg\" alt=\"Open In Colab\"/></a>"
      ]
    },
    {
      "cell_type": "code",
      "execution_count": null,
      "metadata": {
        "id": "AVIwR98eK-9n",
        "outputId": "0c28235e-d23b-477c-9465-93457e41ebcd"
      },
      "outputs": [
        {
          "name": "stdout",
          "output_type": "stream",
          "text": [
            "Files extracted to /Users/anovayoungers/Downloads/physical_therapy_dataset\n"
          ]
        }
      ],
      "source": [
        "from zipfile import ZipFile\n",
        "import os\n",
        "\n",
        "zip_file_path = '/Users/anovayoungers/Downloads/physical+therapy+exercises+dataset.zip'\n",
        "\n",
        "extraction_directory = '/Users/anovayoungers/Downloads/physical_therapy_dataset'\n",
        "\n",
        "with ZipFile(zip_file_path, 'r') as zip_ref:\n",
        "    zip_ref.extractall(extraction_directory)\n",
        "\n",
        "print(f'Files extracted to {extraction_directory}')\n"
      ]
    },
    {
      "cell_type": "code",
      "execution_count": null,
      "metadata": {
        "id": "atflFHz1K-9p",
        "outputId": "eaee4d20-d720-4bd5-e3bf-661b5fd2ffe1"
      },
      "outputs": [
        {
          "name": "stdout",
          "output_type": "stream",
          "text": [
            "/Users/anovayoungers/Downloads/physical_therapy_dataset/.DS_Store\n",
            "/Users/anovayoungers/Downloads/physical_therapy_dataset/Description.pdf\n",
            "/Users/anovayoungers/Downloads/physical_therapy_dataset/s5\n",
            "/Users/anovayoungers/Downloads/physical_therapy_dataset/s2\n",
            "/Users/anovayoungers/Downloads/physical_therapy_dataset/s3\n",
            "/Users/anovayoungers/Downloads/physical_therapy_dataset/s4\n",
            "/Users/anovayoungers/Downloads/physical_therapy_dataset/s1\n",
            "/Users/anovayoungers/Downloads/physical_therapy_dataset/s5/e5\n",
            "/Users/anovayoungers/Downloads/physical_therapy_dataset/s5/e2\n",
            "/Users/anovayoungers/Downloads/physical_therapy_dataset/s5/e3\n",
            "/Users/anovayoungers/Downloads/physical_therapy_dataset/s5/e4\n",
            "/Users/anovayoungers/Downloads/physical_therapy_dataset/s5/e1\n",
            "/Users/anovayoungers/Downloads/physical_therapy_dataset/s5/e6\n",
            "/Users/anovayoungers/Downloads/physical_therapy_dataset/s5/e8\n",
            "/Users/anovayoungers/Downloads/physical_therapy_dataset/s5/e7\n",
            "/Users/anovayoungers/Downloads/physical_therapy_dataset/s5/e5/template_times.txt\n",
            "/Users/anovayoungers/Downloads/physical_therapy_dataset/s5/e5/u1\n",
            "/Users/anovayoungers/Downloads/physical_therapy_dataset/s5/e5/u3\n",
            "/Users/anovayoungers/Downloads/physical_therapy_dataset/s5/e5/u4\n",
            "/Users/anovayoungers/Downloads/physical_therapy_dataset/s5/e5/u5\n",
            "/Users/anovayoungers/Downloads/physical_therapy_dataset/s5/e5/u2\n",
            "/Users/anovayoungers/Downloads/physical_therapy_dataset/s5/e5/u1/template_session.txt\n",
            "/Users/anovayoungers/Downloads/physical_therapy_dataset/s5/e5/u1/test.txt\n",
            "/Users/anovayoungers/Downloads/physical_therapy_dataset/s5/e5/u3/template_session.txt\n",
            "/Users/anovayoungers/Downloads/physical_therapy_dataset/s5/e5/u3/test.txt\n",
            "/Users/anovayoungers/Downloads/physical_therapy_dataset/s5/e5/u4/template_session.txt\n",
            "/Users/anovayoungers/Downloads/physical_therapy_dataset/s5/e5/u4/test.txt\n",
            "/Users/anovayoungers/Downloads/physical_therapy_dataset/s5/e5/u5/template_session.txt\n",
            "/Users/anovayoungers/Downloads/physical_therapy_dataset/s5/e5/u5/test.txt\n",
            "/Users/anovayoungers/Downloads/physical_therapy_dataset/s5/e5/u2/template_session.txt\n",
            "/Users/anovayoungers/Downloads/physical_therapy_dataset/s5/e5/u2/test.txt\n",
            "/Users/anovayoungers/Downloads/physical_therapy_dataset/s5/e2/template_times.txt\n",
            "/Users/anovayoungers/Downloads/physical_therapy_dataset/s5/e2/u1\n",
            "/Users/anovayoungers/Downloads/physical_therapy_dataset/s5/e2/u3\n",
            "/Users/anovayoungers/Downloads/physical_therapy_dataset/s5/e2/u4\n",
            "/Users/anovayoungers/Downloads/physical_therapy_dataset/s5/e2/u5\n",
            "/Users/anovayoungers/Downloads/physical_therapy_dataset/s5/e2/u2\n",
            "/Users/anovayoungers/Downloads/physical_therapy_dataset/s5/e2/u1/template_session.txt\n",
            "/Users/anovayoungers/Downloads/physical_therapy_dataset/s5/e2/u1/test.txt\n",
            "/Users/anovayoungers/Downloads/physical_therapy_dataset/s5/e2/u3/template_session.txt\n",
            "/Users/anovayoungers/Downloads/physical_therapy_dataset/s5/e2/u3/test.txt\n",
            "/Users/anovayoungers/Downloads/physical_therapy_dataset/s5/e2/u4/template_session.txt\n",
            "/Users/anovayoungers/Downloads/physical_therapy_dataset/s5/e2/u4/test.txt\n",
            "/Users/anovayoungers/Downloads/physical_therapy_dataset/s5/e2/u5/template_session.txt\n",
            "/Users/anovayoungers/Downloads/physical_therapy_dataset/s5/e2/u5/test.txt\n",
            "/Users/anovayoungers/Downloads/physical_therapy_dataset/s5/e2/u2/template_session.txt\n",
            "/Users/anovayoungers/Downloads/physical_therapy_dataset/s5/e2/u2/test.txt\n",
            "/Users/anovayoungers/Downloads/physical_therapy_dataset/s5/e3/template_times.txt\n",
            "/Users/anovayoungers/Downloads/physical_therapy_dataset/s5/e3/u1\n",
            "/Users/anovayoungers/Downloads/physical_therapy_dataset/s5/e3/u3\n",
            "/Users/anovayoungers/Downloads/physical_therapy_dataset/s5/e3/u4\n",
            "/Users/anovayoungers/Downloads/physical_therapy_dataset/s5/e3/u5\n",
            "/Users/anovayoungers/Downloads/physical_therapy_dataset/s5/e3/u2\n",
            "/Users/anovayoungers/Downloads/physical_therapy_dataset/s5/e3/u1/template_session.txt\n",
            "/Users/anovayoungers/Downloads/physical_therapy_dataset/s5/e3/u1/test.txt\n",
            "/Users/anovayoungers/Downloads/physical_therapy_dataset/s5/e3/u3/template_session.txt\n",
            "/Users/anovayoungers/Downloads/physical_therapy_dataset/s5/e3/u3/test.txt\n",
            "/Users/anovayoungers/Downloads/physical_therapy_dataset/s5/e3/u4/template_session.txt\n",
            "/Users/anovayoungers/Downloads/physical_therapy_dataset/s5/e3/u4/test.txt\n",
            "/Users/anovayoungers/Downloads/physical_therapy_dataset/s5/e3/u5/template_session.txt\n",
            "/Users/anovayoungers/Downloads/physical_therapy_dataset/s5/e3/u5/test.txt\n",
            "/Users/anovayoungers/Downloads/physical_therapy_dataset/s5/e3/u2/template_session.txt\n",
            "/Users/anovayoungers/Downloads/physical_therapy_dataset/s5/e3/u2/test.txt\n",
            "/Users/anovayoungers/Downloads/physical_therapy_dataset/s5/e4/template_times.txt\n",
            "/Users/anovayoungers/Downloads/physical_therapy_dataset/s5/e4/u1\n",
            "/Users/anovayoungers/Downloads/physical_therapy_dataset/s5/e4/u3\n",
            "/Users/anovayoungers/Downloads/physical_therapy_dataset/s5/e4/u4\n",
            "/Users/anovayoungers/Downloads/physical_therapy_dataset/s5/e4/u5\n",
            "/Users/anovayoungers/Downloads/physical_therapy_dataset/s5/e4/u2\n",
            "/Users/anovayoungers/Downloads/physical_therapy_dataset/s5/e4/u1/template_session.txt\n",
            "/Users/anovayoungers/Downloads/physical_therapy_dataset/s5/e4/u1/test.txt\n",
            "/Users/anovayoungers/Downloads/physical_therapy_dataset/s5/e4/u3/template_session.txt\n",
            "/Users/anovayoungers/Downloads/physical_therapy_dataset/s5/e4/u3/test.txt\n",
            "/Users/anovayoungers/Downloads/physical_therapy_dataset/s5/e4/u4/template_session.txt\n",
            "/Users/anovayoungers/Downloads/physical_therapy_dataset/s5/e4/u4/test.txt\n",
            "/Users/anovayoungers/Downloads/physical_therapy_dataset/s5/e4/u5/template_session.txt\n",
            "/Users/anovayoungers/Downloads/physical_therapy_dataset/s5/e4/u5/test.txt\n",
            "/Users/anovayoungers/Downloads/physical_therapy_dataset/s5/e4/u2/template_session.txt\n",
            "/Users/anovayoungers/Downloads/physical_therapy_dataset/s5/e4/u2/test.txt\n",
            "/Users/anovayoungers/Downloads/physical_therapy_dataset/s5/e1/template_times.txt\n",
            "/Users/anovayoungers/Downloads/physical_therapy_dataset/s5/e1/u1\n",
            "/Users/anovayoungers/Downloads/physical_therapy_dataset/s5/e1/u3\n",
            "/Users/anovayoungers/Downloads/physical_therapy_dataset/s5/e1/u4\n",
            "/Users/anovayoungers/Downloads/physical_therapy_dataset/s5/e1/u5\n",
            "/Users/anovayoungers/Downloads/physical_therapy_dataset/s5/e1/u2\n",
            "/Users/anovayoungers/Downloads/physical_therapy_dataset/s5/e1/u1/template_session.txt\n",
            "/Users/anovayoungers/Downloads/physical_therapy_dataset/s5/e1/u1/test.txt\n",
            "/Users/anovayoungers/Downloads/physical_therapy_dataset/s5/e1/u3/template_session.txt\n",
            "/Users/anovayoungers/Downloads/physical_therapy_dataset/s5/e1/u3/test.txt\n",
            "/Users/anovayoungers/Downloads/physical_therapy_dataset/s5/e1/u4/template_session.txt\n",
            "/Users/anovayoungers/Downloads/physical_therapy_dataset/s5/e1/u4/test.txt\n",
            "/Users/anovayoungers/Downloads/physical_therapy_dataset/s5/e1/u5/template_session.txt\n",
            "/Users/anovayoungers/Downloads/physical_therapy_dataset/s5/e1/u5/test.txt\n",
            "/Users/anovayoungers/Downloads/physical_therapy_dataset/s5/e1/u2/template_session.txt\n",
            "/Users/anovayoungers/Downloads/physical_therapy_dataset/s5/e1/u2/test.txt\n",
            "/Users/anovayoungers/Downloads/physical_therapy_dataset/s5/e6/template_times.txt\n",
            "/Users/anovayoungers/Downloads/physical_therapy_dataset/s5/e6/u1\n",
            "/Users/anovayoungers/Downloads/physical_therapy_dataset/s5/e6/u3\n",
            "/Users/anovayoungers/Downloads/physical_therapy_dataset/s5/e6/u4\n",
            "/Users/anovayoungers/Downloads/physical_therapy_dataset/s5/e6/u5\n",
            "/Users/anovayoungers/Downloads/physical_therapy_dataset/s5/e6/u2\n",
            "/Users/anovayoungers/Downloads/physical_therapy_dataset/s5/e6/u1/template_session.txt\n",
            "/Users/anovayoungers/Downloads/physical_therapy_dataset/s5/e6/u1/test.txt\n",
            "/Users/anovayoungers/Downloads/physical_therapy_dataset/s5/e6/u3/template_session.txt\n",
            "/Users/anovayoungers/Downloads/physical_therapy_dataset/s5/e6/u3/test.txt\n",
            "/Users/anovayoungers/Downloads/physical_therapy_dataset/s5/e6/u4/template_session.txt\n",
            "/Users/anovayoungers/Downloads/physical_therapy_dataset/s5/e6/u4/test.txt\n",
            "/Users/anovayoungers/Downloads/physical_therapy_dataset/s5/e6/u5/template_session.txt\n",
            "/Users/anovayoungers/Downloads/physical_therapy_dataset/s5/e6/u5/test.txt\n",
            "/Users/anovayoungers/Downloads/physical_therapy_dataset/s5/e6/u2/template_session.txt\n",
            "/Users/anovayoungers/Downloads/physical_therapy_dataset/s5/e6/u2/test.txt\n",
            "/Users/anovayoungers/Downloads/physical_therapy_dataset/s5/e8/template_times.txt\n",
            "/Users/anovayoungers/Downloads/physical_therapy_dataset/s5/e8/u1\n",
            "/Users/anovayoungers/Downloads/physical_therapy_dataset/s5/e8/u3\n",
            "/Users/anovayoungers/Downloads/physical_therapy_dataset/s5/e8/u4\n",
            "/Users/anovayoungers/Downloads/physical_therapy_dataset/s5/e8/u5\n",
            "/Users/anovayoungers/Downloads/physical_therapy_dataset/s5/e8/u2\n",
            "/Users/anovayoungers/Downloads/physical_therapy_dataset/s5/e8/u1/template_session.txt\n",
            "/Users/anovayoungers/Downloads/physical_therapy_dataset/s5/e8/u1/test.txt\n",
            "/Users/anovayoungers/Downloads/physical_therapy_dataset/s5/e8/u3/template_session.txt\n",
            "/Users/anovayoungers/Downloads/physical_therapy_dataset/s5/e8/u3/test.txt\n",
            "/Users/anovayoungers/Downloads/physical_therapy_dataset/s5/e8/u4/template_session.txt\n",
            "/Users/anovayoungers/Downloads/physical_therapy_dataset/s5/e8/u4/test.txt\n",
            "/Users/anovayoungers/Downloads/physical_therapy_dataset/s5/e8/u5/template_session.txt\n",
            "/Users/anovayoungers/Downloads/physical_therapy_dataset/s5/e8/u5/test.txt\n",
            "/Users/anovayoungers/Downloads/physical_therapy_dataset/s5/e8/u2/template_session.txt\n",
            "/Users/anovayoungers/Downloads/physical_therapy_dataset/s5/e8/u2/test.txt\n",
            "/Users/anovayoungers/Downloads/physical_therapy_dataset/s5/e7/template_times.txt\n",
            "/Users/anovayoungers/Downloads/physical_therapy_dataset/s5/e7/u1\n",
            "/Users/anovayoungers/Downloads/physical_therapy_dataset/s5/e7/u3\n",
            "/Users/anovayoungers/Downloads/physical_therapy_dataset/s5/e7/u4\n",
            "/Users/anovayoungers/Downloads/physical_therapy_dataset/s5/e7/u5\n",
            "/Users/anovayoungers/Downloads/physical_therapy_dataset/s5/e7/u2\n",
            "/Users/anovayoungers/Downloads/physical_therapy_dataset/s5/e7/u1/template_session.txt\n",
            "/Users/anovayoungers/Downloads/physical_therapy_dataset/s5/e7/u1/test.txt\n",
            "/Users/anovayoungers/Downloads/physical_therapy_dataset/s5/e7/u3/template_session.txt\n",
            "/Users/anovayoungers/Downloads/physical_therapy_dataset/s5/e7/u3/test.txt\n",
            "/Users/anovayoungers/Downloads/physical_therapy_dataset/s5/e7/u4/template_session.txt\n",
            "/Users/anovayoungers/Downloads/physical_therapy_dataset/s5/e7/u4/test.txt\n",
            "/Users/anovayoungers/Downloads/physical_therapy_dataset/s5/e7/u5/template_session.txt\n",
            "/Users/anovayoungers/Downloads/physical_therapy_dataset/s5/e7/u5/test.txt\n",
            "/Users/anovayoungers/Downloads/physical_therapy_dataset/s5/e7/u2/template_session.txt\n",
            "/Users/anovayoungers/Downloads/physical_therapy_dataset/s5/e7/u2/test.txt\n",
            "/Users/anovayoungers/Downloads/physical_therapy_dataset/s2/e5\n",
            "/Users/anovayoungers/Downloads/physical_therapy_dataset/s2/e2\n",
            "/Users/anovayoungers/Downloads/physical_therapy_dataset/s2/e3\n",
            "/Users/anovayoungers/Downloads/physical_therapy_dataset/s2/e4\n",
            "/Users/anovayoungers/Downloads/physical_therapy_dataset/s2/e1\n",
            "/Users/anovayoungers/Downloads/physical_therapy_dataset/s2/e6\n",
            "/Users/anovayoungers/Downloads/physical_therapy_dataset/s2/e8\n",
            "/Users/anovayoungers/Downloads/physical_therapy_dataset/s2/e7\n",
            "/Users/anovayoungers/Downloads/physical_therapy_dataset/s2/e5/template_times.txt\n",
            "/Users/anovayoungers/Downloads/physical_therapy_dataset/s2/e5/u1\n",
            "/Users/anovayoungers/Downloads/physical_therapy_dataset/s2/e5/u3\n",
            "/Users/anovayoungers/Downloads/physical_therapy_dataset/s2/e5/u4\n",
            "/Users/anovayoungers/Downloads/physical_therapy_dataset/s2/e5/u5\n",
            "/Users/anovayoungers/Downloads/physical_therapy_dataset/s2/e5/u2\n",
            "/Users/anovayoungers/Downloads/physical_therapy_dataset/s2/e5/u1/template_session.txt\n",
            "/Users/anovayoungers/Downloads/physical_therapy_dataset/s2/e5/u1/test.txt\n",
            "/Users/anovayoungers/Downloads/physical_therapy_dataset/s2/e5/u3/template_session.txt\n",
            "/Users/anovayoungers/Downloads/physical_therapy_dataset/s2/e5/u3/test.txt\n",
            "/Users/anovayoungers/Downloads/physical_therapy_dataset/s2/e5/u4/template_session.txt\n",
            "/Users/anovayoungers/Downloads/physical_therapy_dataset/s2/e5/u4/test.txt\n",
            "/Users/anovayoungers/Downloads/physical_therapy_dataset/s2/e5/u5/template_session.txt\n",
            "/Users/anovayoungers/Downloads/physical_therapy_dataset/s2/e5/u5/test.txt\n",
            "/Users/anovayoungers/Downloads/physical_therapy_dataset/s2/e5/u2/template_session.txt\n",
            "/Users/anovayoungers/Downloads/physical_therapy_dataset/s2/e5/u2/test.txt\n",
            "/Users/anovayoungers/Downloads/physical_therapy_dataset/s2/e2/template_times.txt\n",
            "/Users/anovayoungers/Downloads/physical_therapy_dataset/s2/e2/u1\n",
            "/Users/anovayoungers/Downloads/physical_therapy_dataset/s2/e2/u3\n",
            "/Users/anovayoungers/Downloads/physical_therapy_dataset/s2/e2/u4\n",
            "/Users/anovayoungers/Downloads/physical_therapy_dataset/s2/e2/u5\n",
            "/Users/anovayoungers/Downloads/physical_therapy_dataset/s2/e2/u2\n",
            "/Users/anovayoungers/Downloads/physical_therapy_dataset/s2/e2/u1/template_session.txt\n",
            "/Users/anovayoungers/Downloads/physical_therapy_dataset/s2/e2/u1/test.txt\n",
            "/Users/anovayoungers/Downloads/physical_therapy_dataset/s2/e2/u3/template_session.txt\n",
            "/Users/anovayoungers/Downloads/physical_therapy_dataset/s2/e2/u3/test.txt\n",
            "/Users/anovayoungers/Downloads/physical_therapy_dataset/s2/e2/u4/template_session.txt\n",
            "/Users/anovayoungers/Downloads/physical_therapy_dataset/s2/e2/u4/test.txt\n",
            "/Users/anovayoungers/Downloads/physical_therapy_dataset/s2/e2/u5/template_session.txt\n",
            "/Users/anovayoungers/Downloads/physical_therapy_dataset/s2/e2/u5/test.txt\n",
            "/Users/anovayoungers/Downloads/physical_therapy_dataset/s2/e2/u2/template_session.txt\n",
            "/Users/anovayoungers/Downloads/physical_therapy_dataset/s2/e2/u2/test.txt\n",
            "/Users/anovayoungers/Downloads/physical_therapy_dataset/s2/e3/template_times.txt\n",
            "/Users/anovayoungers/Downloads/physical_therapy_dataset/s2/e3/u1\n",
            "/Users/anovayoungers/Downloads/physical_therapy_dataset/s2/e3/u3\n",
            "/Users/anovayoungers/Downloads/physical_therapy_dataset/s2/e3/u4\n",
            "/Users/anovayoungers/Downloads/physical_therapy_dataset/s2/e3/u5\n",
            "/Users/anovayoungers/Downloads/physical_therapy_dataset/s2/e3/u2\n",
            "/Users/anovayoungers/Downloads/physical_therapy_dataset/s2/e3/u1/template_session.txt\n",
            "/Users/anovayoungers/Downloads/physical_therapy_dataset/s2/e3/u1/test.txt\n",
            "/Users/anovayoungers/Downloads/physical_therapy_dataset/s2/e3/u3/template_session.txt\n",
            "/Users/anovayoungers/Downloads/physical_therapy_dataset/s2/e3/u3/test.txt\n",
            "/Users/anovayoungers/Downloads/physical_therapy_dataset/s2/e3/u4/template_session.txt\n",
            "/Users/anovayoungers/Downloads/physical_therapy_dataset/s2/e3/u4/test.txt\n",
            "/Users/anovayoungers/Downloads/physical_therapy_dataset/s2/e3/u5/template_session.txt\n",
            "/Users/anovayoungers/Downloads/physical_therapy_dataset/s2/e3/u5/test.txt\n",
            "/Users/anovayoungers/Downloads/physical_therapy_dataset/s2/e3/u2/template_session.txt\n",
            "/Users/anovayoungers/Downloads/physical_therapy_dataset/s2/e3/u2/test.txt\n",
            "/Users/anovayoungers/Downloads/physical_therapy_dataset/s2/e4/template_times.txt\n",
            "/Users/anovayoungers/Downloads/physical_therapy_dataset/s2/e4/u1\n",
            "/Users/anovayoungers/Downloads/physical_therapy_dataset/s2/e4/u3\n",
            "/Users/anovayoungers/Downloads/physical_therapy_dataset/s2/e4/u4\n",
            "/Users/anovayoungers/Downloads/physical_therapy_dataset/s2/e4/u5\n",
            "/Users/anovayoungers/Downloads/physical_therapy_dataset/s2/e4/u2\n",
            "/Users/anovayoungers/Downloads/physical_therapy_dataset/s2/e4/u1/template_session.txt\n",
            "/Users/anovayoungers/Downloads/physical_therapy_dataset/s2/e4/u1/test.txt\n",
            "/Users/anovayoungers/Downloads/physical_therapy_dataset/s2/e4/u3/template_session.txt\n",
            "/Users/anovayoungers/Downloads/physical_therapy_dataset/s2/e4/u3/test.txt\n",
            "/Users/anovayoungers/Downloads/physical_therapy_dataset/s2/e4/u4/template_session.txt\n",
            "/Users/anovayoungers/Downloads/physical_therapy_dataset/s2/e4/u4/test.txt\n",
            "/Users/anovayoungers/Downloads/physical_therapy_dataset/s2/e4/u5/template_session.txt\n",
            "/Users/anovayoungers/Downloads/physical_therapy_dataset/s2/e4/u5/test.txt\n",
            "/Users/anovayoungers/Downloads/physical_therapy_dataset/s2/e4/u2/template_session.txt\n",
            "/Users/anovayoungers/Downloads/physical_therapy_dataset/s2/e4/u2/test.txt\n",
            "/Users/anovayoungers/Downloads/physical_therapy_dataset/s2/e1/template_times.txt\n",
            "/Users/anovayoungers/Downloads/physical_therapy_dataset/s2/e1/u1\n",
            "/Users/anovayoungers/Downloads/physical_therapy_dataset/s2/e1/u3\n",
            "/Users/anovayoungers/Downloads/physical_therapy_dataset/s2/e1/u4\n",
            "/Users/anovayoungers/Downloads/physical_therapy_dataset/s2/e1/u5\n",
            "/Users/anovayoungers/Downloads/physical_therapy_dataset/s2/e1/u2\n",
            "/Users/anovayoungers/Downloads/physical_therapy_dataset/s2/e1/u1/template_session.txt\n",
            "/Users/anovayoungers/Downloads/physical_therapy_dataset/s2/e1/u1/test.txt\n",
            "/Users/anovayoungers/Downloads/physical_therapy_dataset/s2/e1/u3/template_session.txt\n",
            "/Users/anovayoungers/Downloads/physical_therapy_dataset/s2/e1/u3/test.txt\n",
            "/Users/anovayoungers/Downloads/physical_therapy_dataset/s2/e1/u4/template_session.txt\n",
            "/Users/anovayoungers/Downloads/physical_therapy_dataset/s2/e1/u4/test.txt\n",
            "/Users/anovayoungers/Downloads/physical_therapy_dataset/s2/e1/u5/template_session.txt\n",
            "/Users/anovayoungers/Downloads/physical_therapy_dataset/s2/e1/u5/test.txt\n",
            "/Users/anovayoungers/Downloads/physical_therapy_dataset/s2/e1/u2/template_session.txt\n",
            "/Users/anovayoungers/Downloads/physical_therapy_dataset/s2/e1/u2/test.txt\n",
            "/Users/anovayoungers/Downloads/physical_therapy_dataset/s2/e6/template_times.txt\n",
            "/Users/anovayoungers/Downloads/physical_therapy_dataset/s2/e6/u1\n",
            "/Users/anovayoungers/Downloads/physical_therapy_dataset/s2/e6/u3\n",
            "/Users/anovayoungers/Downloads/physical_therapy_dataset/s2/e6/u4\n",
            "/Users/anovayoungers/Downloads/physical_therapy_dataset/s2/e6/u5\n",
            "/Users/anovayoungers/Downloads/physical_therapy_dataset/s2/e6/u2\n",
            "/Users/anovayoungers/Downloads/physical_therapy_dataset/s2/e6/u1/template_session.txt\n",
            "/Users/anovayoungers/Downloads/physical_therapy_dataset/s2/e6/u1/test.txt\n",
            "/Users/anovayoungers/Downloads/physical_therapy_dataset/s2/e6/u3/template_session.txt\n",
            "/Users/anovayoungers/Downloads/physical_therapy_dataset/s2/e6/u3/test.txt\n",
            "/Users/anovayoungers/Downloads/physical_therapy_dataset/s2/e6/u4/template_session.txt\n",
            "/Users/anovayoungers/Downloads/physical_therapy_dataset/s2/e6/u4/test.txt\n",
            "/Users/anovayoungers/Downloads/physical_therapy_dataset/s2/e6/u5/template_session.txt\n",
            "/Users/anovayoungers/Downloads/physical_therapy_dataset/s2/e6/u5/test.txt\n",
            "/Users/anovayoungers/Downloads/physical_therapy_dataset/s2/e6/u2/template_session.txt\n",
            "/Users/anovayoungers/Downloads/physical_therapy_dataset/s2/e6/u2/test.txt\n",
            "/Users/anovayoungers/Downloads/physical_therapy_dataset/s2/e8/template_times.txt\n",
            "/Users/anovayoungers/Downloads/physical_therapy_dataset/s2/e8/u1\n",
            "/Users/anovayoungers/Downloads/physical_therapy_dataset/s2/e8/u3\n",
            "/Users/anovayoungers/Downloads/physical_therapy_dataset/s2/e8/u4\n",
            "/Users/anovayoungers/Downloads/physical_therapy_dataset/s2/e8/u5\n",
            "/Users/anovayoungers/Downloads/physical_therapy_dataset/s2/e8/u2\n",
            "/Users/anovayoungers/Downloads/physical_therapy_dataset/s2/e8/u1/template_session.txt\n",
            "/Users/anovayoungers/Downloads/physical_therapy_dataset/s2/e8/u1/test.txt\n",
            "/Users/anovayoungers/Downloads/physical_therapy_dataset/s2/e8/u3/template_session.txt\n",
            "/Users/anovayoungers/Downloads/physical_therapy_dataset/s2/e8/u3/test.txt\n",
            "/Users/anovayoungers/Downloads/physical_therapy_dataset/s2/e8/u4/template_session.txt\n",
            "/Users/anovayoungers/Downloads/physical_therapy_dataset/s2/e8/u4/test.txt\n",
            "/Users/anovayoungers/Downloads/physical_therapy_dataset/s2/e8/u5/template_session.txt\n",
            "/Users/anovayoungers/Downloads/physical_therapy_dataset/s2/e8/u5/test.txt\n",
            "/Users/anovayoungers/Downloads/physical_therapy_dataset/s2/e8/u2/template_session.txt\n",
            "/Users/anovayoungers/Downloads/physical_therapy_dataset/s2/e8/u2/test.txt\n",
            "/Users/anovayoungers/Downloads/physical_therapy_dataset/s2/e7/template_times.txt\n",
            "/Users/anovayoungers/Downloads/physical_therapy_dataset/s2/e7/u1\n",
            "/Users/anovayoungers/Downloads/physical_therapy_dataset/s2/e7/u3\n",
            "/Users/anovayoungers/Downloads/physical_therapy_dataset/s2/e7/u4\n",
            "/Users/anovayoungers/Downloads/physical_therapy_dataset/s2/e7/u5\n",
            "/Users/anovayoungers/Downloads/physical_therapy_dataset/s2/e7/u2\n",
            "/Users/anovayoungers/Downloads/physical_therapy_dataset/s2/e7/u1/template_session.txt\n",
            "/Users/anovayoungers/Downloads/physical_therapy_dataset/s2/e7/u1/test.txt\n",
            "/Users/anovayoungers/Downloads/physical_therapy_dataset/s2/e7/u3/template_session.txt\n",
            "/Users/anovayoungers/Downloads/physical_therapy_dataset/s2/e7/u3/test.txt\n",
            "/Users/anovayoungers/Downloads/physical_therapy_dataset/s2/e7/u4/template_session.txt\n",
            "/Users/anovayoungers/Downloads/physical_therapy_dataset/s2/e7/u4/test.txt\n",
            "/Users/anovayoungers/Downloads/physical_therapy_dataset/s2/e7/u5/template_session.txt\n",
            "/Users/anovayoungers/Downloads/physical_therapy_dataset/s2/e7/u5/test.txt\n",
            "/Users/anovayoungers/Downloads/physical_therapy_dataset/s2/e7/u2/template_session.txt\n",
            "/Users/anovayoungers/Downloads/physical_therapy_dataset/s2/e7/u2/test.txt\n",
            "/Users/anovayoungers/Downloads/physical_therapy_dataset/s3/e5\n",
            "/Users/anovayoungers/Downloads/physical_therapy_dataset/s3/e2\n",
            "/Users/anovayoungers/Downloads/physical_therapy_dataset/s3/e3\n",
            "/Users/anovayoungers/Downloads/physical_therapy_dataset/s3/e4\n",
            "/Users/anovayoungers/Downloads/physical_therapy_dataset/s3/e1\n",
            "/Users/anovayoungers/Downloads/physical_therapy_dataset/s3/e6\n",
            "/Users/anovayoungers/Downloads/physical_therapy_dataset/s3/e8\n",
            "/Users/anovayoungers/Downloads/physical_therapy_dataset/s3/e7\n",
            "/Users/anovayoungers/Downloads/physical_therapy_dataset/s3/e5/template_times.txt\n",
            "/Users/anovayoungers/Downloads/physical_therapy_dataset/s3/e5/u1\n",
            "/Users/anovayoungers/Downloads/physical_therapy_dataset/s3/e5/u3\n",
            "/Users/anovayoungers/Downloads/physical_therapy_dataset/s3/e5/u4\n",
            "/Users/anovayoungers/Downloads/physical_therapy_dataset/s3/e5/u5\n",
            "/Users/anovayoungers/Downloads/physical_therapy_dataset/s3/e5/u2\n",
            "/Users/anovayoungers/Downloads/physical_therapy_dataset/s3/e5/u1/template_session.txt\n",
            "/Users/anovayoungers/Downloads/physical_therapy_dataset/s3/e5/u1/test.txt\n",
            "/Users/anovayoungers/Downloads/physical_therapy_dataset/s3/e5/u3/template_session.txt\n",
            "/Users/anovayoungers/Downloads/physical_therapy_dataset/s3/e5/u3/test.txt\n",
            "/Users/anovayoungers/Downloads/physical_therapy_dataset/s3/e5/u4/template_session.txt\n",
            "/Users/anovayoungers/Downloads/physical_therapy_dataset/s3/e5/u4/test.txt\n",
            "/Users/anovayoungers/Downloads/physical_therapy_dataset/s3/e5/u5/template_session.txt\n",
            "/Users/anovayoungers/Downloads/physical_therapy_dataset/s3/e5/u5/test.txt\n",
            "/Users/anovayoungers/Downloads/physical_therapy_dataset/s3/e5/u2/template_session.txt\n",
            "/Users/anovayoungers/Downloads/physical_therapy_dataset/s3/e5/u2/test.txt\n",
            "/Users/anovayoungers/Downloads/physical_therapy_dataset/s3/e2/template_times.txt\n",
            "/Users/anovayoungers/Downloads/physical_therapy_dataset/s3/e2/u1\n",
            "/Users/anovayoungers/Downloads/physical_therapy_dataset/s3/e2/u3\n",
            "/Users/anovayoungers/Downloads/physical_therapy_dataset/s3/e2/u4\n",
            "/Users/anovayoungers/Downloads/physical_therapy_dataset/s3/e2/u5\n",
            "/Users/anovayoungers/Downloads/physical_therapy_dataset/s3/e2/u2\n",
            "/Users/anovayoungers/Downloads/physical_therapy_dataset/s3/e2/u1/template_session.txt\n",
            "/Users/anovayoungers/Downloads/physical_therapy_dataset/s3/e2/u1/test.txt\n",
            "/Users/anovayoungers/Downloads/physical_therapy_dataset/s3/e2/u3/template_session.txt\n",
            "/Users/anovayoungers/Downloads/physical_therapy_dataset/s3/e2/u3/test.txt\n",
            "/Users/anovayoungers/Downloads/physical_therapy_dataset/s3/e2/u4/template_session.txt\n",
            "/Users/anovayoungers/Downloads/physical_therapy_dataset/s3/e2/u4/test.txt\n",
            "/Users/anovayoungers/Downloads/physical_therapy_dataset/s3/e2/u5/template_session.txt\n",
            "/Users/anovayoungers/Downloads/physical_therapy_dataset/s3/e2/u5/test.txt\n",
            "/Users/anovayoungers/Downloads/physical_therapy_dataset/s3/e2/u2/template_session.txt\n",
            "/Users/anovayoungers/Downloads/physical_therapy_dataset/s3/e2/u2/test.txt\n",
            "/Users/anovayoungers/Downloads/physical_therapy_dataset/s3/e3/template_times.txt\n",
            "/Users/anovayoungers/Downloads/physical_therapy_dataset/s3/e3/u1\n",
            "/Users/anovayoungers/Downloads/physical_therapy_dataset/s3/e3/u3\n",
            "/Users/anovayoungers/Downloads/physical_therapy_dataset/s3/e3/u4\n",
            "/Users/anovayoungers/Downloads/physical_therapy_dataset/s3/e3/u5\n",
            "/Users/anovayoungers/Downloads/physical_therapy_dataset/s3/e3/u2\n",
            "/Users/anovayoungers/Downloads/physical_therapy_dataset/s3/e3/u1/template_session.txt\n",
            "/Users/anovayoungers/Downloads/physical_therapy_dataset/s3/e3/u1/test.txt\n",
            "/Users/anovayoungers/Downloads/physical_therapy_dataset/s3/e3/u3/template_session.txt\n",
            "/Users/anovayoungers/Downloads/physical_therapy_dataset/s3/e3/u3/test.txt\n",
            "/Users/anovayoungers/Downloads/physical_therapy_dataset/s3/e3/u4/template_session.txt\n",
            "/Users/anovayoungers/Downloads/physical_therapy_dataset/s3/e3/u4/test.txt\n",
            "/Users/anovayoungers/Downloads/physical_therapy_dataset/s3/e3/u5/template_session.txt\n",
            "/Users/anovayoungers/Downloads/physical_therapy_dataset/s3/e3/u5/test.txt\n",
            "/Users/anovayoungers/Downloads/physical_therapy_dataset/s3/e3/u2/template_session.txt\n",
            "/Users/anovayoungers/Downloads/physical_therapy_dataset/s3/e3/u2/test.txt\n",
            "/Users/anovayoungers/Downloads/physical_therapy_dataset/s3/e4/template_times.txt\n",
            "/Users/anovayoungers/Downloads/physical_therapy_dataset/s3/e4/u1\n",
            "/Users/anovayoungers/Downloads/physical_therapy_dataset/s3/e4/u3\n",
            "/Users/anovayoungers/Downloads/physical_therapy_dataset/s3/e4/u4\n",
            "/Users/anovayoungers/Downloads/physical_therapy_dataset/s3/e4/u5\n",
            "/Users/anovayoungers/Downloads/physical_therapy_dataset/s3/e4/u2\n",
            "/Users/anovayoungers/Downloads/physical_therapy_dataset/s3/e4/u1/template_session.txt\n",
            "/Users/anovayoungers/Downloads/physical_therapy_dataset/s3/e4/u1/test.txt\n",
            "/Users/anovayoungers/Downloads/physical_therapy_dataset/s3/e4/u3/template_session.txt\n",
            "/Users/anovayoungers/Downloads/physical_therapy_dataset/s3/e4/u3/test.txt\n",
            "/Users/anovayoungers/Downloads/physical_therapy_dataset/s3/e4/u4/template_session.txt\n",
            "/Users/anovayoungers/Downloads/physical_therapy_dataset/s3/e4/u4/test.txt\n",
            "/Users/anovayoungers/Downloads/physical_therapy_dataset/s3/e4/u5/template_session.txt\n",
            "/Users/anovayoungers/Downloads/physical_therapy_dataset/s3/e4/u5/test.txt\n",
            "/Users/anovayoungers/Downloads/physical_therapy_dataset/s3/e4/u2/template_session.txt\n",
            "/Users/anovayoungers/Downloads/physical_therapy_dataset/s3/e4/u2/test.txt\n",
            "/Users/anovayoungers/Downloads/physical_therapy_dataset/s3/e1/template_times.txt\n",
            "/Users/anovayoungers/Downloads/physical_therapy_dataset/s3/e1/u1\n",
            "/Users/anovayoungers/Downloads/physical_therapy_dataset/s3/e1/u3\n",
            "/Users/anovayoungers/Downloads/physical_therapy_dataset/s3/e1/u4\n",
            "/Users/anovayoungers/Downloads/physical_therapy_dataset/s3/e1/u5\n",
            "/Users/anovayoungers/Downloads/physical_therapy_dataset/s3/e1/u2\n",
            "/Users/anovayoungers/Downloads/physical_therapy_dataset/s3/e1/u1/template_session.txt\n",
            "/Users/anovayoungers/Downloads/physical_therapy_dataset/s3/e1/u1/test.txt\n",
            "/Users/anovayoungers/Downloads/physical_therapy_dataset/s3/e1/u3/template_session.txt\n",
            "/Users/anovayoungers/Downloads/physical_therapy_dataset/s3/e1/u3/test.txt\n",
            "/Users/anovayoungers/Downloads/physical_therapy_dataset/s3/e1/u4/template_session.txt\n",
            "/Users/anovayoungers/Downloads/physical_therapy_dataset/s3/e1/u4/test.txt\n",
            "/Users/anovayoungers/Downloads/physical_therapy_dataset/s3/e1/u5/template_session.txt\n",
            "/Users/anovayoungers/Downloads/physical_therapy_dataset/s3/e1/u5/test.txt\n",
            "/Users/anovayoungers/Downloads/physical_therapy_dataset/s3/e1/u2/template_session.txt\n",
            "/Users/anovayoungers/Downloads/physical_therapy_dataset/s3/e1/u2/test.txt\n",
            "/Users/anovayoungers/Downloads/physical_therapy_dataset/s3/e6/template_times.txt\n",
            "/Users/anovayoungers/Downloads/physical_therapy_dataset/s3/e6/u1\n",
            "/Users/anovayoungers/Downloads/physical_therapy_dataset/s3/e6/u3\n",
            "/Users/anovayoungers/Downloads/physical_therapy_dataset/s3/e6/u4\n",
            "/Users/anovayoungers/Downloads/physical_therapy_dataset/s3/e6/u5\n",
            "/Users/anovayoungers/Downloads/physical_therapy_dataset/s3/e6/u2\n",
            "/Users/anovayoungers/Downloads/physical_therapy_dataset/s3/e6/u1/template_session.txt\n",
            "/Users/anovayoungers/Downloads/physical_therapy_dataset/s3/e6/u1/test.txt\n",
            "/Users/anovayoungers/Downloads/physical_therapy_dataset/s3/e6/u3/template_session.txt\n",
            "/Users/anovayoungers/Downloads/physical_therapy_dataset/s3/e6/u3/test.txt\n",
            "/Users/anovayoungers/Downloads/physical_therapy_dataset/s3/e6/u4/template_session.txt\n",
            "/Users/anovayoungers/Downloads/physical_therapy_dataset/s3/e6/u4/test.txt\n",
            "/Users/anovayoungers/Downloads/physical_therapy_dataset/s3/e6/u5/template_session.txt\n",
            "/Users/anovayoungers/Downloads/physical_therapy_dataset/s3/e6/u5/test.txt\n",
            "/Users/anovayoungers/Downloads/physical_therapy_dataset/s3/e6/u2/template_session.txt\n",
            "/Users/anovayoungers/Downloads/physical_therapy_dataset/s3/e6/u2/test.txt\n",
            "/Users/anovayoungers/Downloads/physical_therapy_dataset/s3/e8/template_times.txt\n",
            "/Users/anovayoungers/Downloads/physical_therapy_dataset/s3/e8/u1\n",
            "/Users/anovayoungers/Downloads/physical_therapy_dataset/s3/e8/u3\n",
            "/Users/anovayoungers/Downloads/physical_therapy_dataset/s3/e8/u4\n",
            "/Users/anovayoungers/Downloads/physical_therapy_dataset/s3/e8/u5\n",
            "/Users/anovayoungers/Downloads/physical_therapy_dataset/s3/e8/u2\n",
            "/Users/anovayoungers/Downloads/physical_therapy_dataset/s3/e8/u1/template_session.txt\n",
            "/Users/anovayoungers/Downloads/physical_therapy_dataset/s3/e8/u1/test.txt\n",
            "/Users/anovayoungers/Downloads/physical_therapy_dataset/s3/e8/u3/template_session.txt\n",
            "/Users/anovayoungers/Downloads/physical_therapy_dataset/s3/e8/u3/test.txt\n",
            "/Users/anovayoungers/Downloads/physical_therapy_dataset/s3/e8/u4/template_session.txt\n",
            "/Users/anovayoungers/Downloads/physical_therapy_dataset/s3/e8/u4/test.txt\n",
            "/Users/anovayoungers/Downloads/physical_therapy_dataset/s3/e8/u5/template_session.txt\n",
            "/Users/anovayoungers/Downloads/physical_therapy_dataset/s3/e8/u5/test.txt\n",
            "/Users/anovayoungers/Downloads/physical_therapy_dataset/s3/e8/u2/template_session.txt\n",
            "/Users/anovayoungers/Downloads/physical_therapy_dataset/s3/e8/u2/test.txt\n",
            "/Users/anovayoungers/Downloads/physical_therapy_dataset/s3/e7/template_times.txt\n",
            "/Users/anovayoungers/Downloads/physical_therapy_dataset/s3/e7/u1\n",
            "/Users/anovayoungers/Downloads/physical_therapy_dataset/s3/e7/u3\n",
            "/Users/anovayoungers/Downloads/physical_therapy_dataset/s3/e7/u4\n",
            "/Users/anovayoungers/Downloads/physical_therapy_dataset/s3/e7/u5\n",
            "/Users/anovayoungers/Downloads/physical_therapy_dataset/s3/e7/u2\n",
            "/Users/anovayoungers/Downloads/physical_therapy_dataset/s3/e7/u1/template_session.txt\n",
            "/Users/anovayoungers/Downloads/physical_therapy_dataset/s3/e7/u1/test.txt\n",
            "/Users/anovayoungers/Downloads/physical_therapy_dataset/s3/e7/u3/template_session.txt\n",
            "/Users/anovayoungers/Downloads/physical_therapy_dataset/s3/e7/u3/test.txt\n",
            "/Users/anovayoungers/Downloads/physical_therapy_dataset/s3/e7/u4/template_session.txt\n",
            "/Users/anovayoungers/Downloads/physical_therapy_dataset/s3/e7/u4/test.txt\n",
            "/Users/anovayoungers/Downloads/physical_therapy_dataset/s3/e7/u5/template_session.txt\n",
            "/Users/anovayoungers/Downloads/physical_therapy_dataset/s3/e7/u5/test.txt\n",
            "/Users/anovayoungers/Downloads/physical_therapy_dataset/s3/e7/u2/template_session.txt\n",
            "/Users/anovayoungers/Downloads/physical_therapy_dataset/s3/e7/u2/test.txt\n",
            "/Users/anovayoungers/Downloads/physical_therapy_dataset/s4/e5\n",
            "/Users/anovayoungers/Downloads/physical_therapy_dataset/s4/e2\n",
            "/Users/anovayoungers/Downloads/physical_therapy_dataset/s4/e3\n",
            "/Users/anovayoungers/Downloads/physical_therapy_dataset/s4/e4\n",
            "/Users/anovayoungers/Downloads/physical_therapy_dataset/s4/e1\n",
            "/Users/anovayoungers/Downloads/physical_therapy_dataset/s4/e6\n",
            "/Users/anovayoungers/Downloads/physical_therapy_dataset/s4/e8\n",
            "/Users/anovayoungers/Downloads/physical_therapy_dataset/s4/e7\n",
            "/Users/anovayoungers/Downloads/physical_therapy_dataset/s4/e5/template_times.txt\n",
            "/Users/anovayoungers/Downloads/physical_therapy_dataset/s4/e5/u1\n",
            "/Users/anovayoungers/Downloads/physical_therapy_dataset/s4/e5/u3\n",
            "/Users/anovayoungers/Downloads/physical_therapy_dataset/s4/e5/u4\n",
            "/Users/anovayoungers/Downloads/physical_therapy_dataset/s4/e5/u5\n",
            "/Users/anovayoungers/Downloads/physical_therapy_dataset/s4/e5/u2\n",
            "/Users/anovayoungers/Downloads/physical_therapy_dataset/s4/e5/u1/template_session.txt\n",
            "/Users/anovayoungers/Downloads/physical_therapy_dataset/s4/e5/u1/test.txt\n",
            "/Users/anovayoungers/Downloads/physical_therapy_dataset/s4/e5/u3/template_session.txt\n",
            "/Users/anovayoungers/Downloads/physical_therapy_dataset/s4/e5/u3/test.txt\n",
            "/Users/anovayoungers/Downloads/physical_therapy_dataset/s4/e5/u4/template_session.txt\n",
            "/Users/anovayoungers/Downloads/physical_therapy_dataset/s4/e5/u4/test.txt\n",
            "/Users/anovayoungers/Downloads/physical_therapy_dataset/s4/e5/u5/template_session.txt\n",
            "/Users/anovayoungers/Downloads/physical_therapy_dataset/s4/e5/u5/test.txt\n",
            "/Users/anovayoungers/Downloads/physical_therapy_dataset/s4/e5/u2/template_session.txt\n",
            "/Users/anovayoungers/Downloads/physical_therapy_dataset/s4/e5/u2/test.txt\n",
            "/Users/anovayoungers/Downloads/physical_therapy_dataset/s4/e2/template_times.txt\n",
            "/Users/anovayoungers/Downloads/physical_therapy_dataset/s4/e2/u1\n",
            "/Users/anovayoungers/Downloads/physical_therapy_dataset/s4/e2/u3\n",
            "/Users/anovayoungers/Downloads/physical_therapy_dataset/s4/e2/u4\n",
            "/Users/anovayoungers/Downloads/physical_therapy_dataset/s4/e2/u5\n",
            "/Users/anovayoungers/Downloads/physical_therapy_dataset/s4/e2/u2\n",
            "/Users/anovayoungers/Downloads/physical_therapy_dataset/s4/e2/u1/template_session.txt\n",
            "/Users/anovayoungers/Downloads/physical_therapy_dataset/s4/e2/u1/test.txt\n",
            "/Users/anovayoungers/Downloads/physical_therapy_dataset/s4/e2/u3/template_session.txt\n",
            "/Users/anovayoungers/Downloads/physical_therapy_dataset/s4/e2/u3/test.txt\n",
            "/Users/anovayoungers/Downloads/physical_therapy_dataset/s4/e2/u4/template_session.txt\n",
            "/Users/anovayoungers/Downloads/physical_therapy_dataset/s4/e2/u4/test.txt\n",
            "/Users/anovayoungers/Downloads/physical_therapy_dataset/s4/e2/u5/template_session.txt\n",
            "/Users/anovayoungers/Downloads/physical_therapy_dataset/s4/e2/u5/test.txt\n",
            "/Users/anovayoungers/Downloads/physical_therapy_dataset/s4/e2/u2/template_session.txt\n",
            "/Users/anovayoungers/Downloads/physical_therapy_dataset/s4/e2/u2/test.txt\n",
            "/Users/anovayoungers/Downloads/physical_therapy_dataset/s4/e3/template_times.txt\n",
            "/Users/anovayoungers/Downloads/physical_therapy_dataset/s4/e3/u1\n",
            "/Users/anovayoungers/Downloads/physical_therapy_dataset/s4/e3/u3\n",
            "/Users/anovayoungers/Downloads/physical_therapy_dataset/s4/e3/u4\n",
            "/Users/anovayoungers/Downloads/physical_therapy_dataset/s4/e3/u5\n",
            "/Users/anovayoungers/Downloads/physical_therapy_dataset/s4/e3/u2\n",
            "/Users/anovayoungers/Downloads/physical_therapy_dataset/s4/e3/u1/template_session.txt\n",
            "/Users/anovayoungers/Downloads/physical_therapy_dataset/s4/e3/u1/test.txt\n",
            "/Users/anovayoungers/Downloads/physical_therapy_dataset/s4/e3/u3/template_session.txt\n",
            "/Users/anovayoungers/Downloads/physical_therapy_dataset/s4/e3/u3/test.txt\n",
            "/Users/anovayoungers/Downloads/physical_therapy_dataset/s4/e3/u4/template_session.txt\n",
            "/Users/anovayoungers/Downloads/physical_therapy_dataset/s4/e3/u4/test.txt\n",
            "/Users/anovayoungers/Downloads/physical_therapy_dataset/s4/e3/u5/template_session.txt\n",
            "/Users/anovayoungers/Downloads/physical_therapy_dataset/s4/e3/u5/test.txt\n",
            "/Users/anovayoungers/Downloads/physical_therapy_dataset/s4/e3/u2/template_session.txt\n",
            "/Users/anovayoungers/Downloads/physical_therapy_dataset/s4/e3/u2/test.txt\n",
            "/Users/anovayoungers/Downloads/physical_therapy_dataset/s4/e4/template_times.txt\n",
            "/Users/anovayoungers/Downloads/physical_therapy_dataset/s4/e4/u1\n",
            "/Users/anovayoungers/Downloads/physical_therapy_dataset/s4/e4/u3\n",
            "/Users/anovayoungers/Downloads/physical_therapy_dataset/s4/e4/u4\n",
            "/Users/anovayoungers/Downloads/physical_therapy_dataset/s4/e4/u5\n",
            "/Users/anovayoungers/Downloads/physical_therapy_dataset/s4/e4/u2\n",
            "/Users/anovayoungers/Downloads/physical_therapy_dataset/s4/e4/u1/template_session.txt\n",
            "/Users/anovayoungers/Downloads/physical_therapy_dataset/s4/e4/u1/test.txt\n",
            "/Users/anovayoungers/Downloads/physical_therapy_dataset/s4/e4/u3/template_session.txt\n",
            "/Users/anovayoungers/Downloads/physical_therapy_dataset/s4/e4/u3/test.txt\n",
            "/Users/anovayoungers/Downloads/physical_therapy_dataset/s4/e4/u4/template_session.txt\n",
            "/Users/anovayoungers/Downloads/physical_therapy_dataset/s4/e4/u4/test.txt\n",
            "/Users/anovayoungers/Downloads/physical_therapy_dataset/s4/e4/u5/template_session.txt\n",
            "/Users/anovayoungers/Downloads/physical_therapy_dataset/s4/e4/u5/test.txt\n",
            "/Users/anovayoungers/Downloads/physical_therapy_dataset/s4/e4/u2/template_session.txt\n",
            "/Users/anovayoungers/Downloads/physical_therapy_dataset/s4/e4/u2/test.txt\n",
            "/Users/anovayoungers/Downloads/physical_therapy_dataset/s4/e1/template_times.txt\n",
            "/Users/anovayoungers/Downloads/physical_therapy_dataset/s4/e1/u1\n",
            "/Users/anovayoungers/Downloads/physical_therapy_dataset/s4/e1/u3\n",
            "/Users/anovayoungers/Downloads/physical_therapy_dataset/s4/e1/u4\n",
            "/Users/anovayoungers/Downloads/physical_therapy_dataset/s4/e1/u5\n",
            "/Users/anovayoungers/Downloads/physical_therapy_dataset/s4/e1/u2\n",
            "/Users/anovayoungers/Downloads/physical_therapy_dataset/s4/e1/u1/template_session.txt\n",
            "/Users/anovayoungers/Downloads/physical_therapy_dataset/s4/e1/u1/test.txt\n",
            "/Users/anovayoungers/Downloads/physical_therapy_dataset/s4/e1/u3/template_session.txt\n",
            "/Users/anovayoungers/Downloads/physical_therapy_dataset/s4/e1/u3/test.txt\n",
            "/Users/anovayoungers/Downloads/physical_therapy_dataset/s4/e1/u4/template_session.txt\n",
            "/Users/anovayoungers/Downloads/physical_therapy_dataset/s4/e1/u4/test.txt\n",
            "/Users/anovayoungers/Downloads/physical_therapy_dataset/s4/e1/u5/template_session.txt\n",
            "/Users/anovayoungers/Downloads/physical_therapy_dataset/s4/e1/u5/test.txt\n",
            "/Users/anovayoungers/Downloads/physical_therapy_dataset/s4/e1/u2/template_session.txt\n",
            "/Users/anovayoungers/Downloads/physical_therapy_dataset/s4/e1/u2/test.txt\n",
            "/Users/anovayoungers/Downloads/physical_therapy_dataset/s4/e6/template_times.txt\n",
            "/Users/anovayoungers/Downloads/physical_therapy_dataset/s4/e6/u1\n",
            "/Users/anovayoungers/Downloads/physical_therapy_dataset/s4/e6/u3\n",
            "/Users/anovayoungers/Downloads/physical_therapy_dataset/s4/e6/u4\n",
            "/Users/anovayoungers/Downloads/physical_therapy_dataset/s4/e6/u5\n",
            "/Users/anovayoungers/Downloads/physical_therapy_dataset/s4/e6/u2\n",
            "/Users/anovayoungers/Downloads/physical_therapy_dataset/s4/e6/u1/template_session.txt\n",
            "/Users/anovayoungers/Downloads/physical_therapy_dataset/s4/e6/u1/test.txt\n",
            "/Users/anovayoungers/Downloads/physical_therapy_dataset/s4/e6/u3/template_session.txt\n",
            "/Users/anovayoungers/Downloads/physical_therapy_dataset/s4/e6/u3/test.txt\n",
            "/Users/anovayoungers/Downloads/physical_therapy_dataset/s4/e6/u4/template_session.txt\n",
            "/Users/anovayoungers/Downloads/physical_therapy_dataset/s4/e6/u4/test.txt\n",
            "/Users/anovayoungers/Downloads/physical_therapy_dataset/s4/e6/u5/template_session.txt\n",
            "/Users/anovayoungers/Downloads/physical_therapy_dataset/s4/e6/u5/test.txt\n",
            "/Users/anovayoungers/Downloads/physical_therapy_dataset/s4/e6/u2/template_session.txt\n",
            "/Users/anovayoungers/Downloads/physical_therapy_dataset/s4/e6/u2/test.txt\n",
            "/Users/anovayoungers/Downloads/physical_therapy_dataset/s4/e8/template_times.txt\n",
            "/Users/anovayoungers/Downloads/physical_therapy_dataset/s4/e8/u1\n",
            "/Users/anovayoungers/Downloads/physical_therapy_dataset/s4/e8/u3\n",
            "/Users/anovayoungers/Downloads/physical_therapy_dataset/s4/e8/u4\n",
            "/Users/anovayoungers/Downloads/physical_therapy_dataset/s4/e8/u5\n",
            "/Users/anovayoungers/Downloads/physical_therapy_dataset/s4/e8/u2\n",
            "/Users/anovayoungers/Downloads/physical_therapy_dataset/s4/e8/u1/template_session.txt\n",
            "/Users/anovayoungers/Downloads/physical_therapy_dataset/s4/e8/u1/test.txt\n",
            "/Users/anovayoungers/Downloads/physical_therapy_dataset/s4/e8/u3/template_session.txt\n",
            "/Users/anovayoungers/Downloads/physical_therapy_dataset/s4/e8/u3/test.txt\n",
            "/Users/anovayoungers/Downloads/physical_therapy_dataset/s4/e8/u4/template_session.txt\n",
            "/Users/anovayoungers/Downloads/physical_therapy_dataset/s4/e8/u4/test.txt\n",
            "/Users/anovayoungers/Downloads/physical_therapy_dataset/s4/e8/u5/template_session.txt\n",
            "/Users/anovayoungers/Downloads/physical_therapy_dataset/s4/e8/u5/test.txt\n",
            "/Users/anovayoungers/Downloads/physical_therapy_dataset/s4/e8/u2/template_session.txt\n",
            "/Users/anovayoungers/Downloads/physical_therapy_dataset/s4/e8/u2/test.txt\n",
            "/Users/anovayoungers/Downloads/physical_therapy_dataset/s4/e7/template_times.txt\n",
            "/Users/anovayoungers/Downloads/physical_therapy_dataset/s4/e7/u1\n",
            "/Users/anovayoungers/Downloads/physical_therapy_dataset/s4/e7/u3\n",
            "/Users/anovayoungers/Downloads/physical_therapy_dataset/s4/e7/u4\n",
            "/Users/anovayoungers/Downloads/physical_therapy_dataset/s4/e7/u5\n",
            "/Users/anovayoungers/Downloads/physical_therapy_dataset/s4/e7/u2\n",
            "/Users/anovayoungers/Downloads/physical_therapy_dataset/s4/e7/u1/template_session.txt\n",
            "/Users/anovayoungers/Downloads/physical_therapy_dataset/s4/e7/u1/test.txt\n",
            "/Users/anovayoungers/Downloads/physical_therapy_dataset/s4/e7/u3/template_session.txt\n",
            "/Users/anovayoungers/Downloads/physical_therapy_dataset/s4/e7/u3/test.txt\n",
            "/Users/anovayoungers/Downloads/physical_therapy_dataset/s4/e7/u4/template_session.txt\n",
            "/Users/anovayoungers/Downloads/physical_therapy_dataset/s4/e7/u4/test.txt\n",
            "/Users/anovayoungers/Downloads/physical_therapy_dataset/s4/e7/u5/template_session.txt\n",
            "/Users/anovayoungers/Downloads/physical_therapy_dataset/s4/e7/u5/test.txt\n",
            "/Users/anovayoungers/Downloads/physical_therapy_dataset/s4/e7/u2/template_session.txt\n",
            "/Users/anovayoungers/Downloads/physical_therapy_dataset/s4/e7/u2/test.txt\n",
            "/Users/anovayoungers/Downloads/physical_therapy_dataset/s1/.DS_Store\n",
            "/Users/anovayoungers/Downloads/physical_therapy_dataset/s1/e5\n",
            "/Users/anovayoungers/Downloads/physical_therapy_dataset/s1/e2\n",
            "/Users/anovayoungers/Downloads/physical_therapy_dataset/s1/e3\n",
            "/Users/anovayoungers/Downloads/physical_therapy_dataset/s1/e4\n",
            "/Users/anovayoungers/Downloads/physical_therapy_dataset/s1/e1\n",
            "/Users/anovayoungers/Downloads/physical_therapy_dataset/s1/e6\n",
            "/Users/anovayoungers/Downloads/physical_therapy_dataset/s1/e8\n",
            "/Users/anovayoungers/Downloads/physical_therapy_dataset/s1/e7\n",
            "/Users/anovayoungers/Downloads/physical_therapy_dataset/s1/e5/template_times.txt\n",
            "/Users/anovayoungers/Downloads/physical_therapy_dataset/s1/e5/u1\n",
            "/Users/anovayoungers/Downloads/physical_therapy_dataset/s1/e5/u3\n",
            "/Users/anovayoungers/Downloads/physical_therapy_dataset/s1/e5/u4\n",
            "/Users/anovayoungers/Downloads/physical_therapy_dataset/s1/e5/u5\n",
            "/Users/anovayoungers/Downloads/physical_therapy_dataset/s1/e5/u2\n",
            "/Users/anovayoungers/Downloads/physical_therapy_dataset/s1/e5/u1/template_session.txt\n",
            "/Users/anovayoungers/Downloads/physical_therapy_dataset/s1/e5/u1/test.txt\n",
            "/Users/anovayoungers/Downloads/physical_therapy_dataset/s1/e5/u3/template_session.txt\n",
            "/Users/anovayoungers/Downloads/physical_therapy_dataset/s1/e5/u3/test.txt\n",
            "/Users/anovayoungers/Downloads/physical_therapy_dataset/s1/e5/u4/template_session.txt\n",
            "/Users/anovayoungers/Downloads/physical_therapy_dataset/s1/e5/u4/test.txt\n",
            "/Users/anovayoungers/Downloads/physical_therapy_dataset/s1/e5/u5/template_session.txt\n",
            "/Users/anovayoungers/Downloads/physical_therapy_dataset/s1/e5/u5/test.txt\n",
            "/Users/anovayoungers/Downloads/physical_therapy_dataset/s1/e5/u2/template_session.txt\n",
            "/Users/anovayoungers/Downloads/physical_therapy_dataset/s1/e5/u2/test.txt\n",
            "/Users/anovayoungers/Downloads/physical_therapy_dataset/s1/e2/template_times.txt\n",
            "/Users/anovayoungers/Downloads/physical_therapy_dataset/s1/e2/u1\n",
            "/Users/anovayoungers/Downloads/physical_therapy_dataset/s1/e2/u3\n",
            "/Users/anovayoungers/Downloads/physical_therapy_dataset/s1/e2/u4\n",
            "/Users/anovayoungers/Downloads/physical_therapy_dataset/s1/e2/u5\n",
            "/Users/anovayoungers/Downloads/physical_therapy_dataset/s1/e2/u2\n",
            "/Users/anovayoungers/Downloads/physical_therapy_dataset/s1/e2/u1/template_session.txt\n",
            "/Users/anovayoungers/Downloads/physical_therapy_dataset/s1/e2/u1/test.txt\n",
            "/Users/anovayoungers/Downloads/physical_therapy_dataset/s1/e2/u3/template_session.txt\n",
            "/Users/anovayoungers/Downloads/physical_therapy_dataset/s1/e2/u3/test.txt\n",
            "/Users/anovayoungers/Downloads/physical_therapy_dataset/s1/e2/u4/template_session.txt\n",
            "/Users/anovayoungers/Downloads/physical_therapy_dataset/s1/e2/u4/test.txt\n",
            "/Users/anovayoungers/Downloads/physical_therapy_dataset/s1/e2/u5/template_session.txt\n",
            "/Users/anovayoungers/Downloads/physical_therapy_dataset/s1/e2/u5/test.txt\n",
            "/Users/anovayoungers/Downloads/physical_therapy_dataset/s1/e2/u2/template_session.txt\n",
            "/Users/anovayoungers/Downloads/physical_therapy_dataset/s1/e2/u2/test.txt\n",
            "/Users/anovayoungers/Downloads/physical_therapy_dataset/s1/e3/template_times.txt\n",
            "/Users/anovayoungers/Downloads/physical_therapy_dataset/s1/e3/u1\n",
            "/Users/anovayoungers/Downloads/physical_therapy_dataset/s1/e3/u3\n",
            "/Users/anovayoungers/Downloads/physical_therapy_dataset/s1/e3/u4\n",
            "/Users/anovayoungers/Downloads/physical_therapy_dataset/s1/e3/u5\n",
            "/Users/anovayoungers/Downloads/physical_therapy_dataset/s1/e3/u2\n",
            "/Users/anovayoungers/Downloads/physical_therapy_dataset/s1/e3/u1/template_session.txt\n",
            "/Users/anovayoungers/Downloads/physical_therapy_dataset/s1/e3/u1/test.txt\n",
            "/Users/anovayoungers/Downloads/physical_therapy_dataset/s1/e3/u3/template_session.txt\n",
            "/Users/anovayoungers/Downloads/physical_therapy_dataset/s1/e3/u3/test.txt\n",
            "/Users/anovayoungers/Downloads/physical_therapy_dataset/s1/e3/u4/template_session.txt\n",
            "/Users/anovayoungers/Downloads/physical_therapy_dataset/s1/e3/u4/test.txt\n",
            "/Users/anovayoungers/Downloads/physical_therapy_dataset/s1/e3/u5/template_session.txt\n",
            "/Users/anovayoungers/Downloads/physical_therapy_dataset/s1/e3/u5/test.txt\n",
            "/Users/anovayoungers/Downloads/physical_therapy_dataset/s1/e3/u2/template_session.txt\n",
            "/Users/anovayoungers/Downloads/physical_therapy_dataset/s1/e3/u2/test.txt\n",
            "/Users/anovayoungers/Downloads/physical_therapy_dataset/s1/e4/template_times.txt\n",
            "/Users/anovayoungers/Downloads/physical_therapy_dataset/s1/e4/u1\n",
            "/Users/anovayoungers/Downloads/physical_therapy_dataset/s1/e4/u3\n",
            "/Users/anovayoungers/Downloads/physical_therapy_dataset/s1/e4/u4\n",
            "/Users/anovayoungers/Downloads/physical_therapy_dataset/s1/e4/u5\n",
            "/Users/anovayoungers/Downloads/physical_therapy_dataset/s1/e4/u2\n",
            "/Users/anovayoungers/Downloads/physical_therapy_dataset/s1/e4/u1/template_session.txt\n",
            "/Users/anovayoungers/Downloads/physical_therapy_dataset/s1/e4/u1/test.txt\n",
            "/Users/anovayoungers/Downloads/physical_therapy_dataset/s1/e4/u3/template_session.txt\n",
            "/Users/anovayoungers/Downloads/physical_therapy_dataset/s1/e4/u3/test.txt\n",
            "/Users/anovayoungers/Downloads/physical_therapy_dataset/s1/e4/u4/template_session.txt\n",
            "/Users/anovayoungers/Downloads/physical_therapy_dataset/s1/e4/u4/test.txt\n",
            "/Users/anovayoungers/Downloads/physical_therapy_dataset/s1/e4/u5/template_session.txt\n",
            "/Users/anovayoungers/Downloads/physical_therapy_dataset/s1/e4/u5/test.txt\n",
            "/Users/anovayoungers/Downloads/physical_therapy_dataset/s1/e4/u2/template_session.txt\n",
            "/Users/anovayoungers/Downloads/physical_therapy_dataset/s1/e4/u2/test.txt\n",
            "/Users/anovayoungers/Downloads/physical_therapy_dataset/s1/e1/.DS_Store\n",
            "/Users/anovayoungers/Downloads/physical_therapy_dataset/s1/e1/template_times.txt\n",
            "/Users/anovayoungers/Downloads/physical_therapy_dataset/s1/e1/u1\n",
            "/Users/anovayoungers/Downloads/physical_therapy_dataset/s1/e1/u3\n",
            "/Users/anovayoungers/Downloads/physical_therapy_dataset/s1/e1/u4\n",
            "/Users/anovayoungers/Downloads/physical_therapy_dataset/s1/e1/u5\n",
            "/Users/anovayoungers/Downloads/physical_therapy_dataset/s1/e1/u2\n",
            "/Users/anovayoungers/Downloads/physical_therapy_dataset/s1/e1/u1/template_session.txt\n",
            "/Users/anovayoungers/Downloads/physical_therapy_dataset/s1/e1/u1/test.txt\n",
            "/Users/anovayoungers/Downloads/physical_therapy_dataset/s1/e1/u3/template_session.txt\n",
            "/Users/anovayoungers/Downloads/physical_therapy_dataset/s1/e1/u3/test.txt\n",
            "/Users/anovayoungers/Downloads/physical_therapy_dataset/s1/e1/u4/template_session.txt\n",
            "/Users/anovayoungers/Downloads/physical_therapy_dataset/s1/e1/u4/test.txt\n",
            "/Users/anovayoungers/Downloads/physical_therapy_dataset/s1/e1/u5/template_session.txt\n",
            "/Users/anovayoungers/Downloads/physical_therapy_dataset/s1/e1/u5/test.txt\n",
            "/Users/anovayoungers/Downloads/physical_therapy_dataset/s1/e1/u2/template_session.txt\n",
            "/Users/anovayoungers/Downloads/physical_therapy_dataset/s1/e1/u2/test.txt\n",
            "/Users/anovayoungers/Downloads/physical_therapy_dataset/s1/e6/template_times.txt\n",
            "/Users/anovayoungers/Downloads/physical_therapy_dataset/s1/e6/u1\n",
            "/Users/anovayoungers/Downloads/physical_therapy_dataset/s1/e6/u3\n",
            "/Users/anovayoungers/Downloads/physical_therapy_dataset/s1/e6/u4\n",
            "/Users/anovayoungers/Downloads/physical_therapy_dataset/s1/e6/u5\n",
            "/Users/anovayoungers/Downloads/physical_therapy_dataset/s1/e6/u2\n",
            "/Users/anovayoungers/Downloads/physical_therapy_dataset/s1/e6/u1/template_session.txt\n",
            "/Users/anovayoungers/Downloads/physical_therapy_dataset/s1/e6/u1/test.txt\n",
            "/Users/anovayoungers/Downloads/physical_therapy_dataset/s1/e6/u3/template_session.txt\n",
            "/Users/anovayoungers/Downloads/physical_therapy_dataset/s1/e6/u3/test.txt\n",
            "/Users/anovayoungers/Downloads/physical_therapy_dataset/s1/e6/u4/template_session.txt\n",
            "/Users/anovayoungers/Downloads/physical_therapy_dataset/s1/e6/u4/test.txt\n",
            "/Users/anovayoungers/Downloads/physical_therapy_dataset/s1/e6/u5/template_session.txt\n",
            "/Users/anovayoungers/Downloads/physical_therapy_dataset/s1/e6/u5/test.txt\n",
            "/Users/anovayoungers/Downloads/physical_therapy_dataset/s1/e6/u2/template_session.txt\n",
            "/Users/anovayoungers/Downloads/physical_therapy_dataset/s1/e6/u2/test.txt\n",
            "/Users/anovayoungers/Downloads/physical_therapy_dataset/s1/e8/template_times.txt\n",
            "/Users/anovayoungers/Downloads/physical_therapy_dataset/s1/e8/u1\n",
            "/Users/anovayoungers/Downloads/physical_therapy_dataset/s1/e8/u3\n",
            "/Users/anovayoungers/Downloads/physical_therapy_dataset/s1/e8/u4\n",
            "/Users/anovayoungers/Downloads/physical_therapy_dataset/s1/e8/u5\n",
            "/Users/anovayoungers/Downloads/physical_therapy_dataset/s1/e8/u2\n",
            "/Users/anovayoungers/Downloads/physical_therapy_dataset/s1/e8/u1/template_session.txt\n",
            "/Users/anovayoungers/Downloads/physical_therapy_dataset/s1/e8/u1/test.txt\n",
            "/Users/anovayoungers/Downloads/physical_therapy_dataset/s1/e8/u3/template_session.txt\n",
            "/Users/anovayoungers/Downloads/physical_therapy_dataset/s1/e8/u3/test.txt\n",
            "/Users/anovayoungers/Downloads/physical_therapy_dataset/s1/e8/u4/template_session.txt\n",
            "/Users/anovayoungers/Downloads/physical_therapy_dataset/s1/e8/u4/test.txt\n",
            "/Users/anovayoungers/Downloads/physical_therapy_dataset/s1/e8/u5/template_session.txt\n",
            "/Users/anovayoungers/Downloads/physical_therapy_dataset/s1/e8/u5/test.txt\n",
            "/Users/anovayoungers/Downloads/physical_therapy_dataset/s1/e8/u2/template_session.txt\n",
            "/Users/anovayoungers/Downloads/physical_therapy_dataset/s1/e8/u2/test.txt\n",
            "/Users/anovayoungers/Downloads/physical_therapy_dataset/s1/e7/template_times.txt\n",
            "/Users/anovayoungers/Downloads/physical_therapy_dataset/s1/e7/u1\n",
            "/Users/anovayoungers/Downloads/physical_therapy_dataset/s1/e7/u3\n",
            "/Users/anovayoungers/Downloads/physical_therapy_dataset/s1/e7/u4\n",
            "/Users/anovayoungers/Downloads/physical_therapy_dataset/s1/e7/u5\n",
            "/Users/anovayoungers/Downloads/physical_therapy_dataset/s1/e7/u2\n",
            "/Users/anovayoungers/Downloads/physical_therapy_dataset/s1/e7/u1/template_session.txt\n",
            "/Users/anovayoungers/Downloads/physical_therapy_dataset/s1/e7/u1/test.txt\n",
            "/Users/anovayoungers/Downloads/physical_therapy_dataset/s1/e7/u3/template_session.txt\n",
            "/Users/anovayoungers/Downloads/physical_therapy_dataset/s1/e7/u3/test.txt\n",
            "/Users/anovayoungers/Downloads/physical_therapy_dataset/s1/e7/u4/template_session.txt\n",
            "/Users/anovayoungers/Downloads/physical_therapy_dataset/s1/e7/u4/test.txt\n",
            "/Users/anovayoungers/Downloads/physical_therapy_dataset/s1/e7/u5/template_session.txt\n",
            "/Users/anovayoungers/Downloads/physical_therapy_dataset/s1/e7/u5/test.txt\n",
            "/Users/anovayoungers/Downloads/physical_therapy_dataset/s1/e7/u2/template_session.txt\n",
            "/Users/anovayoungers/Downloads/physical_therapy_dataset/s1/e7/u2/test.txt\n"
          ]
        }
      ],
      "source": [
        "for root, dirs, files in os.walk(extraction_directory, topdown=True):\n",
        "    for name in files:\n",
        "        print(os.path.join(root, name))\n",
        "    for name in dirs:\n",
        "        print(os.path.join(root, name))\n"
      ]
    },
    {
      "cell_type": "code",
      "execution_count": null,
      "metadata": {
        "id": "WyHQQYwXK-9p"
      },
      "outputs": [],
      "source": [
        "import pandas as pd\n",
        "\n",
        "def load_data(file_path):\n",
        "    \"\"\"Load data from a specified file path into a pandas DataFrame.\"\"\"\n",
        "    try:\n",
        "        data = pd.read_csv(file_path, sep=\"\\t\", header=None)\n",
        "        return data\n",
        "    except Exception as e:\n",
        "        print(f\"Error loading {file_path}: {e}\")\n",
        "        return None\n"
      ]
    },
    {
      "cell_type": "code",
      "execution_count": null,
      "metadata": {
        "id": "qToOYcTJK-9p",
        "outputId": "7ece2b65-56a9-4284-ef7a-8bdc85c6bb09"
      },
      "outputs": [
        {
          "name": "stdout",
          "output_type": "stream",
          "text": [
            "                                                   0\n",
            "0  time index;acc_x;acc_y;acc_z;gyr_x;gyr_y;gyr_z...\n",
            "1  1;-9.685645;-1.645149;0.505022;-0.020696;0.009...\n",
            "2  2;-9.648184;-1.645353;0.513125;-0.008165;-0.00...\n",
            "3  3;-9.70057;-1.615223;0.512321;-0.004447;0.0110...\n",
            "4  4;-9.685627;-1.630183;0.497591;-0.02611;0.0091...\n"
          ]
        }
      ],
      "source": [
        "file_path = '/Users/anovayoungers/Downloads/physical_therapy_dataset/s1/e1/u1/test.txt'\n",
        "data = load_data(file_path)\n",
        "print(data.head())"
      ]
    },
    {
      "cell_type": "code",
      "execution_count": null,
      "metadata": {
        "id": "gGQiPFhlK-9p",
        "outputId": "3677da44-c829-4361-c768-c37457bd893c"
      },
      "outputs": [
        {
          "name": "stdout",
          "output_type": "stream",
          "text": [
            "   time index     acc_x     acc_y     acc_z     gyr_x     gyr_y     gyr_z  \\\n",
            "0           1  1.141452  9.587617  1.343498 -0.070101  0.005029 -0.011399   \n",
            "1           2  1.164059  9.602035  1.463472 -0.034009  0.010527 -0.011461   \n",
            "2           3  1.164136  9.639337  1.478518  0.002012 -0.015333 -0.011723   \n",
            "3           4  1.194045  9.661973  1.374475  0.020135 -0.000033 -0.011679   \n",
            "4           5  1.178997  9.647259  1.329349  0.025554  0.001804 -0.010769   \n",
            "\n",
            "      mag_x     mag_y     mag_z subject exercise sensor_unit  \n",
            "0 -0.445307 -0.798925 -0.107220      s5       e5          u1  \n",
            "1 -0.446360 -0.797980 -0.108362      s5       e5          u1  \n",
            "2 -0.445484 -0.798622 -0.111318      s5       e5          u1  \n",
            "3 -0.444755 -0.797540 -0.110497      s5       e5          u1  \n",
            "4 -0.444055 -0.797550 -0.108431      s5       e5          u1  \n",
            "   time index     acc_x     acc_y     acc_z     gyr_x     gyr_y     gyr_z  \\\n",
            "0           1  0.652541  9.682474 -1.445645 -0.009881  0.000176 -0.007806   \n",
            "1           2  0.607605  9.690158 -1.446384 -0.038668 -0.000065 -0.014955   \n",
            "2           3  0.675119  9.719565 -1.400331 -0.045991  0.009034 -0.005860   \n",
            "3           4  0.675125  9.719539 -1.392859 -0.020613 -0.003642 -0.016860   \n",
            "4           5  0.667579  9.674671 -1.370691 -0.022674  0.002134  0.003087   \n",
            "\n",
            "      mag_x     mag_y     mag_z subject exercise sensor_unit  \n",
            "0 -0.398344 -0.830576  0.107833      s5       e5          u1  \n",
            "1 -0.398873 -0.832188  0.105940      s5       e5          u1  \n",
            "2 -0.398443 -0.830836  0.106473      s5       e5          u1  \n",
            "3 -0.398376 -0.832162  0.103504      s5       e5          u1  \n",
            "4 -0.399067 -0.831104  0.105368      s5       e5          u1  \n",
            "   execution type  start    end subject exercise\n",
            "0               1  168.0  267.0      s5       e5\n",
            "1               2  519.0  588.0      s5       e5\n",
            "2               3  805.0  890.0      s5       e5\n",
            "3               1  175.0  315.0      s5       e2\n",
            "4               2  595.0  671.0      s5       e2\n"
          ]
        }
      ],
      "source": [
        "import os\n",
        "import pandas as pd\n",
        "\n",
        "def load_data_from_directory(directory_path):\n",
        "    sensor_data = []\n",
        "    session_metadata = []\n",
        "    times_metadata = []\n",
        "\n",
        "    for root, dirs, files in os.walk(directory_path, topdown=True):\n",
        "        parts = root.split(os.sep)\n",
        "        subject = next((part for part in parts if part.startswith('s')), None)\n",
        "        exercise = next((part for part in parts if part.startswith('e')), None)\n",
        "        sensor_unit = next((part for part in parts if part.startswith('u')), None)\n",
        "\n",
        "        for name in files:\n",
        "            file_path = os.path.join(root, name)\n",
        "            if name == 'test.txt':  # Load sensor data\n",
        "                data = pd.read_csv(file_path, sep=\";\", header=0)\n",
        "                data['subject'] = subject\n",
        "                data['exercise'] = exercise\n",
        "                data['sensor_unit'] = sensor_unit\n",
        "                sensor_data.append(data)\n",
        "            elif name == 'template_session.txt': # Load session data\n",
        "                session_data = pd.read_csv(file_path, sep=\";\", header=0)\n",
        "                session_data['subject'] = subject\n",
        "                session_data['exercise'] = exercise\n",
        "                session_data['sensor_unit'] = sensor_unit\n",
        "                session_metadata.append(session_data)\n",
        "            elif name == 'template_times.txt':  # Load times data\n",
        "                times_data = pd.read_csv(file_path, sep=\";\", header=0)\n",
        "                times_data['subject'] = subject\n",
        "                times_data['exercise'] = exercise\n",
        "\n",
        "                times_metadata.append(times_data)\n",
        "\n",
        "    # Combine all data into DataFrames\n",
        "    sensor_df = pd.concat(sensor_data, ignore_index=True)\n",
        "    session_df = pd.concat(session_metadata, ignore_index=True)\n",
        "    times_df = pd.concat(times_metadata, ignore_index=True)\n",
        "\n",
        "    return sensor_df, session_df, times_df\n",
        "\n",
        "extraction_directory = '/Users/anovayoungers/Downloads/physical_therapy_dataset'\n",
        "sensor_df, session_df, times_df = load_data_from_directory(extraction_directory)\n",
        "\n",
        "print(sensor_df.head())\n",
        "print(session_df.head())\n",
        "print(times_df.head())\n",
        "\n"
      ]
    },
    {
      "cell_type": "markdown",
      "metadata": {
        "id": "7TyWmxuiK-9q"
      },
      "source": [
        "Standardize the sensor data (features) to have a mean of 0 and a standard deviation of 1."
      ]
    },
    {
      "cell_type": "code",
      "execution_count": null,
      "metadata": {
        "id": "GnIF59CbK-9q",
        "outputId": "5bb82bbf-01c9-4484-ae92-0d9b8fdd292f"
      },
      "outputs": [
        {
          "name": "stdout",
          "output_type": "stream",
          "text": [
            "Index(['time index', 'acc_x', 'acc_y', 'acc_z', 'gyr_x', 'gyr_y', 'gyr_z',\n",
            "       'mag_x', 'mag_y', 'mag_z', 'subject', 'exercise', 'sensor_unit'],\n",
            "      dtype='object')\n"
          ]
        }
      ],
      "source": [
        "print(sensor_df.columns)"
      ]
    },
    {
      "cell_type": "code",
      "execution_count": null,
      "metadata": {
        "id": "nFEU5k-kK-9q"
      },
      "outputs": [],
      "source": [
        "from sklearn.preprocessing import StandardScaler\n",
        "\n",
        "sensor_columns = ['acc_x', 'acc_y', 'acc_z', 'gyr_x', 'gyr_y', 'gyr_z', 'mag_x', 'mag_y', 'mag_z']\n",
        "\n",
        "scaler = StandardScaler()\n",
        "\n",
        "sensor_data_to_scale = sensor_df[sensor_columns]\n",
        "\n",
        "sensor_df[sensor_columns] = scaler.fit_transform(sensor_data_to_scale)"
      ]
    },
    {
      "cell_type": "markdown",
      "metadata": {
        "id": "GMrZ6klCK-9r"
      },
      "source": [
        "Preprocessing for CNN's"
      ]
    },
    {
      "cell_type": "markdown",
      "metadata": {
        "id": "RtZ8o2VcK-9r"
      },
      "source": [
        "Segmenting"
      ]
    },
    {
      "cell_type": "code",
      "execution_count": null,
      "metadata": {
        "id": "4MJWtHS5K-9r",
        "outputId": "783373ca-079c-4594-e155-ce0eced012cb"
      },
      "outputs": [
        {
          "name": "stdout",
          "output_type": "stream",
          "text": [
            "Total segments: 600\n"
          ]
        }
      ],
      "source": [
        "import numpy as np\n",
        "segments = []  # To store sensor data segments\n",
        "segment_labels = []\n",
        "\n",
        "# Iterate through each unique subject, exercise, and sensor unit combination\n",
        "for (subject, exercise, sensor_unit), sensor_df_subset in sensor_df.groupby(['subject', 'exercise', 'sensor_unit']):\n",
        "\n",
        "    # Filter times_df for the current subject and exercise\n",
        "    relevant_times = times_df[(times_df['subject'] == subject) & (times_df['exercise'] == exercise)]\n",
        "\n",
        "    for _, time_row in relevant_times.iterrows():\n",
        "        start, end = int(time_row['start']), int(time_row['end'])\n",
        "\n",
        "        # Extracting segment based on start and end indices\n",
        "        segment = sensor_df_subset[(sensor_df_subset['time index'] >= start) & (sensor_df_subset['time index'] <= end)]\n",
        "\n",
        "        # Extract only sensor data for the segment\n",
        "        segment_sensor_only = segment[['acc_x', 'acc_y', 'acc_z', 'gyr_x', 'gyr_y', 'gyr_z', 'mag_x', 'mag_y', 'mag_z']].values\n",
        "\n",
        "        segments.append(segment_sensor_only)\n",
        "        segment_labels.append(exercise)  # Label is exercise type\n",
        "\n",
        "# Convert to numpy arrays\n",
        "segments = np.array(segments, dtype=object) # dtype=object allows for arrays of different lengths\n",
        "segment_labels = np.array(segment_labels)\n",
        "\n",
        "print(f\"Total segments: {len(segments)}\")\n"
      ]
    },
    {
      "cell_type": "markdown",
      "metadata": {
        "id": "ytwsziGbK-9s"
      },
      "source": [
        "Label Encoding"
      ]
    },
    {
      "cell_type": "code",
      "execution_count": null,
      "metadata": {
        "id": "NN5P1Sn5K-9s"
      },
      "outputs": [],
      "source": [
        "from tensorflow.keras.utils import to_categorical\n",
        "\n",
        "# To convert segment labels from categorical to integers\n",
        "from sklearn.preprocessing import LabelEncoder\n",
        "\n",
        "label_encoder = LabelEncoder()\n",
        "segment_labels_encoded = label_encoder.fit_transform(segment_labels)\n",
        "\n",
        "# Now one-hot encode\n",
        "segment_labels_one_hot = to_categorical(segment_labels_encoded)\n"
      ]
    },
    {
      "cell_type": "markdown",
      "metadata": {
        "id": "v9Zt_v8cK-9s"
      },
      "source": [
        "Train, Test, Val, Split\n",
        "\n",
        "Preserving Chronological Order: By setting shuffle=False"
      ]
    },
    {
      "cell_type": "code",
      "execution_count": null,
      "metadata": {
        "id": "VC4LbvMyK-9s"
      },
      "outputs": [],
      "source": [
        "from sklearn.model_selection import train_test_split\n",
        "\n",
        "train_size = 0.6\n",
        "val_size = 0.2\n",
        "\n",
        "temp_size = 1 - train_size  # 0.4\n",
        "\n",
        "val_proportion_of_temp = val_size / temp_size  # 0.2 / 0.4 = 0.5\n",
        "\n",
        "# Split data into a train set and a temporary set (combining val and test)\n",
        "X_train, X_temp, y_train, y_temp = train_test_split(segments, segment_labels_one_hot, train_size=train_size, shuffle=False)\n",
        "\n",
        "# Now, split the temporary set into val and test sets\n",
        "X_val, X_test, y_val, y_test = train_test_split(X_temp, y_temp, test_size=val_proportion_of_temp, shuffle=False)\n"
      ]
    },
    {
      "cell_type": "markdown",
      "metadata": {
        "id": "RTCIRKceK-9s"
      },
      "source": [
        "CNN Model Architecture"
      ]
    },
    {
      "cell_type": "code",
      "execution_count": null,
      "metadata": {
        "id": "ozn-xtwjK-9s",
        "outputId": "7a14dc33-78b5-40ae-a8c6-fd0719df8892"
      },
      "outputs": [
        {
          "name": "stdout",
          "output_type": "stream",
          "text": [
            "Current shape of X_train: (360,)\n"
          ]
        }
      ],
      "source": [
        "print(\"Current shape of X_train:\", X_train.shape)"
      ]
    },
    {
      "cell_type": "code",
      "execution_count": null,
      "metadata": {
        "id": "GmqKOlMpK-9s",
        "outputId": "bc0c8f6f-e02e-4767-d8af-1b000b9eb91b"
      },
      "outputs": [
        {
          "name": "stdout",
          "output_type": "stream",
          "text": [
            "<class 'numpy.ndarray'>\n",
            "<class 'numpy.ndarray'>\n"
          ]
        }
      ],
      "source": [
        "print(type(X_train))\n",
        "print(type(X_train[0]))"
      ]
    },
    {
      "cell_type": "code",
      "execution_count": null,
      "metadata": {
        "id": "_q5spmpyK-9t",
        "outputId": "b0ced484-44ff-47df-d32b-d4a595eb4265"
      },
      "outputs": [
        {
          "name": "stdout",
          "output_type": "stream",
          "text": [
            "Segment 0 shape: (216, 9)\n",
            "Segment 1 shape: (106, 9)\n",
            "Segment 2 shape: (204, 9)\n",
            "Segment 3 shape: (216, 9)\n",
            "Segment 4 shape: (106, 9)\n"
          ]
        }
      ],
      "source": [
        "# Print the shapes of the first few segments to understand their structure\n",
        "for i in range(min(5, len(X_train))):  # Check up to the first 5 segments\n",
        "    print(f\"Segment {i} shape:\", X_train[i].shape)"
      ]
    },
    {
      "cell_type": "code",
      "execution_count": null,
      "metadata": {
        "id": "DkT0mV8MK-9t",
        "outputId": "05188d37-76c9-4350-8a56-c26a1c855ad6"
      },
      "outputs": [
        {
          "name": "stdout",
          "output_type": "stream",
          "text": [
            "X_train overall shape: (360,)\n"
          ]
        }
      ],
      "source": [
        "print(\"X_train overall shape:\", X_train.shape)"
      ]
    },
    {
      "cell_type": "markdown",
      "metadata": {
        "id": "Nb81IMTNK-9t"
      },
      "source": [
        "It's clear that X_train is a 1D numpy array of objects (in this case, 2D numpy arrays) where each object represents a segment with a shape (segment_length, 9). The segment lengths vary. Since X_train has an overall shape of (360,), it means I have 360 such segments that are not uniformly sized for direct input into a Conv1D layer of a CNN, which requires a 3D numpy array of shape (num_samples, window_size, num_features).\n",
        "\n",
        "I need to pad these segments to a uniform length before proceeding."
      ]
    },
    {
      "cell_type": "code",
      "execution_count": null,
      "metadata": {
        "id": "1mRSecXcK-9t",
        "outputId": "9160020c-d169-4004-c14a-e0bd7edbf20c"
      },
      "outputs": [
        {
          "name": "stdout",
          "output_type": "stream",
          "text": [
            "New shape of X_train: (360, 218, 9)\n"
          ]
        }
      ],
      "source": [
        "from tensorflow.keras.preprocessing.sequence import pad_sequences\n",
        "\n",
        "window_size = max([segment.shape[0] for segment in X_train])\n",
        "\n",
        "# Pad each segment to the window_size\n",
        "X_train_padded = pad_sequences([segment for segment in X_train], maxlen=window_size, dtype='float32', padding='post', truncating='post', value=0.0)\n",
        "\n",
        "print(\"New shape of X_train:\", X_train_padded.shape)\n"
      ]
    },
    {
      "cell_type": "code",
      "execution_count": null,
      "metadata": {
        "id": "nVedgX-8K-9t",
        "outputId": "12d40f64-9c24-4e72-be48-455da46fd2f1"
      },
      "outputs": [
        {
          "name": "stdout",
          "output_type": "stream",
          "text": [
            "New shape of X_val_padded: (120, 218, 9)\n",
            "New shape of X_test_padded: (120, 218, 9)\n"
          ]
        }
      ],
      "source": [
        "from tensorflow.keras.preprocessing.sequence import pad_sequences\n",
        "\n",
        "X_val_padded = pad_sequences(X_val, maxlen=window_size, dtype='float32', padding='post', truncating='post', value=0.0)\n",
        "X_test_padded = pad_sequences(X_test, maxlen=window_size, dtype='float32', padding='post', truncating='post', value=0.0)\n",
        "\n",
        "print(\"New shape of X_val_padded:\", X_val_padded.shape)\n",
        "print(\"New shape of X_test_padded:\", X_test_padded.shape)\n"
      ]
    },
    {
      "cell_type": "code",
      "execution_count": null,
      "metadata": {
        "id": "gnCEuyc5K-9t",
        "outputId": "068008ba-36b7-4524-bc4a-12cf2e8efe29"
      },
      "outputs": [
        {
          "name": "stdout",
          "output_type": "stream",
          "text": [
            "y_train shape: (360, 8)\n",
            "y_val shape: (120, 8)\n",
            "y_test shape: (120, 8)\n"
          ]
        }
      ],
      "source": [
        "print(\"y_train shape:\", y_train.shape)\n",
        "print(\"y_val shape:\", y_val.shape)\n",
        "print(\"y_test shape:\", y_test.shape)"
      ]
    },
    {
      "cell_type": "code",
      "execution_count": null,
      "metadata": {
        "id": "BuJ9OvmYK-9t",
        "outputId": "46d55492-d7b6-42fc-f1ac-90efdd0600da"
      },
      "outputs": [
        {
          "name": "stdout",
          "output_type": "stream",
          "text": [
            "Model: \"sequential_1\"\n",
            "_________________________________________________________________\n",
            " Layer (type)                Output Shape              Param #   \n",
            "=================================================================\n",
            " conv1d_2 (Conv1D)           (None, 216, 64)           1792      \n",
            "                                                                 \n",
            " max_pooling1d_2 (MaxPoolin  (None, 108, 64)           0         \n",
            " g1D)                                                            \n",
            "                                                                 \n",
            " conv1d_3 (Conv1D)           (None, 106, 128)          24704     \n",
            "                                                                 \n",
            " max_pooling1d_3 (MaxPoolin  (None, 53, 128)           0         \n",
            " g1D)                                                            \n",
            "                                                                 \n",
            " flatten_1 (Flatten)         (None, 6784)              0         \n",
            "                                                                 \n",
            " dense_2 (Dense)             (None, 128)               868480    \n",
            "                                                                 \n",
            " dropout_1 (Dropout)         (None, 128)               0         \n",
            "                                                                 \n",
            " dense_3 (Dense)             (None, 8)                 1032      \n",
            "                                                                 \n",
            "=================================================================\n",
            "Total params: 896008 (3.42 MB)\n",
            "Trainable params: 896008 (3.42 MB)\n",
            "Non-trainable params: 0 (0.00 Byte)\n",
            "_________________________________________________________________\n"
          ]
        }
      ],
      "source": [
        "from tensorflow.keras.models import Sequential\n",
        "from tensorflow.keras.layers import Conv1D, MaxPooling1D, Flatten, Dense, Dropout\n",
        "\n",
        "model = Sequential([\n",
        "    Conv1D(filters=64, kernel_size=3, activation='relu', input_shape=(218, 9)),  # Adjusted to match X_train_padded shape\n",
        "    MaxPooling1D(pool_size=2),\n",
        "    Conv1D(filters=128, kernel_size=3, activation='relu'),\n",
        "    MaxPooling1D(pool_size=2),\n",
        "    Flatten(),\n",
        "    Dense(128, activation='relu'),\n",
        "    Dropout(0.5),\n",
        "    Dense(8, activation='softmax')  # Output layer with one neuron per class\n",
        "])\n",
        "\n",
        "model.compile(optimizer='adam',\n",
        "            loss='categorical_crossentropy',\n",
        "            metrics=['accuracy'])\n",
        "\n",
        "\n",
        "model.summary()"
      ]
    },
    {
      "cell_type": "markdown",
      "metadata": {
        "id": "7pfToEqPK-9t"
      },
      "source": [
        "**Run the Model**"
      ]
    },
    {
      "cell_type": "code",
      "execution_count": null,
      "metadata": {
        "id": "GXiEu3jAK-9u",
        "outputId": "729cd59d-9bf3-450a-fe65-3a7038f10b5f"
      },
      "outputs": [
        {
          "name": "stdout",
          "output_type": "stream",
          "text": [
            "Epoch 1/10\n",
            "12/12 [==============================] - 0s 12ms/step - loss: 2.0660 - accuracy: 0.2000 - val_loss: 1.7912 - val_accuracy: 0.3333\n",
            "Epoch 2/10\n",
            "12/12 [==============================] - 0s 6ms/step - loss: 1.4668 - accuracy: 0.4833 - val_loss: 1.5511 - val_accuracy: 0.4000\n",
            "Epoch 3/10\n",
            "12/12 [==============================] - 0s 6ms/step - loss: 1.1249 - accuracy: 0.6000 - val_loss: 1.3877 - val_accuracy: 0.4500\n",
            "Epoch 4/10\n",
            "12/12 [==============================] - 0s 6ms/step - loss: 0.8384 - accuracy: 0.7167 - val_loss: 1.3367 - val_accuracy: 0.4583\n",
            "Epoch 5/10\n",
            "12/12 [==============================] - 0s 6ms/step - loss: 0.7279 - accuracy: 0.7639 - val_loss: 1.3330 - val_accuracy: 0.5167\n",
            "Epoch 6/10\n",
            "12/12 [==============================] - 0s 6ms/step - loss: 0.6180 - accuracy: 0.7667 - val_loss: 1.4375 - val_accuracy: 0.4500\n",
            "Epoch 7/10\n",
            "12/12 [==============================] - 0s 6ms/step - loss: 0.4870 - accuracy: 0.8250 - val_loss: 1.4902 - val_accuracy: 0.4667\n",
            "Epoch 8/10\n",
            "12/12 [==============================] - 0s 6ms/step - loss: 0.4052 - accuracy: 0.8583 - val_loss: 1.5638 - val_accuracy: 0.4167\n",
            "Epoch 9/10\n",
            "12/12 [==============================] - 0s 6ms/step - loss: 0.4143 - accuracy: 0.8444 - val_loss: 1.5440 - val_accuracy: 0.4500\n",
            "Epoch 10/10\n",
            "12/12 [==============================] - 0s 6ms/step - loss: 0.3597 - accuracy: 0.8778 - val_loss: 1.5443 - val_accuracy: 0.4500\n"
          ]
        }
      ],
      "source": [
        "history = model.fit(X_train_padded, y_train, epochs=10, batch_size=32,\n",
        "                    validation_data=(X_val_padded, y_val))\n"
      ]
    },
    {
      "cell_type": "code",
      "execution_count": null,
      "metadata": {
        "id": "SniGqJKlK-9u",
        "outputId": "1c04a650-6be2-4576-db33-b94e58ddea45"
      },
      "outputs": [
        {
          "name": "stdout",
          "output_type": "stream",
          "text": [
            "4/4 [==============================] - 0s 2ms/step - loss: 1.9541 - accuracy: 0.5333\n",
            "Test Loss: 1.9541223049163818, Test Accuracy: 0.5333333611488342\n"
          ]
        }
      ],
      "source": [
        "test_loss, test_accuracy = model.evaluate(X_test_padded, y_test)\n",
        "print(f\"Test Loss: {test_loss}, Test Accuracy: {test_accuracy}\")\n"
      ]
    },
    {
      "cell_type": "markdown",
      "metadata": {
        "id": "i62M5Qy9K-9u"
      },
      "source": [
        "Visualization"
      ]
    },
    {
      "cell_type": "code",
      "execution_count": null,
      "metadata": {
        "id": "Oa8OdPc0K-9u",
        "outputId": "75e834d9-fa74-4a2d-a175-3190dd69deb3"
      },
      "outputs": [
        {
          "data": {
            "image/png": "[encoded data removed]",
            "text/plain": [
              "<Figure size 1200x500 with 2 Axes>"
            ]
          },
          "metadata": {},
          "output_type": "display_data"
        }
      ],
      "source": [
        "import matplotlib.pyplot as plt\n",
        "\n",
        "acc = history.history['accuracy']\n",
        "val_acc = history.history['val_accuracy']\n",
        "loss = history.history['loss']\n",
        "val_loss = history.history['val_loss']\n",
        "\n",
        "epochs = range(1, len(acc) + 1)\n",
        "\n",
        "# Plot training and validation accuracy\n",
        "plt.figure(figsize=(12, 5))\n",
        "plt.subplot(1, 2, 1)\n",
        "plt.plot(epochs, acc, 'bo', label='Training accuracy')\n",
        "plt.plot(epochs, val_acc, 'b', label='Validation accuracy')\n",
        "plt.title('Training and validation accuracy')\n",
        "plt.xlabel('Epochs')\n",
        "plt.ylabel('Accuracy')\n",
        "plt.legend()\n",
        "\n",
        "# Plot training and validation loss\n",
        "plt.subplot(1, 2, 2)\n",
        "plt.plot(epochs, loss, 'bo', label='Training loss')\n",
        "plt.plot(epochs, val_loss, 'b', label='Validation loss')\n",
        "plt.title('Training and validation loss')\n",
        "plt.xlabel('Epochs')\n",
        "plt.ylabel('Loss')\n",
        "plt.legend()\n",
        "\n",
        "plt.tight_layout()\n",
        "plt.show()\n"
      ]
    },
    {
      "cell_type": "markdown",
      "metadata": {
        "id": "f_Lqiuk_K-9u"
      },
      "source": [
        "**Model Summary**\n",
        "\n",
        "The training accuracy improved significantly over epochs, reaching approximately 87.78%.\n",
        "\n",
        "The validation accuracy reached a peak around 51.67%, indicating the model's generalization performance on unseen data during the training process. Not very good. very close to outright guessing.\n",
        "\n",
        "After training, I evaluated the model on the test set, achieving a test accuracy of approximately 53.33%. This gives a baseline performance of the model on completely unseen data."
      ]
    }
  ],
  "metadata": {
    "kernelspec": {
      "display_name": "base",
      "language": "python",
      "name": "python3"
    },
    "language_info": {
      "codemirror_mode": {
        "name": "ipython",
        "version": 3
      },
      "file_extension": ".py",
      "mimetype": "text/x-python",
      "name": "python",
      "nbconvert_exporter": "python",
      "pygments_lexer": "ipython3",
      "version": "3.11.4"
    },
    "colab": {
      "provenance": [],
      "include_colab_link": true
    }
  },
  "nbformat": 4,
  "nbformat_minor": 0
}