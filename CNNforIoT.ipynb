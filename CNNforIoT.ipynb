{
  "cells": [
    {
      "cell_type": "markdown",
      "metadata": {
        "id": "view-in-github",
        "colab_type": "text"
      },
      "source": [
        "<a href=\"https://colab.research.google.com/github/AnovaYoung/IoT_PhysicalTherapy/blob/main/CNNforIoT.ipynb\" target=\"_parent\"><img src=\"https://colab.research.google.com/assets/colab-badge.svg\" alt=\"Open In Colab\"/></a>"
      ]
    },
    {
      "cell_type": "code",
      "execution_count": null,
      "metadata": {
        "id": "LgOJUm_TKwR8",
        "outputId": "b9d76e74-db65-4f85-c3e3-9b8b126dfe52"
      },
      "outputs": [
        {
          "name": "stdout",
          "output_type": "stream",
          "text": [
            "Files extracted to /Users/anovayoungers/Downloads/physical_therapy_dataset\n"
          ]
        }
      ],
      "source": [
        "from zipfile import ZipFile\n",
        "import os\n",
        "\n",
        "zip_file_path = '/Users/anovayoungers/Downloads/physical+therapy+exercises+dataset.zip'\n",
        "\n",
        "extraction_directory = '/Users/anovayoungers/Downloads/physical_therapy_dataset'\n",
        "\n",
        "with ZipFile(zip_file_path, 'r') as zip_ref:\n",
        "    zip_ref.extractall(extraction_directory)\n",
        "\n",
        "print(f'Files extracted to {extraction_directory}')\n"
      ]
    },
    {
      "cell_type": "code",
      "execution_count": null,
      "metadata": {
        "id": "tAhhvvAQKwR-"
      },
      "outputs": [],
      "source": [
        "for root, dirs, files in os.walk(extraction_directory, topdown=True):\n",
        "    for name in files:\n",
        "        print(os.path.join(root, name))\n",
        "    for name in dirs:\n",
        "        print(os.path.join(root, name))\n"
      ]
    },
    {
      "cell_type": "code",
      "execution_count": null,
      "metadata": {
        "id": "StV_uiJXKwR-"
      },
      "outputs": [],
      "source": [
        "import pandas as pd\n",
        "\n",
        "def load_data(file_path):\n",
        "    \"\"\"Load data from a specified file path into a pandas DataFrame.\"\"\"\n",
        "    try:\n",
        "        data = pd.read_csv(file_path, sep=\"\\t\", header=None)\n",
        "        return data\n",
        "    except Exception as e:\n",
        "        print(f\"Error loading {file_path}: {e}\")\n",
        "        return None\n"
      ]
    },
    {
      "cell_type": "code",
      "execution_count": null,
      "metadata": {
        "id": "B6GYvRbEKwR_",
        "outputId": "f83eef68-ddf0-49c0-9fff-8f8559ec18b0"
      },
      "outputs": [
        {
          "name": "stdout",
          "output_type": "stream",
          "text": [
            "                                                   0\n",
            "0  time index;acc_x;acc_y;acc_z;gyr_x;gyr_y;gyr_z...\n",
            "1  1;-9.685645;-1.645149;0.505022;-0.020696;0.009...\n",
            "2  2;-9.648184;-1.645353;0.513125;-0.008165;-0.00...\n",
            "3  3;-9.70057;-1.615223;0.512321;-0.004447;0.0110...\n",
            "4  4;-9.685627;-1.630183;0.497591;-0.02611;0.0091...\n"
          ]
        }
      ],
      "source": [
        "file_path = '/Users/anovayoungers/Downloads/physical_therapy_dataset/s1/e1/u1/test.txt'\n",
        "data = load_data(file_path)\n",
        "print(data.head())"
      ]
    },
    {
      "cell_type": "code",
      "execution_count": null,
      "metadata": {
        "id": "FKeeatQpKwR_",
        "outputId": "0a98834a-38b0-411d-fd75-2454a3bf979a"
      },
      "outputs": [
        {
          "name": "stdout",
          "output_type": "stream",
          "text": [
            "   time index     acc_x     acc_y     acc_z     gyr_x     gyr_y     gyr_z  \\\n",
            "0           1  1.141452  9.587617  1.343498 -0.070101  0.005029 -0.011399   \n",
            "1           2  1.164059  9.602035  1.463472 -0.034009  0.010527 -0.011461   \n",
            "2           3  1.164136  9.639337  1.478518  0.002012 -0.015333 -0.011723   \n",
            "3           4  1.194045  9.661973  1.374475  0.020135 -0.000033 -0.011679   \n",
            "4           5  1.178997  9.647259  1.329349  0.025554  0.001804 -0.010769   \n",
            "\n",
            "      mag_x     mag_y     mag_z subject exercise sensor_unit  \n",
            "0 -0.445307 -0.798925 -0.107220      s5       e5          u1  \n",
            "1 -0.446360 -0.797980 -0.108362      s5       e5          u1  \n",
            "2 -0.445484 -0.798622 -0.111318      s5       e5          u1  \n",
            "3 -0.444755 -0.797540 -0.110497      s5       e5          u1  \n",
            "4 -0.444055 -0.797550 -0.108431      s5       e5          u1  \n",
            "   time index     acc_x     acc_y     acc_z     gyr_x     gyr_y     gyr_z  \\\n",
            "0           1  0.652541  9.682474 -1.445645 -0.009881  0.000176 -0.007806   \n",
            "1           2  0.607605  9.690158 -1.446384 -0.038668 -0.000065 -0.014955   \n",
            "2           3  0.675119  9.719565 -1.400331 -0.045991  0.009034 -0.005860   \n",
            "3           4  0.675125  9.719539 -1.392859 -0.020613 -0.003642 -0.016860   \n",
            "4           5  0.667579  9.674671 -1.370691 -0.022674  0.002134  0.003087   \n",
            "\n",
            "      mag_x     mag_y     mag_z subject exercise sensor_unit  \n",
            "0 -0.398344 -0.830576  0.107833      s5       e5          u1  \n",
            "1 -0.398873 -0.832188  0.105940      s5       e5          u1  \n",
            "2 -0.398443 -0.830836  0.106473      s5       e5          u1  \n",
            "3 -0.398376 -0.832162  0.103504      s5       e5          u1  \n",
            "4 -0.399067 -0.831104  0.105368      s5       e5          u1  \n",
            "   execution type  start    end subject exercise\n",
            "0               1  168.0  267.0      s5       e5\n",
            "1               2  519.0  588.0      s5       e5\n",
            "2               3  805.0  890.0      s5       e5\n",
            "3               1  175.0  315.0      s5       e2\n",
            "4               2  595.0  671.0      s5       e2\n"
          ]
        }
      ],
      "source": [
        "import os\n",
        "import pandas as pd\n",
        "\n",
        "def load_data_from_directory(directory_path):\n",
        "    sensor_data = []\n",
        "    session_metadata = []\n",
        "    times_metadata = []\n",
        "\n",
        "    for root, dirs, files in os.walk(directory_path, topdown=True):\n",
        "        parts = root.split(os.sep)\n",
        "        subject = next((part for part in parts if part.startswith('s')), None)\n",
        "        exercise = next((part for part in parts if part.startswith('e')), None)\n",
        "        sensor_unit = next((part for part in parts if part.startswith('u')), None)\n",
        "\n",
        "        for name in files:\n",
        "            file_path = os.path.join(root, name)\n",
        "            if name == 'test.txt':  # Load sensor data\n",
        "                data = pd.read_csv(file_path, sep=\";\", header=0)\n",
        "                data['subject'] = subject\n",
        "                data['exercise'] = exercise\n",
        "                data['sensor_unit'] = sensor_unit\n",
        "                sensor_data.append(data)\n",
        "            elif name == 'template_session.txt': # Load session data\n",
        "                session_data = pd.read_csv(file_path, sep=\";\", header=0)\n",
        "                session_data['subject'] = subject\n",
        "                session_data['exercise'] = exercise\n",
        "                session_data['sensor_unit'] = sensor_unit\n",
        "                session_metadata.append(session_data)\n",
        "            elif name == 'template_times.txt':  # Load times data\n",
        "                times_data = pd.read_csv(file_path, sep=\";\", header=0)\n",
        "                times_data['subject'] = subject\n",
        "                times_data['exercise'] = exercise\n",
        "\n",
        "                times_metadata.append(times_data)\n",
        "\n",
        "    # Combine all data into DataFrames\n",
        "    sensor_df = pd.concat(sensor_data, ignore_index=True)\n",
        "    session_df = pd.concat(session_metadata, ignore_index=True)\n",
        "    times_df = pd.concat(times_metadata, ignore_index=True)\n",
        "\n",
        "    return sensor_df, session_df, times_df\n",
        "\n",
        "extraction_directory = '/Users/anovayoungers/Downloads/physical_therapy_dataset'\n",
        "sensor_df, session_df, times_df = load_data_from_directory(extraction_directory)\n",
        "\n",
        "print(sensor_df.head())\n",
        "print(session_df.head())\n",
        "print(times_df.head())\n",
        "\n"
      ]
    },
    {
      "cell_type": "code",
      "execution_count": null,
      "metadata": {
        "id": "vTpGVKCmKwR_",
        "outputId": "84226254-3e91-4d40-bdeb-37c1160e158f"
      },
      "outputs": [
        {
          "name": "stdout",
          "output_type": "stream",
          "text": [
            "   time index     acc_x     acc_y     acc_z     gyr_x     gyr_y     gyr_z  \\\n",
            "0           1  1.141452  9.587617  1.343498 -0.070101  0.005029 -0.011399   \n",
            "1           2  1.164059  9.602035  1.463472 -0.034009  0.010527 -0.011461   \n",
            "2           3  1.164136  9.639337  1.478518  0.002012 -0.015333 -0.011723   \n",
            "3           4  1.194045  9.661973  1.374475  0.020135 -0.000033 -0.011679   \n",
            "4           5  1.178997  9.647259  1.329349  0.025554  0.001804 -0.010769   \n",
            "\n",
            "      mag_x     mag_y     mag_z subject exercise sensor_unit  \n",
            "0 -0.445307 -0.798925 -0.107220      s5       e5          u1  \n",
            "1 -0.446360 -0.797980 -0.108362      s5       e5          u1  \n",
            "2 -0.445484 -0.798622 -0.111318      s5       e5          u1  \n",
            "3 -0.444755 -0.797540 -0.110497      s5       e5          u1  \n",
            "4 -0.444055 -0.797550 -0.108431      s5       e5          u1  \n"
          ]
        }
      ],
      "source": [
        "print(sensor_df.head())"
      ]
    },
    {
      "cell_type": "code",
      "execution_count": null,
      "metadata": {
        "id": "7Xeo6nJGKwR_",
        "outputId": "2fd84556-a508-40c4-cce4-37f663915432"
      },
      "outputs": [
        {
          "name": "stdout",
          "output_type": "stream",
          "text": [
            "   time index     acc_x     acc_y     acc_z     gyr_x     gyr_y     gyr_z  \\\n",
            "0           1  0.652541  9.682474 -1.445645 -0.009881  0.000176 -0.007806   \n",
            "1           2  0.607605  9.690158 -1.446384 -0.038668 -0.000065 -0.014955   \n",
            "2           3  0.675119  9.719565 -1.400331 -0.045991  0.009034 -0.005860   \n",
            "3           4  0.675125  9.719539 -1.392859 -0.020613 -0.003642 -0.016860   \n",
            "4           5  0.667579  9.674671 -1.370691 -0.022674  0.002134  0.003087   \n",
            "\n",
            "      mag_x     mag_y     mag_z subject exercise sensor_unit  \n",
            "0 -0.398344 -0.830576  0.107833      s5       e5          u1  \n",
            "1 -0.398873 -0.832188  0.105940      s5       e5          u1  \n",
            "2 -0.398443 -0.830836  0.106473      s5       e5          u1  \n",
            "3 -0.398376 -0.832162  0.103504      s5       e5          u1  \n",
            "4 -0.399067 -0.831104  0.105368      s5       e5          u1  \n"
          ]
        }
      ],
      "source": [
        "print(session_df.head())"
      ]
    },
    {
      "cell_type": "code",
      "execution_count": null,
      "metadata": {
        "id": "5M8oxogLKwR_",
        "outputId": "2bcd8230-6936-49aa-d79a-382e6a144977"
      },
      "outputs": [
        {
          "name": "stdout",
          "output_type": "stream",
          "text": [
            "  subject_ exercise_ sensor_unit_  time index_mean  time index_std  \\\n",
            "0       s1        e1           u1           2975.0     1717.472707   \n",
            "1       s1        e1           u2           2975.0     1717.472707   \n",
            "2       s1        e1           u3           2975.0     1717.472707   \n",
            "3       s1        e1           u4           2975.0     1717.472707   \n",
            "4       s1        e1           u5           2975.0     1717.472707   \n",
            "\n",
            "   time index_min  time index_max  acc_x_mean  acc_x_std  acc_x_min  ...  \\\n",
            "0               1            5949   -9.663837   0.021150  -9.765497  ...   \n",
            "1               1            5949   -5.558458   3.888564 -10.374365  ...   \n",
            "2               1            5949   -2.946522   0.462521  -3.718682  ...   \n",
            "3               1            5949    8.923568   0.091607   8.582313  ...   \n",
            "4               1            5949   -4.107289   0.057026  -4.253123  ...   \n",
            "\n",
            "   mag_x_min  mag_x_max  mag_y_mean  mag_y_std  mag_y_min  mag_y_max  \\\n",
            "0   0.582867   0.593496    0.455263   0.002829   0.444748   0.462438   \n",
            "1  -0.420615   0.652417   -0.641974   0.096154  -0.771160  -0.451231   \n",
            "2  -0.284853  -0.151752   -0.782044   0.017029  -0.806238  -0.750599   \n",
            "3  -0.555550  -0.484590   -0.005759   0.008999  -0.071297   0.021140   \n",
            "4  -0.017897   0.005474    0.724568   0.002046   0.719066   0.730089   \n",
            "\n",
            "   mag_z_mean  mag_z_std  mag_z_min  mag_z_max  \n",
            "0   -0.074380   0.013751  -0.098125  -0.050287  \n",
            "1   -0.098371   0.050897  -0.164026   0.003370  \n",
            "2   -0.136818   0.048348  -0.197025  -0.048058  \n",
            "3   -0.591612   0.011093  -0.619806  -0.557784  \n",
            "4    0.234907   0.005517   0.219790   0.248072  \n",
            "\n",
            "[5 rows x 43 columns]\n"
          ]
        }
      ],
      "source": [
        "import pandas as pd\n",
        "from sklearn.preprocessing import LabelEncoder\n",
        "\n",
        "grouped = sensor_df.groupby(['subject', 'exercise', 'sensor_unit'])\n",
        "\n",
        "aggregated_features = grouped.agg(['mean', 'std', 'min', 'max']).reset_index()\n",
        "\n",
        "# Flatten MultiIndex columns\n",
        "aggregated_features.columns = ['_'.join(col).strip() for col in aggregated_features.columns.values]\n",
        "\n",
        "print(aggregated_features.head())\n"
      ]
    },
    {
      "cell_type": "markdown",
      "metadata": {
        "id": "oPCmy3-pKwSA"
      },
      "source": [
        "I need to encode the categorical 'Exercise' column numerically"
      ]
    },
    {
      "cell_type": "code",
      "execution_count": null,
      "metadata": {
        "id": "xW0-pJLNKwSA",
        "outputId": "338aa175-8f4e-460a-f27f-8e5d603ee257"
      },
      "outputs": [
        {
          "name": "stdout",
          "output_type": "stream",
          "text": [
            "  exercise_  exercise_encoded\n",
            "0        e1                 0\n",
            "1        e1                 0\n",
            "2        e1                 0\n",
            "3        e1                 0\n",
            "4        e1                 0\n",
            "Label Mapping: {'e1': 0, 'e2': 1, 'e3': 2, 'e4': 3, 'e5': 4, 'e6': 5, 'e7': 6, 'e8': 7}\n"
          ]
        }
      ],
      "source": [
        "label_encoder = LabelEncoder()\n",
        "\n",
        "aggregated_features['exercise_encoded'] = label_encoder.fit_transform(aggregated_features['exercise_'])\n",
        "\n",
        "print(aggregated_features[['exercise_', 'exercise_encoded']].head())\n",
        "\n",
        "label_mapping = dict(zip(label_encoder.classes_, label_encoder.transform(label_encoder.classes_)))\n",
        "print(\"Label Mapping:\", label_mapping)\n"
      ]
    },
    {
      "cell_type": "markdown",
      "metadata": {
        "id": "GAOdQC1zKwSB"
      },
      "source": [
        "Create feature vector 'X' and label-vector 'y'"
      ]
    },
    {
      "cell_type": "code",
      "execution_count": null,
      "metadata": {
        "id": "CwLtXsg-KwSB",
        "outputId": "53dd401e-e090-4b36-c441-2901e8d96a91"
      },
      "outputs": [
        {
          "name": "stdout",
          "output_type": "stream",
          "text": [
            "X shape: (200, 40)\n",
            "y shape: (200,)\n"
          ]
        }
      ],
      "source": [
        "X = aggregated_features.drop(['subject_', 'exercise_', 'sensor_unit_', 'exercise_encoded'], axis=1)\n",
        "\n",
        "y = aggregated_features['exercise_encoded']\n",
        "\n",
        "print(\"X shape:\", X.shape)\n",
        "print(\"y shape:\", y.shape)\n"
      ]
    },
    {
      "cell_type": "markdown",
      "metadata": {
        "id": "divXfeRRKwSB"
      },
      "source": [
        "Normalize the feature data"
      ]
    },
    {
      "cell_type": "code",
      "execution_count": null,
      "metadata": {
        "id": "RCDL_IJOKwSB"
      },
      "outputs": [],
      "source": [
        "from sklearn.preprocessing import StandardScaler\n",
        "scaler = StandardScaler()\n",
        "X_scaled = scaler.fit_transform(X)"
      ]
    },
    {
      "cell_type": "code",
      "execution_count": null,
      "metadata": {
        "id": "WYsma11xKwSB",
        "outputId": "f37e8473-3407-4564-c3d6-d77284183c83"
      },
      "outputs": [
        {
          "name": "stdout",
          "output_type": "stream",
          "text": [
            "X_reshaped shape: (200, 40, 1)\n"
          ]
        }
      ],
      "source": [
        "X_reshaped = X_scaled.reshape((X_scaled.shape[0], X_scaled.shape[1], 1))\n",
        "print(\"X_reshaped shape:\", X_reshaped.shape)"
      ]
    },
    {
      "cell_type": "code",
      "execution_count": null,
      "metadata": {
        "id": "EpRy51rDKwSB",
        "outputId": "4186327f-3883-4fa0-a740-2acb7265f377"
      },
      "outputs": [
        {
          "name": "stdout",
          "output_type": "stream",
          "text": [
            "X_train shape: (160, 40, 1)\n",
            "X_test shape: (40, 40, 1)\n",
            "y_train shape: (160,)\n",
            "y_test shape: (40,)\n"
          ]
        }
      ],
      "source": [
        "from sklearn.model_selection import train_test_split\n",
        "\n",
        "X_train, X_test, y_train, y_test = train_test_split(X_reshaped, y, test_size=0.2, random_state=42)\n",
        "\n",
        "print(\"X_train shape:\", X_train.shape)\n",
        "print(\"X_test shape:\", X_test.shape)\n",
        "print(\"y_train shape:\", y_train.shape)\n",
        "print(\"y_test shape:\", y_test.shape)\n"
      ]
    },
    {
      "cell_type": "code",
      "execution_count": null,
      "metadata": {
        "id": "rOj56M0bKwSB",
        "outputId": "6bef86bc-6205-498d-e499-54eafcde3b90"
      },
      "outputs": [
        {
          "name": "stdout",
          "output_type": "stream",
          "text": [
            "Model: \"sequential_28\"\n",
            "_________________________________________________________________\n",
            " Layer (type)                Output Shape              Param #   \n",
            "=================================================================\n",
            " conv1d_30 (Conv1D)          (None, 38, 64)            256       \n",
            "                                                                 \n",
            " max_pooling1d_30 (MaxPooli  (None, 19, 64)            0         \n",
            " ng1D)                                                           \n",
            "                                                                 \n",
            " dropout_28 (Dropout)        (None, 19, 64)            0         \n",
            "                                                                 \n",
            " flatten_28 (Flatten)        (None, 1216)              0         \n",
            "                                                                 \n",
            " dense_56 (Dense)            (None, 100)               121700    \n",
            "                                                                 \n",
            " dense_57 (Dense)            (None, 8)                 808       \n",
            "                                                                 \n",
            "=================================================================\n",
            "Total params: 122764 (479.55 KB)\n",
            "Trainable params: 122764 (479.55 KB)\n",
            "Non-trainable params: 0 (0.00 Byte)\n",
            "_________________________________________________________________\n"
          ]
        }
      ],
      "source": [
        "from tensorflow.keras.models import Sequential\n",
        "from tensorflow.keras.layers import Conv1D, MaxPooling1D, Flatten, Dense, Dropout\n",
        "from tensorflow.keras.utils import to_categorical\n",
        "\n",
        "\n",
        "y_train_categorical = to_categorical(y_train, num_classes=8)\n",
        "y_test_categorical = to_categorical(y_test, num_classes=8)\n",
        "\n",
        "model = Sequential([\n",
        "    Conv1D(filters=64, kernel_size=3, activation='relu', input_shape=(40, 1)),\n",
        "    MaxPooling1D(pool_size=2),\n",
        "    Dropout(0.5),\n",
        "    Flatten(),\n",
        "    Dense(100, activation='relu'),\n",
        "    Dense(8, activation='softmax')\n",
        "])\n",
        "model.summary()"
      ]
    },
    {
      "cell_type": "code",
      "execution_count": null,
      "metadata": {
        "id": "F4ZnTnbjKwSB",
        "outputId": "33bdc042-28d8-4d69-a007-03ce4343cb7f"
      },
      "outputs": [
        {
          "name": "stdout",
          "output_type": "stream",
          "text": [
            "Epoch 1/50\n"
          ]
        },
        {
          "name": "stdout",
          "output_type": "stream",
          "text": [
            "5/5 [==============================] - 0s 22ms/step - loss: 2.1035 - accuracy: 0.1250 - val_loss: 2.0459 - val_accuracy: 0.2000\n",
            "Epoch 2/50\n",
            "5/5 [==============================] - 0s 7ms/step - loss: 1.9617 - accuracy: 0.2875 - val_loss: 2.0636 - val_accuracy: 0.2500\n",
            "Epoch 3/50\n",
            "5/5 [==============================] - 0s 6ms/step - loss: 1.8097 - accuracy: 0.4187 - val_loss: 2.0051 - val_accuracy: 0.3000\n",
            "Epoch 4/50\n",
            "5/5 [==============================] - 0s 5ms/step - loss: 1.7022 - accuracy: 0.4313 - val_loss: 1.8830 - val_accuracy: 0.3250\n",
            "Epoch 5/50\n",
            "5/5 [==============================] - 0s 4ms/step - loss: 1.5971 - accuracy: 0.5000 - val_loss: 1.8164 - val_accuracy: 0.3250\n",
            "Epoch 6/50\n",
            "5/5 [==============================] - 0s 5ms/step - loss: 1.4994 - accuracy: 0.4500 - val_loss: 1.7913 - val_accuracy: 0.3500\n",
            "Epoch 7/50\n",
            "5/5 [==============================] - 0s 5ms/step - loss: 1.4107 - accuracy: 0.4875 - val_loss: 1.7205 - val_accuracy: 0.3750\n",
            "Epoch 8/50\n",
            "5/5 [==============================] - 0s 5ms/step - loss: 1.3152 - accuracy: 0.5312 - val_loss: 1.6116 - val_accuracy: 0.3750\n",
            "Epoch 9/50\n",
            "5/5 [==============================] - 0s 5ms/step - loss: 1.2495 - accuracy: 0.5437 - val_loss: 1.5906 - val_accuracy: 0.3500\n",
            "Epoch 10/50\n",
            "5/5 [==============================] - 0s 5ms/step - loss: 1.2024 - accuracy: 0.5688 - val_loss: 1.5473 - val_accuracy: 0.4250\n",
            "Epoch 11/50\n",
            "5/5 [==============================] - 0s 5ms/step - loss: 1.1821 - accuracy: 0.5875 - val_loss: 1.4775 - val_accuracy: 0.4250\n",
            "Epoch 12/50\n",
            "5/5 [==============================] - 0s 5ms/step - loss: 1.1011 - accuracy: 0.6125 - val_loss: 1.4052 - val_accuracy: 0.5250\n",
            "Epoch 13/50\n",
            "5/5 [==============================] - 0s 5ms/step - loss: 1.0341 - accuracy: 0.6250 - val_loss: 1.3963 - val_accuracy: 0.4750\n",
            "Epoch 14/50\n",
            "5/5 [==============================] - 0s 5ms/step - loss: 1.0093 - accuracy: 0.6187 - val_loss: 1.3617 - val_accuracy: 0.4750\n",
            "Epoch 15/50\n",
            "5/5 [==============================] - 0s 5ms/step - loss: 0.9385 - accuracy: 0.7250 - val_loss: 1.3133 - val_accuracy: 0.5500\n",
            "Epoch 16/50\n",
            "5/5 [==============================] - 0s 5ms/step - loss: 0.9596 - accuracy: 0.6187 - val_loss: 1.2949 - val_accuracy: 0.5250\n",
            "Epoch 17/50\n",
            "5/5 [==============================] - 0s 5ms/step - loss: 0.8911 - accuracy: 0.6625 - val_loss: 1.2678 - val_accuracy: 0.5250\n",
            "Epoch 18/50\n",
            "5/5 [==============================] - 0s 5ms/step - loss: 0.8382 - accuracy: 0.6875 - val_loss: 1.3114 - val_accuracy: 0.5250\n",
            "Epoch 19/50\n",
            "5/5 [==============================] - 0s 5ms/step - loss: 0.8047 - accuracy: 0.7125 - val_loss: 1.2420 - val_accuracy: 0.6000\n",
            "Epoch 20/50\n",
            "5/5 [==============================] - 0s 5ms/step - loss: 0.8188 - accuracy: 0.7063 - val_loss: 1.1765 - val_accuracy: 0.5500\n",
            "Epoch 21/50\n",
            "5/5 [==============================] - 0s 5ms/step - loss: 0.7640 - accuracy: 0.7250 - val_loss: 1.1767 - val_accuracy: 0.5250\n",
            "Epoch 22/50\n",
            "5/5 [==============================] - 0s 5ms/step - loss: 0.7310 - accuracy: 0.7688 - val_loss: 1.1813 - val_accuracy: 0.5750\n",
            "Epoch 23/50\n",
            "5/5 [==============================] - 0s 5ms/step - loss: 0.7571 - accuracy: 0.7063 - val_loss: 1.1502 - val_accuracy: 0.5750\n",
            "Epoch 24/50\n",
            "5/5 [==============================] - 0s 5ms/step - loss: 0.6708 - accuracy: 0.7812 - val_loss: 1.0773 - val_accuracy: 0.6000\n",
            "Epoch 25/50\n",
            "5/5 [==============================] - 0s 5ms/step - loss: 0.6551 - accuracy: 0.8000 - val_loss: 1.1438 - val_accuracy: 0.5250\n",
            "Epoch 26/50\n",
            "5/5 [==============================] - 0s 5ms/step - loss: 0.6221 - accuracy: 0.8000 - val_loss: 1.1102 - val_accuracy: 0.5250\n",
            "Epoch 27/50\n",
            "5/5 [==============================] - 0s 5ms/step - loss: 0.6045 - accuracy: 0.8125 - val_loss: 1.0198 - val_accuracy: 0.6000\n",
            "Epoch 28/50\n",
            "5/5 [==============================] - 0s 5ms/step - loss: 0.5913 - accuracy: 0.8062 - val_loss: 0.9829 - val_accuracy: 0.6250\n",
            "Epoch 29/50\n",
            "5/5 [==============================] - 0s 5ms/step - loss: 0.5998 - accuracy: 0.8438 - val_loss: 1.1040 - val_accuracy: 0.5000\n",
            "Epoch 30/50\n",
            "5/5 [==============================] - 0s 5ms/step - loss: 0.5870 - accuracy: 0.8125 - val_loss: 1.0669 - val_accuracy: 0.5250\n",
            "Epoch 31/50\n",
            "5/5 [==============================] - 0s 5ms/step - loss: 0.5079 - accuracy: 0.8625 - val_loss: 1.0470 - val_accuracy: 0.5500\n",
            "Epoch 32/50\n",
            "5/5 [==============================] - 0s 5ms/step - loss: 0.5144 - accuracy: 0.8188 - val_loss: 0.9930 - val_accuracy: 0.5500\n",
            "Epoch 33/50\n",
            "5/5 [==============================] - 0s 5ms/step - loss: 0.5087 - accuracy: 0.8687 - val_loss: 0.9818 - val_accuracy: 0.6250\n",
            "Epoch 34/50\n",
            "5/5 [==============================] - 0s 5ms/step - loss: 0.5027 - accuracy: 0.8313 - val_loss: 1.0442 - val_accuracy: 0.6000\n",
            "Epoch 35/50\n",
            "5/5 [==============================] - 0s 5ms/step - loss: 0.4475 - accuracy: 0.8562 - val_loss: 0.9626 - val_accuracy: 0.6000\n",
            "Epoch 36/50\n",
            "5/5 [==============================] - 0s 5ms/step - loss: 0.4633 - accuracy: 0.8250 - val_loss: 0.9491 - val_accuracy: 0.5750\n",
            "Epoch 37/50\n",
            "5/5 [==============================] - 0s 5ms/step - loss: 0.4642 - accuracy: 0.8625 - val_loss: 0.9260 - val_accuracy: 0.5750\n",
            "Epoch 38/50\n",
            "5/5 [==============================] - 0s 5ms/step - loss: 0.4335 - accuracy: 0.8687 - val_loss: 1.0836 - val_accuracy: 0.6250\n",
            "Epoch 39/50\n",
            "5/5 [==============================] - 0s 5ms/step - loss: 0.4490 - accuracy: 0.8438 - val_loss: 0.9967 - val_accuracy: 0.5500\n",
            "Epoch 40/50\n",
            "5/5 [==============================] - 0s 5ms/step - loss: 0.3900 - accuracy: 0.8875 - val_loss: 0.9162 - val_accuracy: 0.5750\n",
            "Epoch 41/50\n",
            "5/5 [==============================] - 0s 5ms/step - loss: 0.3809 - accuracy: 0.8750 - val_loss: 0.9513 - val_accuracy: 0.5750\n",
            "Epoch 42/50\n",
            "5/5 [==============================] - 0s 5ms/step - loss: 0.3955 - accuracy: 0.8813 - val_loss: 1.0336 - val_accuracy: 0.5500\n",
            "Epoch 43/50\n",
            "5/5 [==============================] - 0s 5ms/step - loss: 0.3127 - accuracy: 0.9125 - val_loss: 1.0288 - val_accuracy: 0.5750\n",
            "Epoch 44/50\n",
            "5/5 [==============================] - 0s 5ms/step - loss: 0.3468 - accuracy: 0.9250 - val_loss: 0.9076 - val_accuracy: 0.6000\n",
            "Epoch 45/50\n",
            "5/5 [==============================] - 0s 5ms/step - loss: 0.3406 - accuracy: 0.9125 - val_loss: 0.8713 - val_accuracy: 0.5750\n",
            "Epoch 46/50\n",
            "5/5 [==============================] - 0s 5ms/step - loss: 0.3495 - accuracy: 0.8938 - val_loss: 0.9223 - val_accuracy: 0.6250\n",
            "Epoch 47/50\n",
            "5/5 [==============================] - 0s 5ms/step - loss: 0.3325 - accuracy: 0.8875 - val_loss: 0.9585 - val_accuracy: 0.6250\n",
            "Epoch 48/50\n",
            "5/5 [==============================] - 0s 5ms/step - loss: 0.2787 - accuracy: 0.9375 - val_loss: 0.8925 - val_accuracy: 0.5750\n",
            "Epoch 49/50\n",
            "5/5 [==============================] - 0s 8ms/step - loss: 0.3567 - accuracy: 0.9062 - val_loss: 0.8612 - val_accuracy: 0.6000\n",
            "Epoch 50/50\n",
            "5/5 [==============================] - 0s 6ms/step - loss: 0.2886 - accuracy: 0.9312 - val_loss: 0.9450 - val_accuracy: 0.6000\n"
          ]
        }
      ],
      "source": [
        "from tensorflow.keras.callbacks import EarlyStopping\n",
        "\n",
        "model.compile(optimizer='adam', loss='categorical_crossentropy', metrics=['accuracy'])\n",
        "\n",
        "early_stopping = EarlyStopping(monitor='val_loss', patience=10, verbose=1, mode='min', restore_best_weights=True)\n",
        "\n",
        "history = model.fit(X_train, y_train_categorical, epochs=50, validation_data=(X_test, y_test_categorical),\n",
        "                    callbacks=[early_stopping], verbose=1)\n"
      ]
    },
    {
      "cell_type": "code",
      "execution_count": null,
      "metadata": {
        "id": "ZrBHtYoFKwSC",
        "outputId": "a482b0bb-2aa3-46f9-bd5c-812d6c93a5a9"
      },
      "outputs": [
        {
          "name": "stdout",
          "output_type": "stream",
          "text": [
            "Model: \"sequential_29\"\n",
            "_________________________________________________________________\n",
            " Layer (type)                Output Shape              Param #   \n",
            "=================================================================\n",
            " conv1d_31 (Conv1D)          (None, 38, 64)            256       \n",
            "                                                                 \n",
            " max_pooling1d_31 (MaxPooli  (None, 19, 64)            0         \n",
            " ng1D)                                                           \n",
            "                                                                 \n",
            " dropout_29 (Dropout)        (None, 19, 64)            0         \n",
            "                                                                 \n",
            " flatten_29 (Flatten)        (None, 1216)              0         \n",
            "                                                                 \n",
            " dense_58 (Dense)            (None, 100)               121700    \n",
            "                                                                 \n",
            " dense_59 (Dense)            (None, 8)                 808       \n",
            "                                                                 \n",
            "=================================================================\n",
            "Total params: 122764 (479.55 KB)\n",
            "Trainable params: 122764 (479.55 KB)\n",
            "Non-trainable params: 0 (0.00 Byte)\n",
            "_________________________________________________________________\n"
          ]
        }
      ],
      "source": [
        "from tensorflow.keras import regularizers\n",
        "\n",
        "# CNN model with L2 regularization in the Dense layers\n",
        "model = Sequential([\n",
        "    Conv1D(filters=64, kernel_size=3, activation='relu', input_shape=(40, 1)),\n",
        "    MaxPooling1D(pool_size=2),\n",
        "    Dropout(0.5),\n",
        "    Flatten(),\n",
        "    Dense(100, activation='relu', kernel_regularizer=regularizers.l2(0.001)),  # Add L2 regularization\n",
        "    Dense(8, activation='softmax')\n",
        "])\n",
        "\n",
        "model.compile(optimizer='adam', loss='categorical_crossentropy', metrics=['accuracy'])\n",
        "\n",
        "model.summary()\n"
      ]
    },
    {
      "cell_type": "code",
      "execution_count": null,
      "metadata": {
        "id": "qv4DkSjSKwSC",
        "outputId": "7a0e75c7-f7f9-4dce-e62b-a13ff6951782"
      },
      "outputs": [
        {
          "name": "stdout",
          "output_type": "stream",
          "text": [
            "Epoch 1/50\n",
            "5/5 [==============================] - 0s 25ms/step - loss: 2.3041 - accuracy: 0.1437 - val_loss: 2.2884 - val_accuracy: 0.1500\n",
            "Epoch 2/50\n",
            "5/5 [==============================] - 0s 5ms/step - loss: 2.1067 - accuracy: 0.3125 - val_loss: 2.1625 - val_accuracy: 0.2250\n",
            "Epoch 3/50\n",
            "5/5 [==============================] - 0s 5ms/step - loss: 1.9844 - accuracy: 0.3688 - val_loss: 2.1107 - val_accuracy: 0.2250\n",
            "Epoch 4/50\n",
            "5/5 [==============================] - 0s 5ms/step - loss: 1.8649 - accuracy: 0.4187 - val_loss: 2.0424 - val_accuracy: 0.2000\n",
            "Epoch 5/50\n",
            "5/5 [==============================] - 0s 5ms/step - loss: 1.7550 - accuracy: 0.4437 - val_loss: 1.9486 - val_accuracy: 0.3000\n",
            "Epoch 6/50\n",
            "5/5 [==============================] - 0s 5ms/step - loss: 1.6412 - accuracy: 0.4812 - val_loss: 1.9294 - val_accuracy: 0.3500\n",
            "Epoch 7/50\n",
            "5/5 [==============================] - 0s 4ms/step - loss: 1.5668 - accuracy: 0.5063 - val_loss: 1.8934 - val_accuracy: 0.3250\n",
            "Epoch 8/50\n",
            "5/5 [==============================] - 0s 4ms/step - loss: 1.4996 - accuracy: 0.5813 - val_loss: 1.7565 - val_accuracy: 0.4500\n",
            "Epoch 9/50\n",
            "5/5 [==============================] - 0s 4ms/step - loss: 1.4290 - accuracy: 0.5500 - val_loss: 1.7413 - val_accuracy: 0.4250\n",
            "Epoch 10/50\n",
            "5/5 [==============================] - 0s 4ms/step - loss: 1.3843 - accuracy: 0.5813 - val_loss: 1.7591 - val_accuracy: 0.4750\n",
            "Epoch 11/50\n",
            "5/5 [==============================] - 0s 5ms/step - loss: 1.3245 - accuracy: 0.5875 - val_loss: 1.5917 - val_accuracy: 0.4750\n",
            "Epoch 12/50\n",
            "5/5 [==============================] - 0s 4ms/step - loss: 1.2525 - accuracy: 0.6250 - val_loss: 1.5532 - val_accuracy: 0.5000\n",
            "Epoch 13/50\n",
            "5/5 [==============================] - 0s 4ms/step - loss: 1.2116 - accuracy: 0.5938 - val_loss: 1.6388 - val_accuracy: 0.4000\n",
            "Epoch 14/50\n",
            "5/5 [==============================] - 0s 5ms/step - loss: 1.2003 - accuracy: 0.6375 - val_loss: 1.5353 - val_accuracy: 0.4500\n",
            "Epoch 15/50\n",
            "5/5 [==============================] - 0s 5ms/step - loss: 1.1249 - accuracy: 0.6438 - val_loss: 1.4663 - val_accuracy: 0.5250\n",
            "Epoch 16/50\n",
            "5/5 [==============================] - 0s 5ms/step - loss: 1.1044 - accuracy: 0.7000 - val_loss: 1.4898 - val_accuracy: 0.4500\n",
            "Epoch 17/50\n",
            "5/5 [==============================] - 0s 5ms/step - loss: 1.0657 - accuracy: 0.7063 - val_loss: 1.4431 - val_accuracy: 0.4500\n",
            "Epoch 18/50\n",
            "5/5 [==============================] - 0s 5ms/step - loss: 1.0523 - accuracy: 0.6938 - val_loss: 1.3536 - val_accuracy: 0.5500\n",
            "Epoch 19/50\n",
            "5/5 [==============================] - 0s 5ms/step - loss: 1.0015 - accuracy: 0.7250 - val_loss: 1.3826 - val_accuracy: 0.5000\n",
            "Epoch 20/50\n",
            "5/5 [==============================] - 0s 5ms/step - loss: 0.9396 - accuracy: 0.7375 - val_loss: 1.4006 - val_accuracy: 0.5000\n",
            "Epoch 21/50\n",
            "5/5 [==============================] - 0s 5ms/step - loss: 0.9297 - accuracy: 0.7563 - val_loss: 1.3706 - val_accuracy: 0.5250\n",
            "Epoch 22/50\n",
            "5/5 [==============================] - 0s 5ms/step - loss: 0.9281 - accuracy: 0.7563 - val_loss: 1.3086 - val_accuracy: 0.5500\n",
            "Epoch 23/50\n",
            "5/5 [==============================] - 0s 5ms/step - loss: 0.8757 - accuracy: 0.8125 - val_loss: 1.3268 - val_accuracy: 0.4750\n",
            "Epoch 24/50\n",
            "5/5 [==============================] - 0s 5ms/step - loss: 0.8277 - accuracy: 0.7812 - val_loss: 1.3094 - val_accuracy: 0.5500\n",
            "Epoch 25/50\n",
            "5/5 [==============================] - 0s 5ms/step - loss: 0.8032 - accuracy: 0.8000 - val_loss: 1.2433 - val_accuracy: 0.6000\n",
            "Epoch 26/50\n",
            "5/5 [==============================] - 0s 7ms/step - loss: 0.8100 - accuracy: 0.7688 - val_loss: 1.3096 - val_accuracy: 0.5250\n",
            "Epoch 27/50\n",
            "5/5 [==============================] - 0s 8ms/step - loss: 0.8040 - accuracy: 0.8000 - val_loss: 1.3558 - val_accuracy: 0.4750\n",
            "Epoch 28/50\n",
            "5/5 [==============================] - 0s 5ms/step - loss: 0.8076 - accuracy: 0.8000 - val_loss: 1.2069 - val_accuracy: 0.5000\n",
            "Epoch 29/50\n",
            "5/5 [==============================] - 0s 5ms/step - loss: 0.7916 - accuracy: 0.7937 - val_loss: 1.1479 - val_accuracy: 0.6500\n",
            "Epoch 30/50\n",
            "5/5 [==============================] - 0s 5ms/step - loss: 0.7246 - accuracy: 0.8500 - val_loss: 1.2797 - val_accuracy: 0.5500\n",
            "Epoch 31/50\n",
            "5/5 [==============================] - 0s 5ms/step - loss: 0.7055 - accuracy: 0.8125 - val_loss: 1.2357 - val_accuracy: 0.5250\n",
            "Epoch 32/50\n",
            "5/5 [==============================] - 0s 5ms/step - loss: 0.7257 - accuracy: 0.8250 - val_loss: 1.1303 - val_accuracy: 0.6500\n",
            "Epoch 33/50\n",
            "5/5 [==============================] - 0s 5ms/step - loss: 0.7373 - accuracy: 0.8313 - val_loss: 1.1847 - val_accuracy: 0.5750\n",
            "Epoch 34/50\n",
            "5/5 [==============================] - 0s 5ms/step - loss: 0.7149 - accuracy: 0.8188 - val_loss: 1.2973 - val_accuracy: 0.6000\n",
            "Epoch 35/50\n",
            "5/5 [==============================] - 0s 5ms/step - loss: 0.6656 - accuracy: 0.8438 - val_loss: 1.1274 - val_accuracy: 0.6750\n",
            "Epoch 36/50\n",
            "5/5 [==============================] - 0s 5ms/step - loss: 0.6945 - accuracy: 0.8250 - val_loss: 1.1213 - val_accuracy: 0.5500\n",
            "Epoch 37/50\n",
            "5/5 [==============================] - 0s 5ms/step - loss: 0.6545 - accuracy: 0.8750 - val_loss: 1.1433 - val_accuracy: 0.5500\n",
            "Epoch 38/50\n",
            "5/5 [==============================] - 0s 5ms/step - loss: 0.6121 - accuracy: 0.8875 - val_loss: 1.1332 - val_accuracy: 0.5500\n",
            "Epoch 39/50\n",
            "5/5 [==============================] - 0s 5ms/step - loss: 0.6067 - accuracy: 0.8875 - val_loss: 1.1276 - val_accuracy: 0.5500\n",
            "Epoch 40/50\n",
            "5/5 [==============================] - 0s 5ms/step - loss: 0.6416 - accuracy: 0.8687 - val_loss: 1.0809 - val_accuracy: 0.6250\n",
            "Epoch 41/50\n",
            "5/5 [==============================] - 0s 5ms/step - loss: 0.5923 - accuracy: 0.8813 - val_loss: 1.1226 - val_accuracy: 0.5250\n",
            "Epoch 42/50\n",
            "5/5 [==============================] - 0s 5ms/step - loss: 0.5264 - accuracy: 0.9062 - val_loss: 1.0387 - val_accuracy: 0.6000\n",
            "Epoch 43/50\n",
            "5/5 [==============================] - 0s 5ms/step - loss: 0.5637 - accuracy: 0.9062 - val_loss: 1.0778 - val_accuracy: 0.5500\n",
            "Epoch 44/50\n",
            "5/5 [==============================] - 0s 5ms/step - loss: 0.5608 - accuracy: 0.8938 - val_loss: 1.0684 - val_accuracy: 0.5750\n",
            "Epoch 45/50\n",
            "5/5 [==============================] - 0s 5ms/step - loss: 0.5647 - accuracy: 0.9125 - val_loss: 1.0830 - val_accuracy: 0.5500\n",
            "Epoch 46/50\n",
            "5/5 [==============================] - 0s 5ms/step - loss: 0.5715 - accuracy: 0.8813 - val_loss: 1.2254 - val_accuracy: 0.6250\n",
            "Epoch 47/50\n",
            "5/5 [==============================] - 0s 5ms/step - loss: 0.5587 - accuracy: 0.9312 - val_loss: 1.1167 - val_accuracy: 0.5750\n",
            "Epoch 48/50\n",
            "5/5 [==============================] - 0s 5ms/step - loss: 0.5018 - accuracy: 0.9125 - val_loss: 1.0438 - val_accuracy: 0.6000\n",
            "Epoch 49/50\n",
            "5/5 [==============================] - 0s 5ms/step - loss: 0.5462 - accuracy: 0.8687 - val_loss: 1.0589 - val_accuracy: 0.6250\n",
            "Epoch 50/50\n",
            "5/5 [==============================] - 0s 5ms/step - loss: 0.5158 - accuracy: 0.9062 - val_loss: 1.1114 - val_accuracy: 0.5750\n"
          ]
        }
      ],
      "source": [
        "from tensorflow.keras.callbacks import EarlyStopping\n",
        "\n",
        "model.compile(optimizer='adam', loss='categorical_crossentropy', metrics=['accuracy'])\n",
        "\n",
        "\n",
        "history = model.fit(X_train, y_train_categorical, epochs=50, validation_data=(X_test, y_test_categorical), verbose=1)\n"
      ]
    },
    {
      "cell_type": "code",
      "execution_count": null,
      "metadata": {
        "id": "gGNGmMthKwSC",
        "outputId": "b8cd832e-16d6-4e3f-cc2e-ffd30c7b54fa"
      },
      "outputs": [
        {
          "name": "stdout",
          "output_type": "stream",
          "text": [
            "       loss  accuracy  val_loss  val_accuracy  epoch\n",
            "0  2.304106   0.14375  2.288362         0.150      1\n",
            "1  2.106720   0.31250  2.162468         0.225      2\n",
            "2  1.984388   0.36875  2.110727         0.225      3\n",
            "3  1.864938   0.41875  2.042361         0.200      4\n",
            "4  1.755023   0.44375  1.948632         0.300      5\n"
          ]
        }
      ],
      "source": [
        "history_df = pd.DataFrame(history.history)\n",
        "\n",
        "history_df['epoch'] = history_df.index + 1\n",
        "\n",
        "print(history_df.head())\n",
        "\n",
        "history_df.to_csv('/Users/anovayoungers/Downloads/model_performance.csv', index=False)"
      ]
    },
    {
      "cell_type": "markdown",
      "metadata": {
        "id": "73s6cFFMKwSC"
      },
      "source": [
        "Lets create synthetic samples as if a reading was coming through the sensors live."
      ]
    },
    {
      "cell_type": "code",
      "execution_count": null,
      "metadata": {
        "id": "CzqzqCKKKwSC",
        "outputId": "4c857cec-4291-453a-c597-9e4ca2e9f2ec"
      },
      "outputs": [
        {
          "name": "stdout",
          "output_type": "stream",
          "text": [
            "      acc_x     acc_y     acc_z     gyr_x     gyr_y     gyr_z     mag_x  \\\n",
            "0  0.258871  1.328488  0.190607 -0.299352  0.031908 -0.028571 -0.780329   \n",
            "1  0.237258  1.534575  0.169623 -0.281724 -0.016888 -0.038678 -0.763593   \n",
            "2  0.186301  1.374718  0.139234 -0.392723  0.007538 -0.014856 -0.787381   \n",
            "3  0.274707  1.434101  0.154760 -0.277491 -0.002590 -0.029467 -0.773937   \n",
            "4  0.223313  1.377678  0.288355 -0.247847  0.001788 -0.027971 -0.747115   \n",
            "\n",
            "      mag_y     mag_z  \n",
            "0 -1.429611 -0.094877  \n",
            "1 -1.540772 -0.107004  \n",
            "2 -1.648746 -0.091897  \n",
            "3 -1.487969 -0.106443  \n",
            "4 -1.537936 -0.074722  \n"
          ]
        }
      ],
      "source": [
        "# generating synthetic data for 'current sensor data readings'\n",
        "means = [0.2, 1.4, 0.2, -0.3, 0, -0.02, -0.76, -1.5, -0.09]\n",
        "stds = [0.05, 0.1, 0.05, 0.1, 0.02, 0.01, 0.02, 0.1, 0.01]\n",
        "\n",
        "synthetic_data = np.random.normal(loc=means, scale=stds, size=(10, len(means)))\n",
        "\n",
        "synthetic_df = pd.DataFrame(synthetic_data, columns=['acc_x', 'acc_y', 'acc_z', 'gyr_x', 'gyr_y', 'gyr_z', 'mag_x', 'mag_y', 'mag_z'])\n",
        "\n",
        "print(synthetic_df.head())\n"
      ]
    },
    {
      "cell_type": "code",
      "execution_count": null,
      "metadata": {
        "id": "0Je0Umq9KwSC",
        "outputId": "3e620133-30ad-4dab-bf13-e41c235319dd"
      },
      "outputs": [
        {
          "name": "stdout",
          "output_type": "stream",
          "text": [
            "   acc_x_mean  acc_x_std  acc_x_min  acc_x_max  acc_y_mean  acc_y_std  \\\n",
            "0   -0.125166   1.085041   0.328905  -1.392720   -0.173711   0.899211   \n",
            "1    0.779555   0.594391  -0.203246   0.095623   -0.269346   0.477278   \n",
            "2    0.219298   1.485257  -0.655670  -0.023361   -0.158662  -0.545164   \n",
            "3   -1.050656   0.978862   0.661692   1.874086   -0.074436  -0.899058   \n",
            "4    0.039498   1.791996   1.544367   0.389965   -0.238616  -1.025891   \n",
            "\n",
            "   acc_y_min  acc_y_max  acc_z_mean  acc_z_std  ...  mag_y_min  mag_y_max  \\\n",
            "0   0.659669   0.620400   -0.604555   0.539531  ...   1.233511  -0.090257   \n",
            "1   0.217434  -0.301738   -1.145459  -0.219115  ...  -1.690992  -0.856931   \n",
            "2   0.782691   1.901739   -0.226673   0.083525  ...   0.156749   1.199886   \n",
            "3  -1.181434   0.238315    1.264969  -1.186619  ...   0.182253  -0.667644   \n",
            "4   0.527952   2.015044    0.971850  -1.629816  ...   1.316048   1.706599   \n",
            "\n",
            "   mag_z_mean  mag_z_std  mag_z_min  mag_z_max  time index_mean  \\\n",
            "0    0.686850   0.315992  -0.365071  -0.766734           2975.0   \n",
            "1   -1.187066   2.178362  -0.285512  -1.225673           2975.0   \n",
            "2   -0.833263  -1.217084  -0.521653   0.290544           2975.0   \n",
            "3    0.600853   1.207990  -0.714292   1.023856           2975.0   \n",
            "4   -1.502574   1.030887   1.072774  -0.774293           2975.0   \n",
            "\n",
            "   time index_std  time index_min  time index_max  \n",
            "0     1717.472707             1.0          5949.0  \n",
            "1     1717.472707             1.0          5949.0  \n",
            "2     1717.472707             1.0          5949.0  \n",
            "3     1717.472707             1.0          5949.0  \n",
            "4     1717.472707             1.0          5949.0  \n",
            "\n",
            "[5 rows x 40 columns]\n"
          ]
        }
      ],
      "source": [
        "sensor_stats = np.random.normal(0, 1, size=(10, 36))\n",
        "\n",
        "# Generate the fixed time index stats for all instances\n",
        "time_index_stats = np.array([[2975.0, 1717.472707, 1, 5949]] * 10)\n",
        "\n",
        "synthetic_data = np.concatenate((sensor_stats, time_index_stats), axis=1)\n",
        "\n",
        "column_names = ['acc_x_mean', 'acc_x_std', 'acc_x_min', 'acc_x_max',\n",
        "                'acc_y_mean', 'acc_y_std', 'acc_y_min', 'acc_y_max',\n",
        "                'acc_z_mean', 'acc_z_std', 'acc_z_min', 'acc_z_max',\n",
        "                'gyr_x_mean', 'gyr_x_std', 'gyr_x_min', 'gyr_x_max',\n",
        "                'gyr_y_mean', 'gyr_y_std', 'gyr_y_min', 'gyr_y_max',\n",
        "                'gyr_z_mean', 'gyr_z_std', 'gyr_z_min', 'gyr_z_max',\n",
        "                'mag_x_mean', 'mag_x_std', 'mag_x_min', 'mag_x_max',\n",
        "                'mag_y_mean', 'mag_y_std', 'mag_y_min', 'mag_y_max',\n",
        "                'mag_z_mean', 'mag_z_std', 'mag_z_min', 'mag_z_max',\n",
        "                'time index_mean', 'time index_std', 'time index_min', 'time index_max']\n",
        "\n",
        "synthetic_df = pd.DataFrame(synthetic_data, columns=column_names)\n",
        "\n",
        "print(synthetic_df.head())\n"
      ]
    },
    {
      "cell_type": "code",
      "execution_count": null,
      "metadata": {
        "id": "InDrAXZVKwSC",
        "outputId": "623db6ce-7aa7-4536-f215-5b8f29a50447"
      },
      "outputs": [
        {
          "name": "stdout",
          "output_type": "stream",
          "text": [
            "1/1 [==============================] - 0s 34ms/step\n"
          ]
        },
        {
          "name": "stderr",
          "output_type": "stream",
          "text": [
            "/Users/anovayoungers/anaconda3/lib/python3.11/site-packages/sklearn/base.py:465: UserWarning: X does not have valid feature names, but StandardScaler was fitted with feature names\n",
            "  warnings.warn(\n"
          ]
        }
      ],
      "source": [
        "X_synthetic_scaled = scaler.transform(synthetic_df.values)\n",
        "\n",
        "X_synthetic_reshaped = synthetic_df.values.reshape((synthetic_df.shape[0], synthetic_df.shape[1], 1))\n",
        "\n",
        "# Predict exercise types\n",
        "predictions = model.predict(X_synthetic_reshaped)\n",
        "predicted_classes = np.argmax(predictions, axis=1)\n",
        "\n",
        "predicted_labels = label_encoder.inverse_transform(predicted_classes)\n"
      ]
    },
    {
      "cell_type": "code",
      "execution_count": null,
      "metadata": {
        "id": "WBLs6YEFKwSC"
      },
      "outputs": [],
      "source": [
        "# Adding predicted labels to the df\n",
        "synthetic_df['Predicted Exercise'] = predicted_labels\n",
        "\n",
        "# Export for  tableau\n",
        "synthetic_df.to_csv('/Users/anovayoungers/Downloads/synthetic_data_with_predictions.csv', index=False)\n"
      ]
    }
  ],
  "metadata": {
    "kernelspec": {
      "display_name": "base",
      "language": "python",
      "name": "python3"
    },
    "language_info": {
      "codemirror_mode": {
        "name": "ipython",
        "version": 3
      },
      "file_extension": ".py",
      "mimetype": "text/x-python",
      "name": "python",
      "nbconvert_exporter": "python",
      "pygments_lexer": "ipython3",
      "version": "3.11.4"
    },
    "colab": {
      "provenance": [],
      "include_colab_link": true
    }
  },
  "nbformat": 4,
  "nbformat_minor": 0
}